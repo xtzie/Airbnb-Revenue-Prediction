{
 "cells": [
  {
   "cell_type": "markdown",
   "metadata": {},
   "source": [
    "# Exploratory Data Analysis & Cleaning\n",
    "\n",
    "did le-son use review and description together for topic modelling?  "
   ]
  },
  {
   "cell_type": "markdown",
   "metadata": {},
   "source": [
    "### loading data"
   ]
  },
  {
   "cell_type": "code",
   "execution_count": 1,
   "metadata": {
    "ExecuteTime": {
     "end_time": "2020-03-22T02:11:44.065619Z",
     "start_time": "2020-03-22T02:11:41.878421Z"
    }
   },
   "outputs": [
    {
     "name": "stdout",
     "output_type": "stream",
     "text": [
      "sf (8587, 106)\n",
      "<class 'pandas.core.frame.DataFrame'>\n",
      "RangeIndex: 8587 entries, 0 to 8586\n",
      "Columns: 106 entries, id to reviews_per_month\n",
      "dtypes: float64(20), int64(23), object(63)\n",
      "memory usage: 6.9+ MB\n"
     ]
    },
    {
     "name": "stderr",
     "output_type": "stream",
     "text": [
      "/home/xtzie/anaconda3/envs/metis/lib/python3.7/site-packages/IPython/core/interactiveshell.py:3051: DtypeWarning: Columns (61,62) have mixed types. Specify dtype option on import or set low_memory=False.\n",
      "  interactivity=interactivity, compiler=compiler, result=result)\n"
     ]
    }
   ],
   "source": [
    "import pandas as pd\n",
    "import numpy as np\n",
    "import matplotlib.pyplot as plt\n",
    "import seaborn as sns\n",
    "\n",
    "from sklearn.preprocessing import QuantileTransformer, PowerTransformer\n",
    "\n",
    "pd.set_option('max_columns', 100)\n",
    "pd.set_option('max_rows', 110)\n",
    "\n",
    "lapath = 'data/losangeles-13feb/listings (1).csv'\n",
    "pathname = 'data/sf-12feb/listings (1).csv'\n",
    "nypath = 'data/newyork-12feb/listings (1).csv'\n",
    "\n",
    "df = pd.read_csv(pathname)\n",
    "print('sf', df.shape)\n",
    "df.info()\n"
   ]
  },
  {
   "cell_type": "code",
   "execution_count": 2,
   "metadata": {
    "ExecuteTime": {
     "end_time": "2020-03-22T02:11:44.093092Z",
     "start_time": "2020-03-22T02:11:44.068935Z"
    }
   },
   "outputs": [],
   "source": [
    "#we drop columns that don't have bearing on the customer\n",
    "neededcolumns = ['id', 'listing_url', 'name', 'summary', 'space', 'description',\n",
    "                 'neighborhood_overview', 'notes', 'transit', 'access', 'interaction', 'house_rules', \n",
    "                 'host_id', 'host_url', 'host_since', 'host_about', 'host_response_time', \n",
    "                 'host_response_rate', 'host_acceptance_rate', 'host_is_superhost', 'host_neighbourhood',\n",
    "                'host_listings_count', 'host_has_profile_pic', 'host_identity_verified', \n",
    "                'neighbourhood_cleansed', 'zipcode', 'latitude', 'longitude', 'property_type', 'room_type', \n",
    "                'accommodates', 'bathrooms', 'bedrooms', 'beds', 'bed_type', 'amenities', 'price', 'weekly_price',\n",
    "                'security_deposit', 'cleaning_fee', 'guests_included', 'extra_people', 'minimum_nights', 'maximum_nights',\n",
    "                'number_of_reviews', 'number_of_reviews_ltm', 'first_review', 'last_review', 'review_scores_rating',\n",
    "                'instant_bookable', 'is_business_travel_ready', 'cancellation_policy', 'require_guest_profile_picture',\n",
    "                'require_guest_phone_verification', 'calculated_host_listings_count', 'reviews_per_month']\n",
    "\n",
    "df = df[neededcolumns]"
   ]
  },
  {
   "cell_type": "code",
   "execution_count": 3,
   "metadata": {
    "ExecuteTime": {
     "end_time": "2020-03-22T02:11:44.721635Z",
     "start_time": "2020-03-22T02:11:44.096301Z"
    }
   },
   "outputs": [],
   "source": [
    "import pandas_profiling\n",
    "#uncomment rows below if running for the first time\n",
    "\n",
    "# report = pandas_profiling.ProfileReport(df, html = {'style': {'full_width': True}})\n",
    "# report.to_file('data_summary.html')\n",
    "# report"
   ]
  },
  {
   "cell_type": "markdown",
   "metadata": {},
   "source": [
    "### Data Cleaning"
   ]
  },
  {
   "cell_type": "markdown",
   "metadata": {},
   "source": [
    "#### Cleaning data formats"
   ]
  },
  {
   "cell_type": "code",
   "execution_count": 4,
   "metadata": {
    "ExecuteTime": {
     "end_time": "2020-03-22T02:11:44.968327Z",
     "start_time": "2020-03-22T02:11:44.725819Z"
    }
   },
   "outputs": [],
   "source": [
    "#cleaning dollar formats\n",
    "#this does not deal with null values (due to try except function)\n",
    "#null values addressed later\n",
    "\n",
    "import re\n",
    "\n",
    "def dollarformat(x):\n",
    "    '''\n",
    "    convert currency strings into interger amounts\n",
    "    removes $ , and . \n",
    "    converts str into int\n",
    "    '''\n",
    "    try: \n",
    "        return round(int(re.sub('[$,,,.]', '', x))/100,1)\n",
    "    except:\n",
    "        return x\n",
    "\n",
    "df['cleaning_fee'] = df['cleaning_fee'].map(lambda x: dollarformat(x))\n",
    "df['security_deposit'] = df['security_deposit'].map(lambda x: dollarformat(x))\n",
    "\n",
    "df['extra_people'] = df['extra_people'].map(lambda x: dollarformat(x))\n",
    "\n",
    "df['price'] = df['price'].map(lambda x: dollarformat(x))\n",
    "df['weekly_price'] = df['weekly_price'].map(lambda x: dollarformat(x))"
   ]
  },
  {
   "cell_type": "code",
   "execution_count": 5,
   "metadata": {
    "ExecuteTime": {
     "end_time": "2020-03-22T02:11:45.001048Z",
     "start_time": "2020-03-22T02:11:44.970651Z"
    }
   },
   "outputs": [],
   "source": [
    "def responsetime(x):\n",
    "    if x == 'a few days or more':\n",
    "        return int(1)\n",
    "    elif x == 'within a day':\n",
    "        return int(2)\n",
    "    elif x == 'within a few hours':\n",
    "        return int(3)\n",
    "    elif x == 'within an hour':\n",
    "        return int(4)\n",
    "    else:\n",
    "        return x\n",
    "    \n",
    "df.host_response_time = df.host_response_time.map(lambda x : responsetime(x))"
   ]
  },
  {
   "cell_type": "code",
   "execution_count": 6,
   "metadata": {
    "ExecuteTime": {
     "end_time": "2020-03-22T02:11:45.098333Z",
     "start_time": "2020-03-22T02:11:45.003365Z"
    }
   },
   "outputs": [],
   "source": [
    "def percentage(x):\n",
    "    '''\n",
    "    convert % strings into interger amounts\n",
    "    removes % , and . \n",
    "    converts str into int\n",
    "    '''\n",
    "    try: \n",
    "        return round(int(re.sub('[%,,,.]', '', x))/100,2)\n",
    "    except:\n",
    "        return x\n",
    "\n",
    "df.host_acceptance_rate = df.host_acceptance_rate.map(lambda x: percentage(x))\n",
    "df.host_response_rate = df.host_response_rate.map(lambda x: percentage(x))\n"
   ]
  },
  {
   "cell_type": "code",
   "execution_count": 7,
   "metadata": {
    "ExecuteTime": {
     "end_time": "2020-03-22T02:11:45.202479Z",
     "start_time": "2020-03-22T02:11:45.100952Z"
    }
   },
   "outputs": [],
   "source": [
    "#converting strings to date time\n",
    "df.first_review = pd.to_datetime(df.first_review)\n",
    "df.host_since = pd.to_datetime(df.host_since)\n",
    "df.last_review = pd.to_datetime(df.last_review)\n",
    "\n",
    "df['listing_age'] = pd.datetime.today() - df.first_review\n",
    "df['listing_age'] = round(df['listing_age'] / np.timedelta64(1, 'D'), 0)\n",
    "\n",
    "df['host_age'] = pd.datetime.today() - df.host_since\n",
    "df['host_age'] = round(df['host_age'] / np.timedelta64(1, 'D'), 0)"
   ]
  },
  {
   "cell_type": "code",
   "execution_count": 8,
   "metadata": {
    "ExecuteTime": {
     "end_time": "2020-03-22T02:11:45.328063Z",
     "start_time": "2020-03-22T02:11:45.207427Z"
    }
   },
   "outputs": [],
   "source": [
    "def truefalse(x):\n",
    "    if x == 't':\n",
    "        return 1\n",
    "    if x == 'f':\n",
    "        return 0\n",
    "    else:\n",
    "        return x\n",
    "\n",
    "df.host_is_superhost = df.host_is_superhost.map(lambda x : truefalse(x))\n",
    "df.instant_bookable = df.instant_bookable.map(lambda x : truefalse(x))\n",
    "df.host_identity_verified = df.host_identity_verified.map(lambda x : truefalse(x))\n",
    "df.require_guest_profile_picture = df.require_guest_profile_picture.map(lambda x : truefalse(x))"
   ]
  },
  {
   "cell_type": "code",
   "execution_count": 9,
   "metadata": {
    "ExecuteTime": {
     "end_time": "2020-03-22T02:11:45.670278Z",
     "start_time": "2020-03-22T02:11:45.336976Z"
    }
   },
   "outputs": [
    {
     "name": "stderr",
     "output_type": "stream",
     "text": [
      "/home/xtzie/anaconda3/envs/metis/lib/python3.7/site-packages/numpy/lib/histograms.py:839: RuntimeWarning: invalid value encountered in greater_equal\n",
      "  keep = (tmp_a >= first_edge)\n",
      "/home/xtzie/anaconda3/envs/metis/lib/python3.7/site-packages/numpy/lib/histograms.py:840: RuntimeWarning: invalid value encountered in less_equal\n",
      "  keep &= (tmp_a <= last_edge)\n"
     ]
    },
    {
     "data": {
      "text/plain": [
       "(array([1.191e+03, 7.230e+02, 4.903e+03, 5.090e+02, 4.500e+01, 9.950e+02,\n",
       "        2.100e+01, 1.300e+02, 4.000e+00, 5.700e+01]),\n",
       " array([0. , 0.4, 0.8, 1.2, 1.6, 2. , 2.4, 2.8, 3.2, 3.6, 4. ]),\n",
       " <a list of 10 Patch objects>)"
      ]
     },
     "execution_count": 9,
     "metadata": {},
     "output_type": "execute_result"
    },
    {
     "data": {
      "image/png": "[encoded data removed]",
      "text/plain": [
       "<Figure size 576x396 with 1 Axes>"
      ]
     },
     "metadata": {},
     "output_type": "display_data"
    }
   ],
   "source": [
    "def bedbath(x):\n",
    "    if x > 4:\n",
    "        return 4\n",
    "    else:\n",
    "        return x\n",
    "\n",
    "df['bedbathratio'] = df.bedrooms / df.bathrooms \n",
    "df['bedbathratio'] = df['bedbathratio'].map(lambda x: bedbath(x))\n",
    "\n",
    "df['intercept'] = 1\n",
    "\n",
    "plt.hist(df.bedbathratio)"
   ]
  },
  {
   "cell_type": "code",
   "execution_count": 10,
   "metadata": {
    "ExecuteTime": {
     "end_time": "2020-03-22T02:11:45.721971Z",
     "start_time": "2020-03-22T02:11:45.673473Z"
    }
   },
   "outputs": [],
   "source": [
    "def cancels(x):\n",
    "    if x == 'super_strict_60':\n",
    "        return int(1)\n",
    "    elif x == 'super_strict_30':\n",
    "        return int(2)\n",
    "    elif x == 'strict':\n",
    "        #Full refund for cancellations made within 48 hours of booking, \n",
    "        #if the check-in date is at least 14 days away. \n",
    "        #50% refund for cancellations made at least 7 days before check-in. \n",
    "        #No refunds for cancellations made within 7 days of check-in\n",
    "        return int(3)\n",
    "    elif x == 'strict_14_with_grace_period':\n",
    "        return int(4)\n",
    "    elif x == 'luxury_moderate':\n",
    "        return int(5)\n",
    "    elif x == 'moderate':\n",
    "        return int(5)\n",
    "    elif x == 'flexible':\n",
    "        #full refund 1 day before arrival\n",
    "        return int(6)\n",
    "    else:\n",
    "        return x\n",
    "#nag it what's the diff between luxury moderate\n",
    "    \n",
    "df.cancellation_policy = df.cancellation_policy.map(lambda x: cancels(x))\n",
    "\n",
    "def bedtype(x):\n",
    "    if x == 'Real Bed':\n",
    "        return 1\n",
    "    else:\n",
    "        return 0\n",
    "df.bed_type = df.bed_type.map(lambda x: bedtype(x))\n"
   ]
  },
  {
   "cell_type": "markdown",
   "metadata": {},
   "source": [
    "#### adding dummy variables"
   ]
  },
  {
   "cell_type": "code",
   "execution_count": 11,
   "metadata": {
    "ExecuteTime": {
     "end_time": "2020-03-22T02:11:45.783164Z",
     "start_time": "2020-03-22T02:11:45.726587Z"
    }
   },
   "outputs": [],
   "source": [
    "def room(x):\n",
    "    if x == 'Entire home/apt':\n",
    "        return 4\n",
    "    elif x == 'Private room':\n",
    "        return 3\n",
    "    elif x  == 'Hotel room':\n",
    "        return 2\n",
    "    elif x == 'Shared room':\n",
    "        return 1\n",
    "    else:\n",
    "        return x\n",
    "df.room_type = df.room_type.map(lambda x: room(x))\n",
    "\n",
    "df = df.merge(pd.get_dummies(df.room_type, prefix = 'room'), left_index = True, right_index = True)"
   ]
  },
  {
   "cell_type": "code",
   "execution_count": 12,
   "metadata": {
    "ExecuteTime": {
     "end_time": "2020-03-22T02:11:45.846778Z",
     "start_time": "2020-03-22T02:11:45.785973Z"
    }
   },
   "outputs": [
    {
     "name": "stdout",
     "output_type": "stream",
     "text": [
      "<class 'pandas.core.frame.DataFrame'>\n",
      "RangeIndex: 8587 entries, 0 to 8586\n",
      "Data columns (total 64 columns):\n",
      "id                                  8587 non-null int64\n",
      "listing_url                         8587 non-null object\n",
      "name                                8587 non-null object\n",
      "summary                             8367 non-null object\n",
      "space                               7290 non-null object\n",
      "description                         8533 non-null object\n",
      "neighborhood_overview               6328 non-null object\n",
      "notes                               5163 non-null object\n",
      "transit                             5878 non-null object\n",
      "access                              5199 non-null object\n",
      "interaction                         5752 non-null object\n",
      "house_rules                         6217 non-null object\n",
      "host_id                             8587 non-null int64\n",
      "host_url                            8587 non-null object\n",
      "host_since                          8587 non-null datetime64[ns]\n",
      "host_about                          6498 non-null object\n",
      "host_response_time                  7409 non-null float64\n",
      "host_response_rate                  7409 non-null float64\n",
      "host_acceptance_rate                8062 non-null float64\n",
      "host_is_superhost                   8587 non-null int64\n",
      "host_neighbourhood                  8060 non-null object\n",
      "host_listings_count                 8587 non-null int64\n",
      "host_has_profile_pic                8587 non-null object\n",
      "host_identity_verified              8587 non-null int64\n",
      "neighbourhood_cleansed              8587 non-null object\n",
      "zipcode                             8563 non-null object\n",
      "latitude                            8587 non-null float64\n",
      "longitude                           8587 non-null float64\n",
      "property_type                       8587 non-null object\n",
      "room_type                           8587 non-null int64\n",
      "accommodates                        8587 non-null int64\n",
      "bathrooms                           8581 non-null float64\n",
      "bedrooms                            8584 non-null float64\n",
      "beds                                8561 non-null float64\n",
      "bed_type                            8587 non-null int64\n",
      "amenities                           8587 non-null object\n",
      "price                               8587 non-null float64\n",
      "weekly_price                        1045 non-null float64\n",
      "security_deposit                    6836 non-null float64\n",
      "cleaning_fee                        7645 non-null float64\n",
      "guests_included                     8587 non-null int64\n",
      "extra_people                        8587 non-null float64\n",
      "minimum_nights                      8587 non-null int64\n",
      "maximum_nights                      8587 non-null int64\n",
      "number_of_reviews                   8587 non-null int64\n",
      "number_of_reviews_ltm               8587 non-null int64\n",
      "first_review                        6596 non-null datetime64[ns]\n",
      "last_review                         6596 non-null datetime64[ns]\n",
      "review_scores_rating                6547 non-null float64\n",
      "instant_bookable                    8587 non-null int64\n",
      "is_business_travel_ready            8587 non-null object\n",
      "cancellation_policy                 8587 non-null int64\n",
      "require_guest_profile_picture       8587 non-null int64\n",
      "require_guest_phone_verification    8587 non-null object\n",
      "calculated_host_listings_count      8587 non-null int64\n",
      "reviews_per_month                   6596 non-null float64\n",
      "listing_age                         6596 non-null float64\n",
      "host_age                            8587 non-null float64\n",
      "bedbathratio                        8578 non-null float64\n",
      "intercept                           8587 non-null int64\n",
      "room_1                              8587 non-null uint8\n",
      "room_2                              8587 non-null uint8\n",
      "room_3                              8587 non-null uint8\n",
      "room_4                              8587 non-null uint8\n",
      "dtypes: datetime64[ns](3), float64(18), int64(18), object(21), uint8(4)\n",
      "memory usage: 4.0+ MB\n"
     ]
    }
   ],
   "source": [
    "df.info()"
   ]
  },
  {
   "cell_type": "code",
   "execution_count": 13,
   "metadata": {
    "ExecuteTime": {
     "end_time": "2020-03-22T02:11:46.940552Z",
     "start_time": "2020-03-22T02:11:45.849010Z"
    }
   },
   "outputs": [],
   "source": [
    "import re\n",
    "\n",
    "df.amenities = df.amenities.apply(\n",
    "    lambda x: re.sub('[^a-zA-Z,\\/\\s\\d-]*', '', x).split(sep=','))"
   ]
  },
  {
   "cell_type": "code",
   "execution_count": 14,
   "metadata": {
    "ExecuteTime": {
     "end_time": "2020-03-22T02:11:47.063392Z",
     "start_time": "2020-03-22T02:11:46.942497Z"
    }
   },
   "outputs": [
    {
     "name": "stderr",
     "output_type": "stream",
     "text": [
      "/home/xtzie/anaconda3/envs/metis/lib/python3.7/site-packages/pandas/core/computation/expressions.py:194: UserWarning: evaluating in Python space because the '+' operator is not supported by numexpr for the bool dtype, use '|' instead\n",
      "  op=op_str, alt_op=unsupported[op_str]\n"
     ]
    }
   ],
   "source": [
    "#do context specific amenities engineering\n",
    "#breakfast, host greets you, netflix, family/kid friendly, coffee maker, tv, cable tv\n",
    "#free parking on premises, free street parking\n",
    "#alot of these are useless - you don't care about them\n",
    "\n",
    "#changeable amenities\n",
    "df['breakfast'] = df.amenities.map(lambda listing_amenities: 'Breakfast' in listing_amenities)\n",
    "df['breakfast'] = df['breakfast'].astype(int)\n",
    "df['family_friendly'] = df.amenities.map(lambda listing_amenities: 'Family/kid friendly' in listing_amenities)\n",
    "df['family_friendly'] = df['family_friendly'].astype(int)\n",
    "df['coffee_maker'] = df.amenities.map(lambda listing_amenities: 'Coffee maker' in listing_amenities)\n",
    "df['coffee_maker'] = df['coffee_maker'].astype(int)\n",
    "df['netflix'] = df.amenities.map(lambda listing_amenities: 'Netflix' in listing_amenities)\n",
    "df['netflix'] = df['netflix'].astype(int)\n",
    "df['greeting'] = df.amenities.map(lambda listing_amenities: 'Host greets you' in listing_amenities)\n",
    "df['greeting'] = df['greeting'].astype(int)\n",
    "\n",
    "#'unchangable' amenities\n",
    "df['parkingone'] = df.amenities.map(lambda listing_amenities: 'Free parking on premises' in listing_amenities)\n",
    "df['parkingtwo'] = df.amenities.map(lambda listing_amenities: 'Free street parking' in listing_amenities)\n",
    "df['freeparking'] = df.parkingone + df.parkingtwo\n",
    "df['freeparking'] = df['freeparking'].astype(int)\n",
    "df.drop(labels = ['parkingone', 'parkingtwo'], axis = 1, inplace = True)\n",
    "df['outdoorpart'] = df.amenities.map(lambda listing_amenities: 'Patio or balcony' in listing_amenities)\n",
    "df['outdoorpart'] = df['outdoorpart'].astype(int)\n"
   ]
  },
  {
   "cell_type": "code",
   "execution_count": 15,
   "metadata": {
    "ExecuteTime": {
     "end_time": "2020-03-22T02:11:47.173656Z",
     "start_time": "2020-03-22T02:11:47.072396Z"
    }
   },
   "outputs": [],
   "source": [
    "df.property_type.replace('Treehouse','Bungalow',inplace=True)\n",
    "df.property_type.replace('Cabin','Bungalow',inplace=True)\n",
    "df.property_type.replace('Dome house','Bungalow',inplace=True)\n",
    "df.property_type.replace('Earth house','Bungalow',inplace=True)\n",
    "df.property_type.replace('Hut','Bungalow',inplace=True)\n",
    "df.property_type.replace('Yurt','Bungalow',inplace=True)\n",
    "df.property_type.replace('Tiny house','Bungalow',inplace=True)\n",
    "\n",
    "\n",
    "# Boutique hotel, resort most like a hotel\n",
    "df.property_type.replace('Boutique hotel','Hotel',inplace=True)\n",
    "df.property_type.replace('Resort','Hotel',inplace=True)\n",
    "df.property_type.replace('Aparthotel','Hotel',inplace=True)\n",
    "\n",
    "# Farm stay to Bed and breakfast\n",
    "df.property_type.replace('Farm stay','Bed and breakfast',inplace=True)\n",
    "\n",
    "# Castle, Yurt, Tent, Hostel and Chalet to other\n",
    "df.property_type.replace('Minsu (Taiwan)','Other',inplace=True)\n",
    "df.property_type.replace('Vacation home','Other',inplace=True)\n",
    "df.property_type.replace('Cave','Other',inplace=True)\n",
    "df.property_type.replace('Igloo','Other',inplace=True)\n",
    "df.property_type.replace('Pension (South Korea)','Other',inplace=True)\n",
    "df.property_type.replace('Train','Other',inplace=True)\n",
    "df.property_type.replace('Houseboat','Other',inplace=True)\n",
    "df.property_type.replace('Bus','Other',inplace=True)\n",
    "df.property_type.replace('Island','Other',inplace=True)\n",
    "df.property_type.replace('Casa particular (Cuba)','Other',inplace=True)\n",
    "df.property_type.replace('Dome','Other',inplace=True)\n",
    "df.property_type.replace('Tipi','Other',inplace=True)\n",
    "df.property_type.replace('Barn','Other',inplace=True)\n",
    "df.property_type.replace('Campsite','Other',inplace=True)\n",
    "df.property_type.replace('Castle','Other',inplace=True)\n",
    "df.property_type.replace('Chalet','Other',inplace=True)\n",
    "df.property_type.replace('Tent','Other',inplace=True)\n",
    "df.property_type.replace('Farm stay','Other',inplace=True)\n",
    "df.property_type.replace('Boat','Other',inplace=True)\n",
    "df.property_type.replace('Dorm','Other',inplace=True)\n",
    "\n",
    "df.property_type.value_counts()\n",
    "\n",
    "df = df.merge(pd.get_dummies(df.property_type, prefix = 'prop'), right_index = True, left_index = True)\n",
    "\n"
   ]
  },
  {
   "cell_type": "code",
   "execution_count": 16,
   "metadata": {
    "ExecuteTime": {
     "end_time": "2020-03-22T02:11:47.202753Z",
     "start_time": "2020-03-22T02:11:47.178266Z"
    }
   },
   "outputs": [],
   "source": [
    "df = df.merge(pd.get_dummies(df.neighbourhood_cleansed, prefix = 'neighbourhood'), left_index = True, right_index = True)"
   ]
  },
  {
   "cell_type": "markdown",
   "metadata": {},
   "source": [
    "#### dealing with nulls\n"
   ]
  },
  {
   "cell_type": "code",
   "execution_count": 17,
   "metadata": {
    "ExecuteTime": {
     "end_time": "2020-03-22T02:11:47.210942Z",
     "start_time": "2020-03-22T02:11:47.206623Z"
    }
   },
   "outputs": [],
   "source": []
  },
  {
   "cell_type": "code",
   "execution_count": 18,
   "metadata": {
    "ExecuteTime": {
     "end_time": "2020-03-22T02:11:47.274693Z",
     "start_time": "2020-03-22T02:11:47.215547Z"
    }
   },
   "outputs": [
    {
     "name": "stdout",
     "output_type": "stream",
     "text": [
      "% missing values for host response rate col 0.14\n"
     ]
    }
   ],
   "source": [
    "print('% missing values for host response rate col', round(len(df[df.host_response_rate.isnull() == True])/len(df),2))\n",
    "x = df.host_response_rate.mean()\n",
    "df.host_response_rate.fillna(value = x, inplace = True)"
   ]
  },
  {
   "cell_type": "code",
   "execution_count": 19,
   "metadata": {
    "ExecuteTime": {
     "end_time": "2020-03-22T02:11:47.294498Z",
     "start_time": "2020-03-22T02:11:47.278052Z"
    }
   },
   "outputs": [
    {
     "name": "stdout",
     "output_type": "stream",
     "text": [
      "% missing values for security deposit col 0.2\n"
     ]
    }
   ],
   "source": [
    "print('% missing values for security deposit col', round(len(df[df.security_deposit.isnull() == True])/len(df),2))\n",
    "x = df.security_deposit.mode()\n",
    "df.security_deposit.fillna(value = x, inplace = True)"
   ]
  },
  {
   "cell_type": "code",
   "execution_count": 20,
   "metadata": {
    "ExecuteTime": {
     "end_time": "2020-03-22T02:11:47.314737Z",
     "start_time": "2020-03-22T02:11:47.297932Z"
    }
   },
   "outputs": [
    {
     "name": "stdout",
     "output_type": "stream",
     "text": [
      "% missing values for cleaning fee col 0.11\n"
     ]
    }
   ],
   "source": [
    "print('% missing values for cleaning fee col', round(len(df[df.cleaning_fee.isnull() == True])/len(df),2))\n",
    "x = df.cleaning_fee.median()\n",
    "x\n",
    "df.cleaning_fee.fillna(value = x, inplace = True)\n"
   ]
  },
  {
   "cell_type": "code",
   "execution_count": 21,
   "metadata": {
    "ExecuteTime": {
     "end_time": "2020-03-22T02:11:47.388710Z",
     "start_time": "2020-03-22T02:11:47.318347Z"
    }
   },
   "outputs": [
    {
     "name": "stdout",
     "output_type": "stream",
     "text": [
      "% missing values for review scores col 0.24\n"
     ]
    }
   ],
   "source": [
    "print('% missing values for review scores col', round(len(df[df.review_scores_rating.isnull() == True])/len(df),2))\n",
    "\n",
    "def ratings(x):\n",
    "    if x >= 4.91 * 20:\n",
    "        #perfection\n",
    "        return '>4.9'\n",
    "    elif x >= 4.8  * 20:\n",
    "        #exceptional\n",
    "        return '>4.8'\n",
    "    elif x >= 4.6 * 20:\n",
    "        #good\n",
    "        return '>4.6'\n",
    "    elif x >= 4.2 * 20:\n",
    "        #within expectations\n",
    "        return '>4.2'\n",
    "    elif x >= 4.0 * 20:\n",
    "        #fair\n",
    "        return '>4.0'\n",
    "    elif x < 4 * 20:\n",
    "        #below expectations\n",
    "        return '<4.0' \n",
    "\n",
    "df['adjusted_scores'] = df.review_scores_rating.map(lambda x: ratings(x))\n",
    "\n",
    "df['adjusted_scores'].fillna(value = 'no review', inplace = True)\n",
    "\n",
    "df = df.merge(pd.get_dummies(df.adjusted_scores, prefix = 'review_of'), left_index = True, right_index = True)\n"
   ]
  },
  {
   "cell_type": "code",
   "execution_count": 22,
   "metadata": {
    "ExecuteTime": {
     "end_time": "2020-03-22T02:11:47.669928Z",
     "start_time": "2020-03-22T02:11:47.392157Z"
    }
   },
   "outputs": [
    {
     "data": {
      "text/plain": [
       "(array([ 523.,  762., 1424., 3128., 1501.,  709.,  356.,  139.,   39.,\n",
       "           6.]),\n",
       " array([-2.25271431, -1.60886479, -0.96501528, -0.32116576,  0.32268375,\n",
       "         0.96653327,  1.61038278,  2.2542323 ,  2.89808182,  3.54193133,\n",
       "         4.18578085]),\n",
       " <a list of 10 Patch objects>)"
      ]
     },
     "execution_count": 22,
     "metadata": {},
     "output_type": "execute_result"
    },
    {
     "data": {
      "image/png": "[encoded data removed]",
      "text/plain": [
       "<Figure size 576x396 with 1 Axes>"
      ]
     },
     "metadata": {},
     "output_type": "display_data"
    }
   ],
   "source": [
    "pty = PowerTransformer(method = 'yeo-johnson')\n",
    "\n",
    "plt.hist(pty.fit_transform(df['cleaning_fee'].values.reshape(-1,1)))"
   ]
  },
  {
   "cell_type": "markdown",
   "metadata": {},
   "source": [
    "#### dealing with outliers"
   ]
  },
  {
   "cell_type": "code",
   "execution_count": 23,
   "metadata": {
    "ExecuteTime": {
     "end_time": "2020-03-22T02:11:47.679714Z",
     "start_time": "2020-03-22T02:11:47.676424Z"
    }
   },
   "outputs": [],
   "source": [
    "# def outliers(df, column, num_dev=4):\n",
    "    \n",
    "#     q25, q50, q75 = df[column].quantile(q=[0.25, 0.5, 0.75])\n",
    "#     iqr = q75 - q25\n",
    "    \n",
    "#     max_ = q75 + num_dev * iqr\n",
    "#     # identify the points\n",
    "#     outlier_mask = [True if x > max_ else False for x in df[column]]\n",
    "#     print('{} outliers found out of {} data points, {}% of the data. {} is the max'.format(\n",
    "#         sum(outlier_mask), len(df[column]),\n",
    "#         100 * (sum(outlier_mask) / len(df[column])),max_))\n",
    "#     return outlier_mask"
   ]
  },
  {
   "cell_type": "code",
   "execution_count": 24,
   "metadata": {
    "ExecuteTime": {
     "end_time": "2020-03-22T02:11:47.695000Z",
     "start_time": "2020-03-22T02:11:47.682959Z"
    }
   },
   "outputs": [],
   "source": [
    "# df['outliers'] = outliers(df, 'bathrooms')\n",
    "# df = df[df['outliers'] == False]\n",
    "# df.shape"
   ]
  },
  {
   "cell_type": "code",
   "execution_count": 25,
   "metadata": {
    "ExecuteTime": {
     "end_time": "2020-03-22T02:11:47.701771Z",
     "start_time": "2020-03-22T02:11:47.697514Z"
    }
   },
   "outputs": [],
   "source": [
    "# df['outliers'] = outliers(df, 'cleaning_fee')\n",
    "# df = df[df['outliers'] == False]\n",
    "# df.shape"
   ]
  },
  {
   "cell_type": "code",
   "execution_count": 26,
   "metadata": {
    "ExecuteTime": {
     "end_time": "2020-03-22T02:11:47.709792Z",
     "start_time": "2020-03-22T02:11:47.704679Z"
    }
   },
   "outputs": [],
   "source": [
    "# df['outliers'] = outliers(df, 'security_deposit')\n",
    "# df = df[df['outliers'] == False]\n",
    "# df.shape"
   ]
  },
  {
   "cell_type": "code",
   "execution_count": 27,
   "metadata": {
    "ExecuteTime": {
     "end_time": "2020-03-22T02:11:47.715632Z",
     "start_time": "2020-03-22T02:11:47.712382Z"
    }
   },
   "outputs": [],
   "source": [
    "# df['outliers'] = outliers(df, 'beds', num_dev = 5)\n",
    "# df = df[df['outliers'] == False]\n",
    "# df.shape\n",
    "\n",
    "# df.drop(labels = 'outliers', inplace = True, axis = 1)"
   ]
  },
  {
   "cell_type": "markdown",
   "metadata": {},
   "source": [
    "#### feature engineering"
   ]
  },
  {
   "cell_type": "code",
   "execution_count": 28,
   "metadata": {
    "ExecuteTime": {
     "end_time": "2020-03-22T02:11:47.723547Z",
     "start_time": "2020-03-22T02:11:47.718023Z"
    }
   },
   "outputs": [
    {
     "data": {
      "text/plain": [
       "(8587, 133)"
      ]
     },
     "execution_count": 28,
     "metadata": {},
     "output_type": "execute_result"
    }
   ],
   "source": [
    "df.shape"
   ]
  },
  {
   "cell_type": "code",
   "execution_count": 29,
   "metadata": {
    "ExecuteTime": {
     "end_time": "2020-03-22T02:11:48.039714Z",
     "start_time": "2020-03-22T02:11:47.731084Z"
    }
   },
   "outputs": [],
   "source": [
    "import pickle\n",
    "\n",
    "with open('dataframe', 'wb') as file:\n",
    "    df = pickle.dump(df, file)"
   ]
  }
 ],
 "metadata": {
  "kernelspec": {
   "display_name": "Python [conda env:metis] *",
   "language": "python",
   "name": "conda-env-metis-py"
  },
  "language_info": {
   "codemirror_mode": {
    "name": "ipython",
    "version": 3
   },
   "file_extension": ".py",
   "mimetype": "text/x-python",
   "name": "python",
   "nbconvert_exporter": "python",
   "pygments_lexer": "ipython3",
   "version": "3.7.4"
  },
  "toc": {
   "base_numbering": 1,
   "nav_menu": {},
   "number_sections": false,
   "sideBar": true,
   "skip_h1_title": false,
   "title_cell": "Table of Contents",
   "title_sidebar": "Contents",
   "toc_cell": false,
   "toc_position": {},
   "toc_section_display": true,
   "toc_window_display": false
  }
 },
 "nbformat": 4,
 "nbformat_minor": 4
}
