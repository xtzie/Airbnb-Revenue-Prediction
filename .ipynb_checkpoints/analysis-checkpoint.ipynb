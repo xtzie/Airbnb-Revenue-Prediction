{
 "cells": [
  {
   "cell_type": "code",
   "execution_count": 3,
   "metadata": {
    "ExecuteTime": {
     "end_time": "2020-03-23T02:54:41.630604Z",
     "start_time": "2020-03-23T02:54:41.618542Z"
    }
   },
   "outputs": [],
   "source": [
    "import pandas as pd\n",
    "import numpy as np\n",
    "import os"
   ]
  },
  {
   "cell_type": "code",
   "execution_count": 41,
   "metadata": {
    "ExecuteTime": {
     "end_time": "2020-03-23T04:09:40.412056Z",
     "start_time": "2020-03-23T04:09:39.799598Z"
    }
   },
   "outputs": [
    {
     "name": "stdout",
     "output_type": "stream",
     "text": [
      "may15 106250\n",
      "feb16 144002\n",
      "jul16 169739\n",
      "feb17 207598\n",
      "jun17 228532\n",
      "feb18 234392\n",
      "jul18 252914\n",
      "feb19 313278\n",
      "jun19 335339\n"
     ]
    },
    {
     "data": {
      "text/plain": [
       "[106250, 144002, 169739, 207598, 228532, 234392, 252914, 313278, 335339]"
      ]
     },
     "execution_count": 41,
     "metadata": {},
     "output_type": "execute_result"
    }
   ],
   "source": [
    "path = '/home/xtzie/Desktop/FNLFORM/data/trend/'\n",
    "\n",
    "for file in sorted(os.listdir(path)):\n",
    "    filename = path + file\n",
    "    if file[1:7] == 'review':\n",
    "        df = pd.read_csv(filename)\n",
    "        print(file[8:-4], df.shape[0])\n",
    "[5425, 8299, 8619, 8777, 8779, 4727, 4693, 7198, 7575]\n",
    "\n",
    "[106250, 144002, 169739, 207598, 228532, 234392, 252914, 313278, 335339]\n",
    "#why is there a discrepancy?"
   ]
  },
  {
   "cell_type": "code",
   "execution_count": 75,
   "metadata": {
    "ExecuteTime": {
     "end_time": "2020-03-23T04:32:10.283183Z",
     "start_time": "2020-03-23T04:32:10.263902Z"
    }
   },
   "outputs": [],
   "source": [
    "#pandas is really the shitttttiest tool ever\n",
    "\n",
    "\n",
    "shittypandas = pd.DataFrame(np.array([['x', 4, 1], ['x', 4, 1],['x', 4, 1], ['y', 4, 2], ['y', 2, 1], ['t', 8, 1]]), columns = ['district', 'reviews', 'listings'])"
   ]
  },
  {
   "cell_type": "code",
   "execution_count": 127,
   "metadata": {
    "ExecuteTime": {
     "end_time": "2020-03-23T04:47:54.628809Z",
     "start_time": "2020-03-23T04:47:54.587479Z"
    }
   },
   "outputs": [],
   "source": [
    "shittypandas['reviews'] = shittypandas['reviews'].astype(int)\n",
    "shittypandas['listings'] = shittypandas['listings'].astype(int)\n",
    "\n",
    "shittypandas['reviewratio'] = shittypandas.groupby('district').transform('sum')['reviews'] / shittypandas.groupby('district').transform('sum')['listings']\n",
    "shittypandas['nonsense'] = 1 + 1"
   ]
  },
  {
   "cell_type": "code",
   "execution_count": 150,
   "metadata": {
    "ExecuteTime": {
     "end_time": "2020-03-23T05:06:55.468800Z",
     "start_time": "2020-03-23T05:06:55.445157Z"
    }
   },
   "outputs": [
    {
     "name": "stdout",
     "output_type": "stream",
     "text": [
      "t\n",
      "x\n",
      "y\n"
     ]
    }
   ],
   "source": [
    "shittierpandas = shittypandas.groupby('district').mean().sort_values('test', ascending = False).head(3).reset_index()\n",
    "for x in list(shittierpandas['district']):\n",
    "    print(x)"
   ]
  },
  {
   "cell_type": "code",
   "execution_count": null,
   "metadata": {
    "ExecuteTime": {
     "end_time": "2020-03-23T04:42:02.416779Z",
     "start_time": "2020-03-23T04:42:02.383786Z"
    }
   },
   "outputs": [],
   "source": []
  },
  {
   "cell_type": "code",
   "execution_count": null,
   "metadata": {},
   "outputs": [],
   "source": []
  }
 ],
 "metadata": {
  "kernelspec": {
   "display_name": "Python [conda env:metis] *",
   "language": "python",
   "name": "conda-env-metis-py"
  },
  "language_info": {
   "codemirror_mode": {
    "name": "ipython",
    "version": 3
   },
   "file_extension": ".py",
   "mimetype": "text/x-python",
   "name": "python",
   "nbconvert_exporter": "python",
   "pygments_lexer": "ipython3",
   "version": "3.7.4"
  },
  "toc": {
   "base_numbering": 1,
   "nav_menu": {},
   "number_sections": false,
   "sideBar": true,
   "skip_h1_title": false,
   "title_cell": "Table of Contents",
   "title_sidebar": "Contents",
   "toc_cell": false,
   "toc_position": {},
   "toc_section_display": true,
   "toc_window_display": false
  }
 },
 "nbformat": 4,
 "nbformat_minor": 4
}
