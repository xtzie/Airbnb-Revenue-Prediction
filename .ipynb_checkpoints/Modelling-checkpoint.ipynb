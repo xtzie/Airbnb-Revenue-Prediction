{
 "cells": [
  {
   "cell_type": "markdown",
   "metadata": {},
   "source": [
    "#### loading data"
   ]
  },
  {
   "cell_type": "code",
   "execution_count": 47,
   "metadata": {
    "ExecuteTime": {
     "end_time": "2020-03-20T16:25:42.737424Z",
     "start_time": "2020-03-20T16:25:42.699601Z"
    }
   },
   "outputs": [],
   "source": [
    "import pandas as pd\n",
    "import numpy as np\n",
    "import statsmodels.api as sm\n",
    "import statsmodels.formula.api as smf\n",
    "import patsy\n",
    "import scipy.stats as stats\n",
    "import pickle\n",
    "import matplotlib.pyplot as plt\n",
    "\n",
    "from sklearn.preprocessing import StandardScaler, RobustScaler, MinMaxScaler\n",
    "from sklearn.linear_model import LinearRegression, Lasso, LassoCV, Ridge, RidgeCV, ElasticNet, ElasticNetCV\n",
    "from sklearn.model_selection import train_test_split, KFold, GridSearchCV"
   ]
  },
  {
   "cell_type": "code",
   "execution_count": null,
   "metadata": {},
   "outputs": [],
   "source": []
  },
  {
   "cell_type": "code",
   "execution_count": 2,
   "metadata": {
    "ExecuteTime": {
     "end_time": "2020-03-20T15:29:43.271170Z",
     "start_time": "2020-03-20T15:29:43.207394Z"
    }
   },
   "outputs": [],
   "source": [
    "with open('dataframe', 'rb') as file:\n",
    "    df = pickle.load(file)"
   ]
  },
  {
   "cell_type": "code",
   "execution_count": 22,
   "metadata": {
    "ExecuteTime": {
     "end_time": "2020-03-20T15:39:59.358042Z",
     "start_time": "2020-03-20T15:39:59.304667Z"
    }
   },
   "outputs": [
    {
     "ename": "KeyError",
     "evalue": "\"['number_of_review_ltm'] not found in axis\"",
     "output_type": "error",
     "traceback": [
      "\u001b[0;31m---------------------------------------------------------------------------\u001b[0m",
      "\u001b[0;31mKeyError\u001b[0m                                  Traceback (most recent call last)",
      "\u001b[0;32m<ipython-input-22-23356c032416>\u001b[0m in \u001b[0;36m<module>\u001b[0;34m\u001b[0m\n\u001b[1;32m      5\u001b[0m \u001b[0mhighpvalue\u001b[0m \u001b[0;34m=\u001b[0m \u001b[0;34m[\u001b[0m\u001b[0;34m'bed_type'\u001b[0m\u001b[0;34m,\u001b[0m \u001b[0;34m'security_deposit'\u001b[0m\u001b[0;34m,\u001b[0m \u001b[0;34m'number_of_review_ltm'\u001b[0m\u001b[0;34m,\u001b[0m \u001b[0;34m'instant_bookable'\u001b[0m\u001b[0;34m]\u001b[0m\u001b[0;34m\u001b[0m\u001b[0;34m\u001b[0m\u001b[0m\n\u001b[1;32m      6\u001b[0m \u001b[0;34m\u001b[0m\u001b[0m\n\u001b[0;32m----> 7\u001b[0;31m \u001b[0msmalld\u001b[0m \u001b[0;34m=\u001b[0m \u001b[0mdf\u001b[0m\u001b[0;34m.\u001b[0m\u001b[0mdrop\u001b[0m\u001b[0;34m(\u001b[0m\u001b[0mlabels\u001b[0m \u001b[0;34m=\u001b[0m \u001b[0msimpleregtodrop\u001b[0m \u001b[0;34m+\u001b[0m \u001b[0mhighpvalue\u001b[0m\u001b[0;34m,\u001b[0m \u001b[0maxis\u001b[0m \u001b[0;34m=\u001b[0m\u001b[0;36m1\u001b[0m\u001b[0;34m)\u001b[0m\u001b[0;34m\u001b[0m\u001b[0;34m\u001b[0m\u001b[0m\n\u001b[0m",
      "\u001b[0;32m~/anaconda3/envs/metis/lib/python3.7/site-packages/pandas/core/frame.py\u001b[0m in \u001b[0;36mdrop\u001b[0;34m(self, labels, axis, index, columns, level, inplace, errors)\u001b[0m\n\u001b[1;32m   4115\u001b[0m             \u001b[0mlevel\u001b[0m\u001b[0;34m=\u001b[0m\u001b[0mlevel\u001b[0m\u001b[0;34m,\u001b[0m\u001b[0;34m\u001b[0m\u001b[0;34m\u001b[0m\u001b[0m\n\u001b[1;32m   4116\u001b[0m             \u001b[0minplace\u001b[0m\u001b[0;34m=\u001b[0m\u001b[0minplace\u001b[0m\u001b[0;34m,\u001b[0m\u001b[0;34m\u001b[0m\u001b[0;34m\u001b[0m\u001b[0m\n\u001b[0;32m-> 4117\u001b[0;31m             \u001b[0merrors\u001b[0m\u001b[0;34m=\u001b[0m\u001b[0merrors\u001b[0m\u001b[0;34m,\u001b[0m\u001b[0;34m\u001b[0m\u001b[0;34m\u001b[0m\u001b[0m\n\u001b[0m\u001b[1;32m   4118\u001b[0m         )\n\u001b[1;32m   4119\u001b[0m \u001b[0;34m\u001b[0m\u001b[0m\n",
      "\u001b[0;32m~/anaconda3/envs/metis/lib/python3.7/site-packages/pandas/core/generic.py\u001b[0m in \u001b[0;36mdrop\u001b[0;34m(self, labels, axis, index, columns, level, inplace, errors)\u001b[0m\n\u001b[1;32m   3912\u001b[0m         \u001b[0;32mfor\u001b[0m \u001b[0maxis\u001b[0m\u001b[0;34m,\u001b[0m \u001b[0mlabels\u001b[0m \u001b[0;32min\u001b[0m \u001b[0maxes\u001b[0m\u001b[0;34m.\u001b[0m\u001b[0mitems\u001b[0m\u001b[0;34m(\u001b[0m\u001b[0;34m)\u001b[0m\u001b[0;34m:\u001b[0m\u001b[0;34m\u001b[0m\u001b[0;34m\u001b[0m\u001b[0m\n\u001b[1;32m   3913\u001b[0m             \u001b[0;32mif\u001b[0m \u001b[0mlabels\u001b[0m \u001b[0;32mis\u001b[0m \u001b[0;32mnot\u001b[0m \u001b[0;32mNone\u001b[0m\u001b[0;34m:\u001b[0m\u001b[0;34m\u001b[0m\u001b[0;34m\u001b[0m\u001b[0m\n\u001b[0;32m-> 3914\u001b[0;31m                 \u001b[0mobj\u001b[0m \u001b[0;34m=\u001b[0m \u001b[0mobj\u001b[0m\u001b[0;34m.\u001b[0m\u001b[0m_drop_axis\u001b[0m\u001b[0;34m(\u001b[0m\u001b[0mlabels\u001b[0m\u001b[0;34m,\u001b[0m \u001b[0maxis\u001b[0m\u001b[0;34m,\u001b[0m \u001b[0mlevel\u001b[0m\u001b[0;34m=\u001b[0m\u001b[0mlevel\u001b[0m\u001b[0;34m,\u001b[0m \u001b[0merrors\u001b[0m\u001b[0;34m=\u001b[0m\u001b[0merrors\u001b[0m\u001b[0;34m)\u001b[0m\u001b[0;34m\u001b[0m\u001b[0;34m\u001b[0m\u001b[0m\n\u001b[0m\u001b[1;32m   3915\u001b[0m \u001b[0;34m\u001b[0m\u001b[0m\n\u001b[1;32m   3916\u001b[0m         \u001b[0;32mif\u001b[0m \u001b[0minplace\u001b[0m\u001b[0;34m:\u001b[0m\u001b[0;34m\u001b[0m\u001b[0;34m\u001b[0m\u001b[0m\n",
      "\u001b[0;32m~/anaconda3/envs/metis/lib/python3.7/site-packages/pandas/core/generic.py\u001b[0m in \u001b[0;36m_drop_axis\u001b[0;34m(self, labels, axis, level, errors)\u001b[0m\n\u001b[1;32m   3944\u001b[0m                 \u001b[0mnew_axis\u001b[0m \u001b[0;34m=\u001b[0m \u001b[0maxis\u001b[0m\u001b[0;34m.\u001b[0m\u001b[0mdrop\u001b[0m\u001b[0;34m(\u001b[0m\u001b[0mlabels\u001b[0m\u001b[0;34m,\u001b[0m \u001b[0mlevel\u001b[0m\u001b[0;34m=\u001b[0m\u001b[0mlevel\u001b[0m\u001b[0;34m,\u001b[0m \u001b[0merrors\u001b[0m\u001b[0;34m=\u001b[0m\u001b[0merrors\u001b[0m\u001b[0;34m)\u001b[0m\u001b[0;34m\u001b[0m\u001b[0;34m\u001b[0m\u001b[0m\n\u001b[1;32m   3945\u001b[0m             \u001b[0;32melse\u001b[0m\u001b[0;34m:\u001b[0m\u001b[0;34m\u001b[0m\u001b[0;34m\u001b[0m\u001b[0m\n\u001b[0;32m-> 3946\u001b[0;31m                 \u001b[0mnew_axis\u001b[0m \u001b[0;34m=\u001b[0m \u001b[0maxis\u001b[0m\u001b[0;34m.\u001b[0m\u001b[0mdrop\u001b[0m\u001b[0;34m(\u001b[0m\u001b[0mlabels\u001b[0m\u001b[0;34m,\u001b[0m \u001b[0merrors\u001b[0m\u001b[0;34m=\u001b[0m\u001b[0merrors\u001b[0m\u001b[0;34m)\u001b[0m\u001b[0;34m\u001b[0m\u001b[0;34m\u001b[0m\u001b[0m\n\u001b[0m\u001b[1;32m   3947\u001b[0m             \u001b[0mresult\u001b[0m \u001b[0;34m=\u001b[0m \u001b[0mself\u001b[0m\u001b[0;34m.\u001b[0m\u001b[0mreindex\u001b[0m\u001b[0;34m(\u001b[0m\u001b[0;34m**\u001b[0m\u001b[0;34m{\u001b[0m\u001b[0maxis_name\u001b[0m\u001b[0;34m:\u001b[0m \u001b[0mnew_axis\u001b[0m\u001b[0;34m}\u001b[0m\u001b[0;34m)\u001b[0m\u001b[0;34m\u001b[0m\u001b[0;34m\u001b[0m\u001b[0m\n\u001b[1;32m   3948\u001b[0m \u001b[0;34m\u001b[0m\u001b[0m\n",
      "\u001b[0;32m~/anaconda3/envs/metis/lib/python3.7/site-packages/pandas/core/indexes/base.py\u001b[0m in \u001b[0;36mdrop\u001b[0;34m(self, labels, errors)\u001b[0m\n\u001b[1;32m   5338\u001b[0m         \u001b[0;32mif\u001b[0m \u001b[0mmask\u001b[0m\u001b[0;34m.\u001b[0m\u001b[0many\u001b[0m\u001b[0;34m(\u001b[0m\u001b[0;34m)\u001b[0m\u001b[0;34m:\u001b[0m\u001b[0;34m\u001b[0m\u001b[0;34m\u001b[0m\u001b[0m\n\u001b[1;32m   5339\u001b[0m             \u001b[0;32mif\u001b[0m \u001b[0merrors\u001b[0m \u001b[0;34m!=\u001b[0m \u001b[0;34m\"ignore\"\u001b[0m\u001b[0;34m:\u001b[0m\u001b[0;34m\u001b[0m\u001b[0;34m\u001b[0m\u001b[0m\n\u001b[0;32m-> 5340\u001b[0;31m                 \u001b[0;32mraise\u001b[0m \u001b[0mKeyError\u001b[0m\u001b[0;34m(\u001b[0m\u001b[0;34m\"{} not found in axis\"\u001b[0m\u001b[0;34m.\u001b[0m\u001b[0mformat\u001b[0m\u001b[0;34m(\u001b[0m\u001b[0mlabels\u001b[0m\u001b[0;34m[\u001b[0m\u001b[0mmask\u001b[0m\u001b[0;34m]\u001b[0m\u001b[0;34m)\u001b[0m\u001b[0;34m)\u001b[0m\u001b[0;34m\u001b[0m\u001b[0;34m\u001b[0m\u001b[0m\n\u001b[0m\u001b[1;32m   5341\u001b[0m             \u001b[0mindexer\u001b[0m \u001b[0;34m=\u001b[0m \u001b[0mindexer\u001b[0m\u001b[0;34m[\u001b[0m\u001b[0;34m~\u001b[0m\u001b[0mmask\u001b[0m\u001b[0;34m]\u001b[0m\u001b[0;34m\u001b[0m\u001b[0;34m\u001b[0m\u001b[0m\n\u001b[1;32m   5342\u001b[0m         \u001b[0;32mreturn\u001b[0m \u001b[0mself\u001b[0m\u001b[0;34m.\u001b[0m\u001b[0mdelete\u001b[0m\u001b[0;34m(\u001b[0m\u001b[0mindexer\u001b[0m\u001b[0;34m)\u001b[0m\u001b[0;34m\u001b[0m\u001b[0;34m\u001b[0m\u001b[0m\n",
      "\u001b[0;31mKeyError\u001b[0m: \"['number_of_review_ltm'] not found in axis\""
     ]
    }
   ],
   "source": [
    "simpleregtodrop = ['neighbourhood_cleansed', 'host_neighbourhood', 'zipcode', 'property_type', 'amenities', \n",
    "                   'weekly_price', 'host_since', 'first_review', 'last_review', 'review_scores_rating',\n",
    "                    'listing_age', 'host_age', 'room_type']\n",
    "\n",
    "\n",
    "smalld = df.drop(labels = simpleregtodrop, axis =1)"
   ]
  },
  {
   "cell_type": "code",
   "execution_count": 23,
   "metadata": {
    "ExecuteTime": {
     "end_time": "2020-03-20T15:39:59.554787Z",
     "start_time": "2020-03-20T15:39:59.542857Z"
    }
   },
   "outputs": [],
   "source": [
    "#there's a minority of values where price == 0 so we will drop them out\n",
    "#we can impute values for our independent/x variables, but not our y variables\n",
    "smalld = smalld[smalld['price'] != 0]\n",
    "\n",
    "#wwwww need to come back to this later\n",
    "smalldf = smalld.fillna(value = 0)"
   ]
  },
  {
   "cell_type": "code",
   "execution_count": 24,
   "metadata": {
    "ExecuteTime": {
     "end_time": "2020-03-20T15:39:59.765383Z",
     "start_time": "2020-03-20T15:39:59.762395Z"
    }
   },
   "outputs": [],
   "source": [
    "# smalldf.info()"
   ]
  },
  {
   "cell_type": "code",
   "execution_count": 25,
   "metadata": {
    "ExecuteTime": {
     "end_time": "2020-03-20T15:39:59.990403Z",
     "start_time": "2020-03-20T15:39:59.972616Z"
    }
   },
   "outputs": [],
   "source": [
    "X = smalldf.drop(labels = 'price', axis = 1)\n",
    "\n",
    "y = smalldf['price']\n",
    "\n",
    "X_train, X_test, y_train, y_test = train_test_split(X, y, test_size = 0.2, random_state = 42)\n",
    "\n"
   ]
  },
  {
   "cell_type": "markdown",
   "metadata": {},
   "source": [
    "#### Data Transformation"
   ]
  },
  {
   "cell_type": "code",
   "execution_count": 26,
   "metadata": {
    "ExecuteTime": {
     "end_time": "2020-03-20T15:40:00.430056Z",
     "start_time": "2020-03-20T15:40:00.380648Z"
    }
   },
   "outputs": [
    {
     "name": "stderr",
     "output_type": "stream",
     "text": [
      "/home/xtzie/anaconda3/envs/metis/lib/python3.7/site-packages/ipykernel_launcher.py:12: SettingWithCopyWarning: \n",
      "A value is trying to be set on a copy of a slice from a DataFrame.\n",
      "Try using .loc[row_indexer,col_indexer] = value instead\n",
      "\n",
      "See the caveats in the documentation: http://pandas.pydata.org/pandas-docs/stable/user_guide/indexing.html#returning-a-view-versus-a-copy\n",
      "  if sys.path[0] == '':\n",
      "/home/xtzie/anaconda3/envs/metis/lib/python3.7/site-packages/pandas/core/indexing.py:494: SettingWithCopyWarning: \n",
      "A value is trying to be set on a copy of a slice from a DataFrame.\n",
      "Try using .loc[row_indexer,col_indexer] = value instead\n",
      "\n",
      "See the caveats in the documentation: http://pandas.pydata.org/pandas-docs/stable/user_guide/indexing.html#returning-a-view-versus-a-copy\n",
      "  self.obj[item] = s\n"
     ]
    }
   ],
   "source": [
    "y_train = np.log(y_train)\n",
    "y_train = np.log(y_train)\n",
    "#INTERESTING. so np.log twice improves your score by a whole 0.016. INTERESTING!!!!\n",
    "\n",
    "continuousdata = ['host_response_time', 'host_response_rate', 'host_acceptance_rate', 'accommodates', 'bathrooms', \n",
    "              'bedrooms', 'beds', 'security_deposit', 'cleaning_fee', 'extra_people', 'number_of_reviews',\n",
    "              'number_of_reviews_ltm', 'reviews_per_month', 'bedbathratio']\n",
    "\n",
    "def scalecolumns(dfx,columns):\n",
    "    std = MinMaxScaler()\n",
    "    std.fit(dfx[columns])\n",
    "    dfx[columns] = std.transform(dfx[columns])\n",
    "\n",
    "    \n",
    "scalecolumns(X_train, continuousdata)\n"
   ]
  },
  {
   "cell_type": "code",
   "execution_count": 27,
   "metadata": {
    "ExecuteTime": {
     "end_time": "2020-03-20T15:40:00.638506Z",
     "start_time": "2020-03-20T15:40:00.603947Z"
    }
   },
   "outputs": [
    {
     "data": {
      "text/plain": [
       "6281    0.166667\n",
       "4734    0.666667\n",
       "3974    0.500000\n",
       "6027    0.166667\n",
       "6540    0.166667\n",
       "5484    0.000000\n",
       "6550    0.166667\n",
       "7390    0.166667\n",
       "6203    0.166667\n",
       "5158    0.166667\n",
       "399     0.333333\n",
       "3141    0.166667\n",
       "7249    0.166667\n",
       "2069    0.000000\n",
       "3047    0.166667\n",
       "4663    0.333333\n",
       "1838    0.333333\n",
       "1831    0.000000\n",
       "4518    0.166667\n",
       "4972    0.333333\n",
       "Name: bedrooms, dtype: float64"
      ]
     },
     "execution_count": 27,
     "metadata": {},
     "output_type": "execute_result"
    }
   ],
   "source": [
    "X_train['bedrooms'][0:20]\n"
   ]
  },
  {
   "cell_type": "markdown",
   "metadata": {},
   "source": [
    "#### Modelling"
   ]
  },
  {
   "cell_type": "code",
   "execution_count": 30,
   "metadata": {
    "ExecuteTime": {
     "end_time": "2020-03-20T15:40:41.738868Z",
     "start_time": "2020-03-20T15:40:41.495497Z"
    }
   },
   "outputs": [
    {
     "name": "stdout",
     "output_type": "stream",
     "text": [
      "cross validated r2 0.6025158362089155\n"
     ]
    },
    {
     "data": {
      "text/html": [
       "<table class=\"simpletable\">\n",
       "<caption>OLS Regression Results</caption>\n",
       "<tr>\n",
       "  <th>Dep. Variable:</th>          <td>price</td>      <th>  R-squared:         </th>  <td>   0.614</td> \n",
       "</tr>\n",
       "<tr>\n",
       "  <th>Model:</th>                   <td>OLS</td>       <th>  Adj. R-squared:    </th>  <td>   0.609</td> \n",
       "</tr>\n",
       "<tr>\n",
       "  <th>Method:</th>             <td>Least Squares</td>  <th>  F-statistic:       </th>  <td>   113.0</td> \n",
       "</tr>\n",
       "<tr>\n",
       "  <th>Date:</th>             <td>Fri, 20 Mar 2020</td> <th>  Prob (F-statistic):</th>   <td>  0.00</td>  \n",
       "</tr>\n",
       "<tr>\n",
       "  <th>Time:</th>                 <td>08:40:41</td>     <th>  Log-Likelihood:    </th>  <td>  6757.4</td> \n",
       "</tr>\n",
       "<tr>\n",
       "  <th>No. Observations:</th>      <td>  6479</td>      <th>  AIC:               </th> <td>-1.333e+04</td>\n",
       "</tr>\n",
       "<tr>\n",
       "  <th>Df Residuals:</th>          <td>  6388</td>      <th>  BIC:               </th> <td>-1.272e+04</td>\n",
       "</tr>\n",
       "<tr>\n",
       "  <th>Df Model:</th>              <td>    90</td>      <th>                     </th>      <td> </td>    \n",
       "</tr>\n",
       "<tr>\n",
       "  <th>Covariance Type:</th>      <td>nonrobust</td>    <th>                     </th>      <td> </td>    \n",
       "</tr>\n",
       "</table>\n",
       "<table class=\"simpletable\">\n",
       "<tr>\n",
       "                   <td></td>                      <th>coef</th>     <th>std err</th>      <th>t</th>      <th>P>|t|</th>  <th>[0.025</th>    <th>0.975]</th>  \n",
       "</tr>\n",
       "<tr>\n",
       "  <th>host_response_time</th>                  <td>   -0.0246</td> <td>    0.004</td> <td>   -5.936</td> <td> 0.000</td> <td>   -0.033</td> <td>   -0.016</td>\n",
       "</tr>\n",
       "<tr>\n",
       "  <th>host_response_rate</th>                  <td>    0.0323</td> <td>    0.010</td> <td>    3.125</td> <td> 0.002</td> <td>    0.012</td> <td>    0.053</td>\n",
       "</tr>\n",
       "<tr>\n",
       "  <th>host_acceptance_rate</th>                <td>   -0.0103</td> <td>    0.005</td> <td>   -2.074</td> <td> 0.038</td> <td>   -0.020</td> <td>   -0.001</td>\n",
       "</tr>\n",
       "<tr>\n",
       "  <th>host_is_superhost</th>                   <td>    0.0128</td> <td>    0.003</td> <td>    4.642</td> <td> 0.000</td> <td>    0.007</td> <td>    0.018</td>\n",
       "</tr>\n",
       "<tr>\n",
       "  <th>host_identity_verified</th>              <td>    0.0094</td> <td>    0.002</td> <td>    3.857</td> <td> 0.000</td> <td>    0.005</td> <td>    0.014</td>\n",
       "</tr>\n",
       "<tr>\n",
       "  <th>accommodates</th>                        <td>    0.2353</td> <td>    0.018</td> <td>   12.919</td> <td> 0.000</td> <td>    0.200</td> <td>    0.271</td>\n",
       "</tr>\n",
       "<tr>\n",
       "  <th>bathrooms</th>                           <td>   -0.0615</td> <td>    0.016</td> <td>   -3.943</td> <td> 0.000</td> <td>   -0.092</td> <td>   -0.031</td>\n",
       "</tr>\n",
       "<tr>\n",
       "  <th>bedrooms</th>                            <td>    0.3750</td> <td>    0.027</td> <td>   14.051</td> <td> 0.000</td> <td>    0.323</td> <td>    0.427</td>\n",
       "</tr>\n",
       "<tr>\n",
       "  <th>beds</th>                                <td>   -0.0262</td> <td>    0.013</td> <td>   -1.990</td> <td> 0.047</td> <td>   -0.052</td> <td>   -0.000</td>\n",
       "</tr>\n",
       "<tr>\n",
       "  <th>bed_type</th>                            <td>   -0.0098</td> <td>    0.012</td> <td>   -0.830</td> <td> 0.407</td> <td>   -0.033</td> <td>    0.013</td>\n",
       "</tr>\n",
       "<tr>\n",
       "  <th>security_deposit</th>                    <td>   -0.0103</td> <td>    0.007</td> <td>   -1.512</td> <td> 0.131</td> <td>   -0.024</td> <td>    0.003</td>\n",
       "</tr>\n",
       "<tr>\n",
       "  <th>cleaning_fee</th>                        <td>    0.0477</td> <td>    0.011</td> <td>    4.453</td> <td> 0.000</td> <td>    0.027</td> <td>    0.069</td>\n",
       "</tr>\n",
       "<tr>\n",
       "  <th>guests_included</th>                     <td>    0.0037</td> <td>    0.001</td> <td>    3.275</td> <td> 0.001</td> <td>    0.001</td> <td>    0.006</td>\n",
       "</tr>\n",
       "<tr>\n",
       "  <th>extra_people</th>                        <td>    0.0403</td> <td>    0.012</td> <td>    3.304</td> <td> 0.001</td> <td>    0.016</td> <td>    0.064</td>\n",
       "</tr>\n",
       "<tr>\n",
       "  <th>number_of_reviews</th>                   <td>   -0.0336</td> <td>    0.018</td> <td>   -1.906</td> <td> 0.057</td> <td>   -0.068</td> <td>    0.001</td>\n",
       "</tr>\n",
       "<tr>\n",
       "  <th>number_of_reviews_ltm</th>               <td>   -0.0155</td> <td>    0.034</td> <td>   -0.453</td> <td> 0.650</td> <td>   -0.083</td> <td>    0.052</td>\n",
       "</tr>\n",
       "<tr>\n",
       "  <th>instant_bookable</th>                    <td>    0.0007</td> <td>    0.002</td> <td>    0.272</td> <td> 0.786</td> <td>   -0.004</td> <td>    0.005</td>\n",
       "</tr>\n",
       "<tr>\n",
       "  <th>cancellation_policy</th>                 <td>    0.0052</td> <td>    0.001</td> <td>    3.768</td> <td> 0.000</td> <td>    0.003</td> <td>    0.008</td>\n",
       "</tr>\n",
       "<tr>\n",
       "  <th>require_guest_profile_picture</th>       <td>   -0.0104</td> <td>    0.006</td> <td>   -1.714</td> <td> 0.087</td> <td>   -0.022</td> <td>    0.001</td>\n",
       "</tr>\n",
       "<tr>\n",
       "  <th>calculated_host_listings_count</th>      <td> 3.609e-05</td> <td> 2.67e-05</td> <td>    1.353</td> <td> 0.176</td> <td>-1.62e-05</td> <td> 8.84e-05</td>\n",
       "</tr>\n",
       "<tr>\n",
       "  <th>reviews_per_month</th>                   <td>    0.0813</td> <td>    0.038</td> <td>    2.141</td> <td> 0.032</td> <td>    0.007</td> <td>    0.156</td>\n",
       "</tr>\n",
       "<tr>\n",
       "  <th>bedbathratio</th>                        <td>   -0.1266</td> <td>    0.018</td> <td>   -7.092</td> <td> 0.000</td> <td>   -0.162</td> <td>   -0.092</td>\n",
       "</tr>\n",
       "<tr>\n",
       "  <th>intercept</th>                           <td>    0.9734</td> <td>    0.014</td> <td>   70.338</td> <td> 0.000</td> <td>    0.946</td> <td>    1.001</td>\n",
       "</tr>\n",
       "<tr>\n",
       "  <th>room_1</th>                              <td>    0.0833</td> <td>    0.007</td> <td>   11.287</td> <td> 0.000</td> <td>    0.069</td> <td>    0.098</td>\n",
       "</tr>\n",
       "<tr>\n",
       "  <th>room_2</th>                              <td>    0.2969</td> <td>    0.009</td> <td>   31.714</td> <td> 0.000</td> <td>    0.279</td> <td>    0.315</td>\n",
       "</tr>\n",
       "<tr>\n",
       "  <th>room_3</th>                              <td>    0.2599</td> <td>    0.005</td> <td>   57.199</td> <td> 0.000</td> <td>    0.251</td> <td>    0.269</td>\n",
       "</tr>\n",
       "<tr>\n",
       "  <th>room_4</th>                              <td>    0.3332</td> <td>    0.005</td> <td>   69.898</td> <td> 0.000</td> <td>    0.324</td> <td>    0.343</td>\n",
       "</tr>\n",
       "<tr>\n",
       "  <th>breakfast</th>                           <td>    0.0035</td> <td>    0.004</td> <td>    0.910</td> <td> 0.363</td> <td>   -0.004</td> <td>    0.011</td>\n",
       "</tr>\n",
       "<tr>\n",
       "  <th>family_friendly</th>                     <td>    0.0070</td> <td>    0.003</td> <td>    2.649</td> <td> 0.008</td> <td>    0.002</td> <td>    0.012</td>\n",
       "</tr>\n",
       "<tr>\n",
       "  <th>coffee_maker</th>                        <td>    0.0133</td> <td>    0.003</td> <td>    4.979</td> <td> 0.000</td> <td>    0.008</td> <td>    0.019</td>\n",
       "</tr>\n",
       "<tr>\n",
       "  <th>netflix</th>                             <td>    0.0359</td> <td>    0.009</td> <td>    4.024</td> <td> 0.000</td> <td>    0.018</td> <td>    0.053</td>\n",
       "</tr>\n",
       "<tr>\n",
       "  <th>greeting</th>                            <td>   -0.0102</td> <td>    0.004</td> <td>   -2.676</td> <td> 0.007</td> <td>   -0.018</td> <td>   -0.003</td>\n",
       "</tr>\n",
       "<tr>\n",
       "  <th>freeparking</th>                         <td>    0.0033</td> <td>    0.003</td> <td>    1.204</td> <td> 0.228</td> <td>   -0.002</td> <td>    0.009</td>\n",
       "</tr>\n",
       "<tr>\n",
       "  <th>outdoorpart</th>                         <td>    0.0062</td> <td>    0.003</td> <td>    2.170</td> <td> 0.030</td> <td>    0.001</td> <td>    0.012</td>\n",
       "</tr>\n",
       "<tr>\n",
       "  <th>prop_Apartment</th>                      <td>    0.0218</td> <td>    0.008</td> <td>    2.714</td> <td> 0.007</td> <td>    0.006</td> <td>    0.038</td>\n",
       "</tr>\n",
       "<tr>\n",
       "  <th>prop_Bed and breakfast</th>              <td>    0.1328</td> <td>    0.023</td> <td>    5.780</td> <td> 0.000</td> <td>    0.088</td> <td>    0.178</td>\n",
       "</tr>\n",
       "<tr>\n",
       "  <th>prop_Bungalow</th>                       <td>    0.0262</td> <td>    0.019</td> <td>    1.375</td> <td> 0.169</td> <td>   -0.011</td> <td>    0.064</td>\n",
       "</tr>\n",
       "<tr>\n",
       "  <th>prop_Condominium</th>                    <td>    0.0495</td> <td>    0.009</td> <td>    5.821</td> <td> 0.000</td> <td>    0.033</td> <td>    0.066</td>\n",
       "</tr>\n",
       "<tr>\n",
       "  <th>prop_Cottage</th>                        <td>    0.0364</td> <td>    0.023</td> <td>    1.575</td> <td> 0.115</td> <td>   -0.009</td> <td>    0.082</td>\n",
       "</tr>\n",
       "<tr>\n",
       "  <th>prop_Cycladic house (Greece)</th>        <td>    0.0355</td> <td>    0.082</td> <td>    0.435</td> <td> 0.664</td> <td>   -0.125</td> <td>    0.196</td>\n",
       "</tr>\n",
       "<tr>\n",
       "  <th>prop_Guest suite</th>                    <td>    0.0238</td> <td>    0.009</td> <td>    2.676</td> <td> 0.007</td> <td>    0.006</td> <td>    0.041</td>\n",
       "</tr>\n",
       "<tr>\n",
       "  <th>prop_Guesthouse</th>                     <td>    0.0143</td> <td>    0.015</td> <td>    0.968</td> <td> 0.333</td> <td>   -0.015</td> <td>    0.043</td>\n",
       "</tr>\n",
       "<tr>\n",
       "  <th>prop_Hostel</th>                         <td>    0.0640</td> <td>    0.019</td> <td>    3.454</td> <td> 0.001</td> <td>    0.028</td> <td>    0.100</td>\n",
       "</tr>\n",
       "<tr>\n",
       "  <th>prop_Hotel</th>                          <td>    0.1513</td> <td>    0.009</td> <td>   16.086</td> <td> 0.000</td> <td>    0.133</td> <td>    0.170</td>\n",
       "</tr>\n",
       "<tr>\n",
       "  <th>prop_House</th>                          <td>    0.0329</td> <td>    0.008</td> <td>    4.030</td> <td> 0.000</td> <td>    0.017</td> <td>    0.049</td>\n",
       "</tr>\n",
       "<tr>\n",
       "  <th>prop_In-law</th>                         <td>    0.0287</td> <td>    0.082</td> <td>    0.351</td> <td> 0.725</td> <td>   -0.131</td> <td>    0.189</td>\n",
       "</tr>\n",
       "<tr>\n",
       "  <th>prop_Loft</th>                           <td>    0.0654</td> <td>    0.012</td> <td>    5.578</td> <td> 0.000</td> <td>    0.042</td> <td>    0.088</td>\n",
       "</tr>\n",
       "<tr>\n",
       "  <th>prop_Other</th>                          <td>    0.1194</td> <td>    0.019</td> <td>    6.409</td> <td> 0.000</td> <td>    0.083</td> <td>    0.156</td>\n",
       "</tr>\n",
       "<tr>\n",
       "  <th>prop_Serviced apartment</th>             <td>    0.0150</td> <td>    0.010</td> <td>    1.446</td> <td> 0.148</td> <td>   -0.005</td> <td>    0.035</td>\n",
       "</tr>\n",
       "<tr>\n",
       "  <th>prop_Townhouse</th>                      <td>    0.0324</td> <td>    0.011</td> <td>    2.822</td> <td> 0.005</td> <td>    0.010</td> <td>    0.055</td>\n",
       "</tr>\n",
       "<tr>\n",
       "  <th>prop_Villa</th>                          <td>    0.1241</td> <td>    0.038</td> <td>    3.277</td> <td> 0.001</td> <td>    0.050</td> <td>    0.198</td>\n",
       "</tr>\n",
       "<tr>\n",
       "  <th>neighbourhood_Bayview</th>               <td>   -0.0352</td> <td>    0.007</td> <td>   -4.769</td> <td> 0.000</td> <td>   -0.050</td> <td>   -0.021</td>\n",
       "</tr>\n",
       "<tr>\n",
       "  <th>neighbourhood_Bernal Heights</th>        <td>    0.0122</td> <td>    0.006</td> <td>    1.978</td> <td> 0.048</td> <td>    0.000</td> <td>    0.024</td>\n",
       "</tr>\n",
       "<tr>\n",
       "  <th>neighbourhood_Castro/Upper Market</th>   <td>    0.0504</td> <td>    0.006</td> <td>    8.379</td> <td> 0.000</td> <td>    0.039</td> <td>    0.062</td>\n",
       "</tr>\n",
       "<tr>\n",
       "  <th>neighbourhood_Chinatown</th>             <td>    0.0430</td> <td>    0.009</td> <td>    4.843</td> <td> 0.000</td> <td>    0.026</td> <td>    0.060</td>\n",
       "</tr>\n",
       "<tr>\n",
       "  <th>neighbourhood_Crocker Amazon</th>        <td>   -0.0243</td> <td>    0.012</td> <td>   -1.966</td> <td> 0.049</td> <td>   -0.049</td> <td>-6.47e-05</td>\n",
       "</tr>\n",
       "<tr>\n",
       "  <th>neighbourhood_Diamond Heights</th>       <td>    0.0093</td> <td>    0.022</td> <td>    0.423</td> <td> 0.673</td> <td>   -0.034</td> <td>    0.053</td>\n",
       "</tr>\n",
       "<tr>\n",
       "  <th>neighbourhood_Downtown/Civic Center</th> <td>    0.0378</td> <td>    0.006</td> <td>    6.392</td> <td> 0.000</td> <td>    0.026</td> <td>    0.049</td>\n",
       "</tr>\n",
       "<tr>\n",
       "  <th>neighbourhood_Excelsior</th>             <td>   -0.0493</td> <td>    0.008</td> <td>   -6.119</td> <td> 0.000</td> <td>   -0.065</td> <td>   -0.034</td>\n",
       "</tr>\n",
       "<tr>\n",
       "  <th>neighbourhood_Financial District</th>    <td>    0.0788</td> <td>    0.008</td> <td>    9.798</td> <td> 0.000</td> <td>    0.063</td> <td>    0.095</td>\n",
       "</tr>\n",
       "<tr>\n",
       "  <th>neighbourhood_Glen Park</th>             <td>    0.0166</td> <td>    0.012</td> <td>    1.354</td> <td> 0.176</td> <td>   -0.007</td> <td>    0.041</td>\n",
       "</tr>\n",
       "<tr>\n",
       "  <th>neighbourhood_Golden Gate Park</th>      <td>    0.0669</td> <td>    0.042</td> <td>    1.590</td> <td> 0.112</td> <td>   -0.016</td> <td>    0.149</td>\n",
       "</tr>\n",
       "<tr>\n",
       "  <th>neighbourhood_Haight Ashbury</th>        <td>    0.0442</td> <td>    0.006</td> <td>    6.966</td> <td> 0.000</td> <td>    0.032</td> <td>    0.057</td>\n",
       "</tr>\n",
       "<tr>\n",
       "  <th>neighbourhood_Inner Richmond</th>        <td>    0.0279</td> <td>    0.007</td> <td>    3.834</td> <td> 0.000</td> <td>    0.014</td> <td>    0.042</td>\n",
       "</tr>\n",
       "<tr>\n",
       "  <th>neighbourhood_Inner Sunset</th>          <td>    0.0202</td> <td>    0.008</td> <td>    2.427</td> <td> 0.015</td> <td>    0.004</td> <td>    0.037</td>\n",
       "</tr>\n",
       "<tr>\n",
       "  <th>neighbourhood_Lakeshore</th>             <td>    0.0096</td> <td>    0.013</td> <td>    0.766</td> <td> 0.444</td> <td>   -0.015</td> <td>    0.034</td>\n",
       "</tr>\n",
       "<tr>\n",
       "  <th>neighbourhood_Marina</th>                <td>    0.0700</td> <td>    0.008</td> <td>    8.782</td> <td> 0.000</td> <td>    0.054</td> <td>    0.086</td>\n",
       "</tr>\n",
       "<tr>\n",
       "  <th>neighbourhood_Mission</th>               <td>    0.0448</td> <td>    0.005</td> <td>    8.624</td> <td> 0.000</td> <td>    0.035</td> <td>    0.055</td>\n",
       "</tr>\n",
       "<tr>\n",
       "  <th>neighbourhood_Nob Hill</th>              <td>    0.0494</td> <td>    0.007</td> <td>    7.036</td> <td> 0.000</td> <td>    0.036</td> <td>    0.063</td>\n",
       "</tr>\n",
       "<tr>\n",
       "  <th>neighbourhood_Noe Valley</th>            <td>    0.0518</td> <td>    0.006</td> <td>    7.994</td> <td> 0.000</td> <td>    0.039</td> <td>    0.065</td>\n",
       "</tr>\n",
       "<tr>\n",
       "  <th>neighbourhood_North Beach</th>           <td>    0.0867</td> <td>    0.008</td> <td>   11.106</td> <td> 0.000</td> <td>    0.071</td> <td>    0.102</td>\n",
       "</tr>\n",
       "<tr>\n",
       "  <th>neighbourhood_Ocean View</th>            <td>   -0.0259</td> <td>    0.009</td> <td>   -2.856</td> <td> 0.004</td> <td>   -0.044</td> <td>   -0.008</td>\n",
       "</tr>\n",
       "<tr>\n",
       "  <th>neighbourhood_Outer Mission</th>         <td>   -0.0102</td> <td>    0.008</td> <td>   -1.231</td> <td> 0.218</td> <td>   -0.026</td> <td>    0.006</td>\n",
       "</tr>\n",
       "<tr>\n",
       "  <th>neighbourhood_Outer Richmond</th>        <td>    0.0057</td> <td>    0.008</td> <td>    0.687</td> <td> 0.492</td> <td>   -0.011</td> <td>    0.022</td>\n",
       "</tr>\n",
       "<tr>\n",
       "  <th>neighbourhood_Outer Sunset</th>          <td>   -0.0013</td> <td>    0.007</td> <td>   -0.201</td> <td> 0.841</td> <td>   -0.014</td> <td>    0.011</td>\n",
       "</tr>\n",
       "<tr>\n",
       "  <th>neighbourhood_Pacific Heights</th>       <td>    0.0785</td> <td>    0.008</td> <td>    9.489</td> <td> 0.000</td> <td>    0.062</td> <td>    0.095</td>\n",
       "</tr>\n",
       "<tr>\n",
       "  <th>neighbourhood_Parkside</th>              <td>   -0.0079</td> <td>    0.009</td> <td>   -0.918</td> <td> 0.358</td> <td>   -0.025</td> <td>    0.009</td>\n",
       "</tr>\n",
       "<tr>\n",
       "  <th>neighbourhood_Potrero Hill</th>          <td>    0.0501</td> <td>    0.007</td> <td>    7.185</td> <td> 0.000</td> <td>    0.036</td> <td>    0.064</td>\n",
       "</tr>\n",
       "<tr>\n",
       "  <th>neighbourhood_Presidio</th>              <td>    0.0378</td> <td>    0.084</td> <td>    0.451</td> <td> 0.652</td> <td>   -0.127</td> <td>    0.202</td>\n",
       "</tr>\n",
       "<tr>\n",
       "  <th>neighbourhood_Presidio Heights</th>      <td>    0.0519</td> <td>    0.019</td> <td>    2.687</td> <td> 0.007</td> <td>    0.014</td> <td>    0.090</td>\n",
       "</tr>\n",
       "<tr>\n",
       "  <th>neighbourhood_Russian Hill</th>          <td>    0.0745</td> <td>    0.008</td> <td>    9.253</td> <td> 0.000</td> <td>    0.059</td> <td>    0.090</td>\n",
       "</tr>\n",
       "<tr>\n",
       "  <th>neighbourhood_Seacliff</th>              <td>    0.0105</td> <td>    0.022</td> <td>    0.473</td> <td> 0.636</td> <td>   -0.033</td> <td>    0.054</td>\n",
       "</tr>\n",
       "<tr>\n",
       "  <th>neighbourhood_South of Market</th>       <td>    0.0847</td> <td>    0.006</td> <td>   15.278</td> <td> 0.000</td> <td>    0.074</td> <td>    0.096</td>\n",
       "</tr>\n",
       "<tr>\n",
       "  <th>neighbourhood_Treasure Island/YBI</th>   <td>   -0.0943</td> <td>    0.086</td> <td>   -1.101</td> <td> 0.271</td> <td>   -0.262</td> <td>    0.074</td>\n",
       "</tr>\n",
       "<tr>\n",
       "  <th>neighbourhood_Twin Peaks</th>            <td>    0.0585</td> <td>    0.012</td> <td>    4.860</td> <td> 0.000</td> <td>    0.035</td> <td>    0.082</td>\n",
       "</tr>\n",
       "<tr>\n",
       "  <th>neighbourhood_Visitacion Valley</th>     <td>    0.0004</td> <td>    0.011</td> <td>    0.036</td> <td> 0.971</td> <td>   -0.022</td> <td>    0.023</td>\n",
       "</tr>\n",
       "<tr>\n",
       "  <th>neighbourhood_West of Twin Peaks</th>    <td>    0.0002</td> <td>    0.009</td> <td>    0.017</td> <td> 0.987</td> <td>   -0.018</td> <td>    0.018</td>\n",
       "</tr>\n",
       "<tr>\n",
       "  <th>neighbourhood_Western Addition</th>      <td>    0.0496</td> <td>    0.005</td> <td>    9.044</td> <td> 0.000</td> <td>    0.039</td> <td>    0.060</td>\n",
       "</tr>\n",
       "<tr>\n",
       "  <th>review_of_<4.0</th>                      <td>    0.1156</td> <td>    0.008</td> <td>   15.225</td> <td> 0.000</td> <td>    0.101</td> <td>    0.131</td>\n",
       "</tr>\n",
       "<tr>\n",
       "  <th>review_of_>4.0</th>                      <td>    0.1207</td> <td>    0.006</td> <td>   19.511</td> <td> 0.000</td> <td>    0.109</td> <td>    0.133</td>\n",
       "</tr>\n",
       "<tr>\n",
       "  <th>review_of_>4.2</th>                      <td>    0.1198</td> <td>    0.004</td> <td>   27.046</td> <td> 0.000</td> <td>    0.111</td> <td>    0.129</td>\n",
       "</tr>\n",
       "<tr>\n",
       "  <th>review_of_>4.6</th>                      <td>    0.1417</td> <td>    0.004</td> <td>   37.161</td> <td> 0.000</td> <td>    0.134</td> <td>    0.149</td>\n",
       "</tr>\n",
       "<tr>\n",
       "  <th>review_of_>4.8</th>                      <td>    0.1579</td> <td>    0.004</td> <td>   44.545</td> <td> 0.000</td> <td>    0.151</td> <td>    0.165</td>\n",
       "</tr>\n",
       "<tr>\n",
       "  <th>review_of_>4.9</th>                      <td>    0.1614</td> <td>    0.003</td> <td>   50.339</td> <td> 0.000</td> <td>    0.155</td> <td>    0.168</td>\n",
       "</tr>\n",
       "<tr>\n",
       "  <th>review_of_no review</th>                 <td>    0.1562</td> <td>    0.003</td> <td>   45.078</td> <td> 0.000</td> <td>    0.149</td> <td>    0.163</td>\n",
       "</tr>\n",
       "</table>\n",
       "<table class=\"simpletable\">\n",
       "<tr>\n",
       "  <th>Omnibus:</th>       <td>1379.921</td> <th>  Durbin-Watson:     </th> <td>   1.928</td> \n",
       "</tr>\n",
       "<tr>\n",
       "  <th>Prob(Omnibus):</th>  <td> 0.000</td>  <th>  Jarque-Bera (JB):  </th> <td>30937.216</td>\n",
       "</tr>\n",
       "<tr>\n",
       "  <th>Skew:</th>           <td> 0.452</td>  <th>  Prob(JB):          </th> <td>    0.00</td> \n",
       "</tr>\n",
       "<tr>\n",
       "  <th>Kurtosis:</th>       <td>13.667</td>  <th>  Cond. No.          </th> <td>1.13e+16</td> \n",
       "</tr>\n",
       "</table><br/><br/>Warnings:<br/>[1] Standard Errors assume that the covariance matrix of the errors is correctly specified.<br/>[2] The smallest eigenvalue is 2.59e-25. This might indicate that there are<br/>strong multicollinearity problems or that the design matrix is singular."
      ],
      "text/plain": [
       "<class 'statsmodels.iolib.summary.Summary'>\n",
       "\"\"\"\n",
       "                            OLS Regression Results                            \n",
       "==============================================================================\n",
       "Dep. Variable:                  price   R-squared:                       0.614\n",
       "Model:                            OLS   Adj. R-squared:                  0.609\n",
       "Method:                 Least Squares   F-statistic:                     113.0\n",
       "Date:                Fri, 20 Mar 2020   Prob (F-statistic):               0.00\n",
       "Time:                        08:40:41   Log-Likelihood:                 6757.4\n",
       "No. Observations:                6479   AIC:                        -1.333e+04\n",
       "Df Residuals:                    6388   BIC:                        -1.272e+04\n",
       "Df Model:                          90                                         \n",
       "Covariance Type:            nonrobust                                         \n",
       "=======================================================================================================\n",
       "                                          coef    std err          t      P>|t|      [0.025      0.975]\n",
       "-------------------------------------------------------------------------------------------------------\n",
       "host_response_time                     -0.0246      0.004     -5.936      0.000      -0.033      -0.016\n",
       "host_response_rate                      0.0323      0.010      3.125      0.002       0.012       0.053\n",
       "host_acceptance_rate                   -0.0103      0.005     -2.074      0.038      -0.020      -0.001\n",
       "host_is_superhost                       0.0128      0.003      4.642      0.000       0.007       0.018\n",
       "host_identity_verified                  0.0094      0.002      3.857      0.000       0.005       0.014\n",
       "accommodates                            0.2353      0.018     12.919      0.000       0.200       0.271\n",
       "bathrooms                              -0.0615      0.016     -3.943      0.000      -0.092      -0.031\n",
       "bedrooms                                0.3750      0.027     14.051      0.000       0.323       0.427\n",
       "beds                                   -0.0262      0.013     -1.990      0.047      -0.052      -0.000\n",
       "bed_type                               -0.0098      0.012     -0.830      0.407      -0.033       0.013\n",
       "security_deposit                       -0.0103      0.007     -1.512      0.131      -0.024       0.003\n",
       "cleaning_fee                            0.0477      0.011      4.453      0.000       0.027       0.069\n",
       "guests_included                         0.0037      0.001      3.275      0.001       0.001       0.006\n",
       "extra_people                            0.0403      0.012      3.304      0.001       0.016       0.064\n",
       "number_of_reviews                      -0.0336      0.018     -1.906      0.057      -0.068       0.001\n",
       "number_of_reviews_ltm                  -0.0155      0.034     -0.453      0.650      -0.083       0.052\n",
       "instant_bookable                        0.0007      0.002      0.272      0.786      -0.004       0.005\n",
       "cancellation_policy                     0.0052      0.001      3.768      0.000       0.003       0.008\n",
       "require_guest_profile_picture          -0.0104      0.006     -1.714      0.087      -0.022       0.001\n",
       "calculated_host_listings_count       3.609e-05   2.67e-05      1.353      0.176   -1.62e-05    8.84e-05\n",
       "reviews_per_month                       0.0813      0.038      2.141      0.032       0.007       0.156\n",
       "bedbathratio                           -0.1266      0.018     -7.092      0.000      -0.162      -0.092\n",
       "intercept                               0.9734      0.014     70.338      0.000       0.946       1.001\n",
       "room_1                                  0.0833      0.007     11.287      0.000       0.069       0.098\n",
       "room_2                                  0.2969      0.009     31.714      0.000       0.279       0.315\n",
       "room_3                                  0.2599      0.005     57.199      0.000       0.251       0.269\n",
       "room_4                                  0.3332      0.005     69.898      0.000       0.324       0.343\n",
       "breakfast                               0.0035      0.004      0.910      0.363      -0.004       0.011\n",
       "family_friendly                         0.0070      0.003      2.649      0.008       0.002       0.012\n",
       "coffee_maker                            0.0133      0.003      4.979      0.000       0.008       0.019\n",
       "netflix                                 0.0359      0.009      4.024      0.000       0.018       0.053\n",
       "greeting                               -0.0102      0.004     -2.676      0.007      -0.018      -0.003\n",
       "freeparking                             0.0033      0.003      1.204      0.228      -0.002       0.009\n",
       "outdoorpart                             0.0062      0.003      2.170      0.030       0.001       0.012\n",
       "prop_Apartment                          0.0218      0.008      2.714      0.007       0.006       0.038\n",
       "prop_Bed and breakfast                  0.1328      0.023      5.780      0.000       0.088       0.178\n",
       "prop_Bungalow                           0.0262      0.019      1.375      0.169      -0.011       0.064\n",
       "prop_Condominium                        0.0495      0.009      5.821      0.000       0.033       0.066\n",
       "prop_Cottage                            0.0364      0.023      1.575      0.115      -0.009       0.082\n",
       "prop_Cycladic house (Greece)            0.0355      0.082      0.435      0.664      -0.125       0.196\n",
       "prop_Guest suite                        0.0238      0.009      2.676      0.007       0.006       0.041\n",
       "prop_Guesthouse                         0.0143      0.015      0.968      0.333      -0.015       0.043\n",
       "prop_Hostel                             0.0640      0.019      3.454      0.001       0.028       0.100\n",
       "prop_Hotel                              0.1513      0.009     16.086      0.000       0.133       0.170\n",
       "prop_House                              0.0329      0.008      4.030      0.000       0.017       0.049\n",
       "prop_In-law                             0.0287      0.082      0.351      0.725      -0.131       0.189\n",
       "prop_Loft                               0.0654      0.012      5.578      0.000       0.042       0.088\n",
       "prop_Other                              0.1194      0.019      6.409      0.000       0.083       0.156\n",
       "prop_Serviced apartment                 0.0150      0.010      1.446      0.148      -0.005       0.035\n",
       "prop_Townhouse                          0.0324      0.011      2.822      0.005       0.010       0.055\n",
       "prop_Villa                              0.1241      0.038      3.277      0.001       0.050       0.198\n",
       "neighbourhood_Bayview                  -0.0352      0.007     -4.769      0.000      -0.050      -0.021\n",
       "neighbourhood_Bernal Heights            0.0122      0.006      1.978      0.048       0.000       0.024\n",
       "neighbourhood_Castro/Upper Market       0.0504      0.006      8.379      0.000       0.039       0.062\n",
       "neighbourhood_Chinatown                 0.0430      0.009      4.843      0.000       0.026       0.060\n",
       "neighbourhood_Crocker Amazon           -0.0243      0.012     -1.966      0.049      -0.049   -6.47e-05\n",
       "neighbourhood_Diamond Heights           0.0093      0.022      0.423      0.673      -0.034       0.053\n",
       "neighbourhood_Downtown/Civic Center     0.0378      0.006      6.392      0.000       0.026       0.049\n",
       "neighbourhood_Excelsior                -0.0493      0.008     -6.119      0.000      -0.065      -0.034\n",
       "neighbourhood_Financial District        0.0788      0.008      9.798      0.000       0.063       0.095\n",
       "neighbourhood_Glen Park                 0.0166      0.012      1.354      0.176      -0.007       0.041\n",
       "neighbourhood_Golden Gate Park          0.0669      0.042      1.590      0.112      -0.016       0.149\n",
       "neighbourhood_Haight Ashbury            0.0442      0.006      6.966      0.000       0.032       0.057\n",
       "neighbourhood_Inner Richmond            0.0279      0.007      3.834      0.000       0.014       0.042\n",
       "neighbourhood_Inner Sunset              0.0202      0.008      2.427      0.015       0.004       0.037\n",
       "neighbourhood_Lakeshore                 0.0096      0.013      0.766      0.444      -0.015       0.034\n",
       "neighbourhood_Marina                    0.0700      0.008      8.782      0.000       0.054       0.086\n",
       "neighbourhood_Mission                   0.0448      0.005      8.624      0.000       0.035       0.055\n",
       "neighbourhood_Nob Hill                  0.0494      0.007      7.036      0.000       0.036       0.063\n",
       "neighbourhood_Noe Valley                0.0518      0.006      7.994      0.000       0.039       0.065\n",
       "neighbourhood_North Beach               0.0867      0.008     11.106      0.000       0.071       0.102\n",
       "neighbourhood_Ocean View               -0.0259      0.009     -2.856      0.004      -0.044      -0.008\n",
       "neighbourhood_Outer Mission            -0.0102      0.008     -1.231      0.218      -0.026       0.006\n",
       "neighbourhood_Outer Richmond            0.0057      0.008      0.687      0.492      -0.011       0.022\n",
       "neighbourhood_Outer Sunset             -0.0013      0.007     -0.201      0.841      -0.014       0.011\n",
       "neighbourhood_Pacific Heights           0.0785      0.008      9.489      0.000       0.062       0.095\n",
       "neighbourhood_Parkside                 -0.0079      0.009     -0.918      0.358      -0.025       0.009\n",
       "neighbourhood_Potrero Hill              0.0501      0.007      7.185      0.000       0.036       0.064\n",
       "neighbourhood_Presidio                  0.0378      0.084      0.451      0.652      -0.127       0.202\n",
       "neighbourhood_Presidio Heights          0.0519      0.019      2.687      0.007       0.014       0.090\n",
       "neighbourhood_Russian Hill              0.0745      0.008      9.253      0.000       0.059       0.090\n",
       "neighbourhood_Seacliff                  0.0105      0.022      0.473      0.636      -0.033       0.054\n",
       "neighbourhood_South of Market           0.0847      0.006     15.278      0.000       0.074       0.096\n",
       "neighbourhood_Treasure Island/YBI      -0.0943      0.086     -1.101      0.271      -0.262       0.074\n",
       "neighbourhood_Twin Peaks                0.0585      0.012      4.860      0.000       0.035       0.082\n",
       "neighbourhood_Visitacion Valley         0.0004      0.011      0.036      0.971      -0.022       0.023\n",
       "neighbourhood_West of Twin Peaks        0.0002      0.009      0.017      0.987      -0.018       0.018\n",
       "neighbourhood_Western Addition          0.0496      0.005      9.044      0.000       0.039       0.060\n",
       "review_of_<4.0                          0.1156      0.008     15.225      0.000       0.101       0.131\n",
       "review_of_>4.0                          0.1207      0.006     19.511      0.000       0.109       0.133\n",
       "review_of_>4.2                          0.1198      0.004     27.046      0.000       0.111       0.129\n",
       "review_of_>4.6                          0.1417      0.004     37.161      0.000       0.134       0.149\n",
       "review_of_>4.8                          0.1579      0.004     44.545      0.000       0.151       0.165\n",
       "review_of_>4.9                          0.1614      0.003     50.339      0.000       0.155       0.168\n",
       "review_of_no review                     0.1562      0.003     45.078      0.000       0.149       0.163\n",
       "==============================================================================\n",
       "Omnibus:                     1379.921   Durbin-Watson:                   1.928\n",
       "Prob(Omnibus):                  0.000   Jarque-Bera (JB):            30937.216\n",
       "Skew:                           0.452   Prob(JB):                         0.00\n",
       "Kurtosis:                      13.667   Cond. No.                     1.13e+16\n",
       "==============================================================================\n",
       "\n",
       "Warnings:\n",
       "[1] Standard Errors assume that the covariance matrix of the errors is correctly specified.\n",
       "[2] The smallest eigenvalue is 2.59e-25. This might indicate that there are\n",
       "strong multicollinearity problems or that the design matrix is singular.\n",
       "\"\"\""
      ]
     },
     "execution_count": 30,
     "metadata": {},
     "output_type": "execute_result"
    }
   ],
   "source": [
    "model = sm.OLS(y_train, X_train)\n",
    "fit = model.fit()\n",
    "\n",
    "test_set_pred = fit.predict(X_train)\n",
    "\n",
    "from sklearn.linear_model import LinearRegression\n",
    "from sklearn.model_selection import cross_val_score, KFold\n",
    "\n",
    "fivesplits = KFold(n_splits = 5, shuffle = True, random_state = 7)\n",
    "\n",
    "#we'll also do a cross validation to see model performance on top of ordinary least squares\n",
    "print('cross validated r2', np.mean(cross_val_score(LinearRegression(), X_train, y_train, cv = fivesplits, scoring = 'r2')))\n",
    "\n",
    "#okay not too bad.. we'll continue on\n",
    "#https://sukhbinder.wordpress.com/2018/08/07/cross-validation-score-with-statsmodels/\n",
    "fit.summary()"
   ]
  },
  {
   "cell_type": "code",
   "execution_count": 57,
   "metadata": {
    "ExecuteTime": {
     "end_time": "2020-03-20T16:30:59.191884Z",
     "start_time": "2020-03-20T16:30:08.220309Z"
    }
   },
   "outputs": [
    {
     "data": {
      "text/plain": [
       "GridSearchCV(cv=KFold(n_splits=5, random_state=42, shuffle=True),\n",
       "             error_score='raise-deprecating',\n",
       "             estimator=Ridge(alpha=1.0, copy_X=True, fit_intercept=True,\n",
       "                             max_iter=None, normalize=False, random_state=None,\n",
       "                             solver='auto', tol=0.001),\n",
       "             iid='warn', n_jobs=-1,\n",
       "             param_grid={'alpha': array([1.00000000e-03, 1.02333233e-03, 1.04720906e-03, 1.07164288e-03,\n",
       "       1.09664681e-03, 1....\n",
       "       6.45182835e+02, 6.60236453e+02, 6.75641307e+02, 6.91405593e+02,\n",
       "       7.07537695e+02, 7.24046198e+02, 7.40939882e+02, 7.58227735e+02,\n",
       "       7.75918954e+02, 7.94022950e+02, 8.12549354e+02, 8.31508023e+02,\n",
       "       8.50909042e+02, 8.70762732e+02, 8.91079654e+02, 9.11870618e+02,\n",
       "       9.33146683e+02, 9.54919168e+02, 9.77199656e+02, 1.00000000e+03])},\n",
       "             pre_dispatch='2*n_jobs', refit=True, return_train_score=False,\n",
       "             scoring='r2', verbose=0)"
      ]
     },
     "execution_count": 57,
     "metadata": {},
     "output_type": "execute_result"
    }
   ],
   "source": [
    "param_grid = {'alpha': 10**np.linspace(-3, 3, 600)}\n",
    "#wwwww\n",
    "\n",
    "fivesplit = KFold(n_splits = 5, shuffle = True, random_state = 42)\n",
    "\n",
    "gridsearch = GridSearchCV(Ridge(), param_grid, cv=fivesplit, n_jobs=-1, scoring='r2')\n",
    "gridsearch.fit(X_train, y_train)"
   ]
  },
  {
   "cell_type": "code",
   "execution_count": 60,
   "metadata": {
    "ExecuteTime": {
     "end_time": "2020-03-20T16:31:38.531168Z",
     "start_time": "2020-03-20T16:31:38.522721Z"
    }
   },
   "outputs": [],
   "source": [
    "ridge = gridsearch.best_estimator_"
   ]
  },
  {
   "cell_type": "code",
   "execution_count": 62,
   "metadata": {
    "ExecuteTime": {
     "end_time": "2020-03-20T16:31:51.288794Z",
     "start_time": "2020-03-20T16:31:51.278782Z"
    }
   },
   "outputs": [
    {
     "name": "stdout",
     "output_type": "stream",
     "text": [
      "Ridge Model Alpha = 1.161739\n"
     ]
    }
   ],
   "source": [
    "print('Ridge Model Alpha = {:f}'.format(ridge.alpha))"
   ]
  },
  {
   "cell_type": "code",
   "execution_count": 61,
   "metadata": {
    "ExecuteTime": {
     "end_time": "2020-03-20T16:31:39.390153Z",
     "start_time": "2020-03-20T16:31:39.342642Z"
    }
   },
   "outputs": [
    {
     "name": "stdout",
     "output_type": "stream",
     "text": [
      "Ridge model R^2 on in-sample data: 0.613870\n"
     ]
    }
   ],
   "source": [
    "print('Ridge model R^2 on in-sample data: {:f}'.format(\n",
    "    ridge.score(X_train, y_train)))"
   ]
  },
  {
   "cell_type": "code",
   "execution_count": null,
   "metadata": {},
   "outputs": [],
   "source": []
  },
  {
   "cell_type": "code",
   "execution_count": null,
   "metadata": {},
   "outputs": [],
   "source": []
  },
  {
   "cell_type": "code",
   "execution_count": 10,
   "metadata": {
    "ExecuteTime": {
     "end_time": "2020-03-20T15:29:43.962684Z",
     "start_time": "2020-03-20T15:29:43.731840Z"
    }
   },
   "outputs": [
    {
     "ename": "NameError",
     "evalue": "name 'plt' is not defined",
     "output_type": "error",
     "traceback": [
      "\u001b[0;31m---------------------------------------------------------------------------\u001b[0m",
      "\u001b[0;31mNameError\u001b[0m                                 Traceback (most recent call last)",
      "\u001b[0;32m<ipython-input-10-d475aec94c61>\u001b[0m in \u001b[0;36m<module>\u001b[0;34m\u001b[0m\n\u001b[0;32m----> 1\u001b[0;31m \u001b[0mplt\u001b[0m\u001b[0;34m.\u001b[0m\u001b[0mfigure\u001b[0m\u001b[0;34m(\u001b[0m\u001b[0mfigsize\u001b[0m\u001b[0;34m=\u001b[0m\u001b[0;34m(\u001b[0m\u001b[0;36m10\u001b[0m\u001b[0;34m,\u001b[0m\u001b[0;36m4\u001b[0m\u001b[0;34m)\u001b[0m\u001b[0;34m)\u001b[0m\u001b[0;34m\u001b[0m\u001b[0;34m\u001b[0m\u001b[0m\n\u001b[0m\u001b[1;32m      2\u001b[0m \u001b[0mplt\u001b[0m\u001b[0;34m.\u001b[0m\u001b[0mscatter\u001b[0m\u001b[0;34m(\u001b[0m\u001b[0my_train\u001b[0m\u001b[0;34m,\u001b[0m \u001b[0mtest_set_pred\u001b[0m\u001b[0;34m,\u001b[0m \u001b[0malpha\u001b[0m\u001b[0;34m=\u001b[0m \u001b[0;36m.3\u001b[0m\u001b[0;34m)\u001b[0m\u001b[0;34m\u001b[0m\u001b[0;34m\u001b[0m\u001b[0m\n\u001b[1;32m      3\u001b[0m \u001b[0mplt\u001b[0m\u001b[0;34m.\u001b[0m\u001b[0mplot\u001b[0m\u001b[0;34m(\u001b[0m\u001b[0mnp\u001b[0m\u001b[0;34m.\u001b[0m\u001b[0mlinspace\u001b[0m\u001b[0;34m(\u001b[0m\u001b[0;36m0\u001b[0m\u001b[0;34m,\u001b[0m\u001b[0;36m10000000\u001b[0m\u001b[0;34m,\u001b[0m\u001b[0;36m100\u001b[0m\u001b[0;34m)\u001b[0m\u001b[0;34m,\u001b[0m \u001b[0mnp\u001b[0m\u001b[0;34m.\u001b[0m\u001b[0mlinspace\u001b[0m\u001b[0;34m(\u001b[0m\u001b[0;36m0\u001b[0m\u001b[0;34m,\u001b[0m\u001b[0;36m10000000\u001b[0m\u001b[0;34m,\u001b[0m\u001b[0;36m100\u001b[0m\u001b[0;34m)\u001b[0m\u001b[0;34m)\u001b[0m\u001b[0;34m\u001b[0m\u001b[0;34m\u001b[0m\u001b[0m\n\u001b[1;32m      4\u001b[0m \u001b[0mplt\u001b[0m\u001b[0;34m.\u001b[0m\u001b[0mylim\u001b[0m\u001b[0;34m(\u001b[0m\u001b[0;36m0\u001b[0m\u001b[0;34m,\u001b[0m \u001b[0;36m10\u001b[0m\u001b[0;34m)\u001b[0m\u001b[0;34m\u001b[0m\u001b[0;34m\u001b[0m\u001b[0m\n\u001b[1;32m      5\u001b[0m \u001b[0mplt\u001b[0m\u001b[0;34m.\u001b[0m\u001b[0mxlim\u001b[0m\u001b[0;34m(\u001b[0m\u001b[0;36m0\u001b[0m\u001b[0;34m,\u001b[0m \u001b[0;36m10\u001b[0m\u001b[0;34m)\u001b[0m\u001b[0;34m\u001b[0m\u001b[0;34m\u001b[0m\u001b[0m\n",
      "\u001b[0;31mNameError\u001b[0m: name 'plt' is not defined"
     ]
    }
   ],
   "source": [
    "plt.figure(figsize=(10,4))\n",
    "plt.scatter(y_train, test_set_pred, alpha= .3)\n",
    "plt.plot(np.linspace(0,10000000,100), np.linspace(0,10000000,100))\n",
    "plt.ylim(0, 10)\n",
    "plt.xlim(0, 10)\n",
    "# print('r2 score is:', r2_score(y, test_set_pred))\n",
    "# print('mean absolute error(MAE) is:', mae(y_test, test_set_pred))\n",
    "plt.xlabel('Predicted Price', fontsize = 15, fontname = 'Helvetica', fontweight = 'bold')\n",
    "plt.ylabel('Actual Price', fontsize = 15, fontname = 'Arial', \n",
    "           fontweight = 'bold')"
   ]
  }
 ],
 "metadata": {
  "kernelspec": {
   "display_name": "Python [conda env:metis] *",
   "language": "python",
   "name": "conda-env-metis-py"
  },
  "language_info": {
   "codemirror_mode": {
    "name": "ipython",
    "version": 3
   },
   "file_extension": ".py",
   "mimetype": "text/x-python",
   "name": "python",
   "nbconvert_exporter": "python",
   "pygments_lexer": "ipython3",
   "version": "3.7.4"
  },
  "toc": {
   "base_numbering": 1,
   "nav_menu": {},
   "number_sections": false,
   "sideBar": true,
   "skip_h1_title": false,
   "title_cell": "Table of Contents",
   "title_sidebar": "Contents",
   "toc_cell": false,
   "toc_position": {},
   "toc_section_display": true,
   "toc_window_display": false
  }
 },
 "nbformat": 4,
 "nbformat_minor": 4
}
