{
 "cells": [
  {
   "cell_type": "markdown",
   "metadata": {},
   "source": [
    "# Exploratory Data Analysis\n",
    "\n",
    "did le-son use review and description together for topic modelling?  "
   ]
  },
  {
   "cell_type": "markdown",
   "metadata": {},
   "source": [
    "### loading data"
   ]
  },
  {
   "cell_type": "code",
   "execution_count": 1,
   "metadata": {
    "ExecuteTime": {
     "end_time": "2020-03-20T03:37:01.142664Z",
     "start_time": "2020-03-20T03:36:59.481570Z"
    }
   },
   "outputs": [
    {
     "name": "stdout",
     "output_type": "stream",
     "text": [
      "sf (8587, 106)\n",
      "<class 'pandas.core.frame.DataFrame'>\n",
      "RangeIndex: 8587 entries, 0 to 8586\n",
      "Columns: 106 entries, id to reviews_per_month\n",
      "dtypes: float64(20), int64(23), object(63)\n",
      "memory usage: 6.9+ MB\n"
     ]
    },
    {
     "name": "stderr",
     "output_type": "stream",
     "text": [
      "/home/xtzie/anaconda3/envs/metis/lib/python3.7/site-packages/IPython/core/interactiveshell.py:3051: DtypeWarning: Columns (61,62) have mixed types. Specify dtype option on import or set low_memory=False.\n",
      "  interactivity=interactivity, compiler=compiler, result=result)\n"
     ]
    }
   ],
   "source": [
    "import pandas as pd\n",
    "import numpy as np\n",
    "import matplotlib.pyplot as plt\n",
    "import seaborn as sns\n",
    "\n",
    "from sklearn.preprocessing import QuantileTransformer, PowerTransformer\n",
    "\n",
    "pd.set_option('max_columns', 100)\n",
    "pd.set_option('max_rows', 110)\n",
    "\n",
    "lapath = 'data/losangeles-13feb/listings (1).csv'\n",
    "pathname = 'data/sf-12feb/listings (1).csv'\n",
    "nypath = 'data/newyork-12feb/listings (1).csv'\n",
    "\n",
    "df = pd.read_csv(pathname)\n",
    "print('sf', df.shape)\n",
    "df.info()\n"
   ]
  },
  {
   "cell_type": "code",
   "execution_count": 2,
   "metadata": {
    "ExecuteTime": {
     "end_time": "2020-03-20T03:37:01.171801Z",
     "start_time": "2020-03-20T03:37:01.145572Z"
    }
   },
   "outputs": [],
   "source": [
    "#we drop columns that don't have bearing on the customer\n",
    "neededcolumns = ['id', 'listing_url', 'name', 'summary', 'space', 'description',\n",
    "                 'neighborhood_overview', 'notes', 'transit', 'access', 'interaction', 'house_rules', \n",
    "                 'host_id', 'host_url', 'host_since', 'host_about', 'host_response_time', \n",
    "                 'host_response_rate', 'host_acceptance_rate', 'host_is_superhost', 'host_neighbourhood',\n",
    "                'host_listings_count', 'host_has_profile_pic', 'host_identity_verified', \n",
    "                'neighbourhood_cleansed', 'zipcode', 'latitude', 'longitude', 'property_type', 'room_type', \n",
    "                'accommodates', 'bathrooms', 'bedrooms', 'beds', 'bed_type', 'amenities', 'price', 'weekly_price',\n",
    "                'security_deposit', 'cleaning_fee', 'guests_included', 'extra_people', 'minimum_nights', 'maximum_nights',\n",
    "                'number_of_reviews', 'number_of_reviews_ltm', 'first_review', 'last_review', 'review_scores_rating',\n",
    "                'instant_bookable', 'is_business_travel_ready', 'cancellation_policy', 'require_guest_profile_picture',\n",
    "                'require_guest_phone_verification', 'calculated_host_listings_count', 'reviews_per_month']\n",
    "\n",
    "df = df[neededcolumns]"
   ]
  },
  {
   "cell_type": "code",
   "execution_count": 3,
   "metadata": {
    "ExecuteTime": {
     "end_time": "2020-03-20T03:37:01.716817Z",
     "start_time": "2020-03-20T03:37:01.175458Z"
    }
   },
   "outputs": [],
   "source": [
    "import pandas_profiling\n",
    "#uncomment rows below if running for the first time\n",
    "\n",
    "# report = pandas_profiling.ProfileReport(df, html = {'style': {'full_width': True}})\n",
    "# report.to_file('data_summary.html')\n",
    "# report"
   ]
  },
  {
   "cell_type": "markdown",
   "metadata": {},
   "source": [
    "### Data Cleaning"
   ]
  },
  {
   "cell_type": "markdown",
   "metadata": {},
   "source": [
    "#### Cleaning data formats"
   ]
  },
  {
   "cell_type": "code",
   "execution_count": 4,
   "metadata": {
    "ExecuteTime": {
     "end_time": "2020-03-20T03:37:01.905511Z",
     "start_time": "2020-03-20T03:37:01.719601Z"
    }
   },
   "outputs": [],
   "source": [
    "#cleaning dollar formats\n",
    "#this does not deal with null values (due to try except function)\n",
    "#null values addressed later\n",
    "\n",
    "import re\n",
    "\n",
    "def dollarformat(x):\n",
    "    '''\n",
    "    convert currency strings into interger amounts\n",
    "    removes $ , and . \n",
    "    converts str into int\n",
    "    '''\n",
    "    try: \n",
    "        return round(int(re.sub('[$,,,.]', '', x))/100,1)\n",
    "    except:\n",
    "        return x\n",
    "\n",
    "df['cleaning_fee'] = df['cleaning_fee'].map(lambda x: dollarformat(x))\n",
    "df['security_deposit'] = df['security_deposit'].map(lambda x: dollarformat(x))\n",
    "\n",
    "df['extra_people'] = df['extra_people'].map(lambda x: dollarformat(x))\n",
    "\n",
    "df['price'] = df['price'].map(lambda x: dollarformat(x))\n",
    "df['weekly_price'] = df['weekly_price'].map(lambda x: dollarformat(x))"
   ]
  },
  {
   "cell_type": "code",
   "execution_count": 5,
   "metadata": {
    "ExecuteTime": {
     "end_time": "2020-03-20T03:37:01.938333Z",
     "start_time": "2020-03-20T03:37:01.907522Z"
    }
   },
   "outputs": [],
   "source": [
    "def responsetime(x):\n",
    "    if x == 'a few days or more':\n",
    "        return int(1)\n",
    "    elif x == 'within a day':\n",
    "        return int(2)\n",
    "    elif x == 'within a few hours':\n",
    "        return int(3)\n",
    "    elif x == 'within an hour':\n",
    "        return int(4)\n",
    "    else:\n",
    "        return x\n",
    "    \n",
    "df.host_response_time = df.host_response_time.map(lambda x : responsetime(x))"
   ]
  },
  {
   "cell_type": "code",
   "execution_count": 6,
   "metadata": {
    "ExecuteTime": {
     "end_time": "2020-03-20T03:37:02.026760Z",
     "start_time": "2020-03-20T03:37:01.940537Z"
    }
   },
   "outputs": [],
   "source": [
    "def percentage(x):\n",
    "    '''\n",
    "    convert % strings into interger amounts\n",
    "    removes % , and . \n",
    "    converts str into int\n",
    "    '''\n",
    "    try: \n",
    "        return round(int(re.sub('[%,,,.]', '', x))/100,2)\n",
    "    except:\n",
    "        return x\n",
    "\n",
    "df.host_acceptance_rate = df.host_acceptance_rate.map(lambda x: percentage(x))\n",
    "df.host_response_rate = df.host_response_rate.map(lambda x: percentage(x))\n"
   ]
  },
  {
   "cell_type": "code",
   "execution_count": 7,
   "metadata": {
    "ExecuteTime": {
     "end_time": "2020-03-20T03:37:02.115370Z",
     "start_time": "2020-03-20T03:37:02.029350Z"
    }
   },
   "outputs": [],
   "source": [
    "#converting strings to date time\n",
    "df.first_review = pd.to_datetime(df.first_review)\n",
    "df.host_since = pd.to_datetime(df.host_since)\n",
    "df.last_review = pd.to_datetime(df.last_review)\n",
    "\n",
    "df['listing_age'] = pd.datetime.today() - df.first_review\n",
    "df['listing_age'] = round(df['listing_age'] / np.timedelta64(1, 'D'), 0)\n",
    "\n",
    "df['host_age'] = pd.datetime.today() - df.host_since\n",
    "df['host_age'] = round(df['host_age'] / np.timedelta64(1, 'D'), 0)"
   ]
  },
  {
   "cell_type": "code",
   "execution_count": 8,
   "metadata": {
    "ExecuteTime": {
     "end_time": "2020-03-20T03:37:02.206772Z",
     "start_time": "2020-03-20T03:37:02.118792Z"
    }
   },
   "outputs": [],
   "source": [
    "def truefalse(x):\n",
    "    if x == 't':\n",
    "        return 1\n",
    "    if x == 'f':\n",
    "        return 0\n",
    "    else:\n",
    "        return x\n",
    "\n",
    "df.host_is_superhost = df.host_is_superhost.map(lambda x : truefalse(x))\n",
    "df.instant_bookable = df.instant_bookable.map(lambda x : truefalse(x))\n",
    "df.host_identity_verified = df.host_identity_verified.map(lambda x : truefalse(x))\n",
    "df.require_guest_profile_picture = df.require_guest_profile_picture.map(lambda x : truefalse(x))"
   ]
  },
  {
   "cell_type": "code",
   "execution_count": 9,
   "metadata": {
    "ExecuteTime": {
     "end_time": "2020-03-20T03:37:02.460328Z",
     "start_time": "2020-03-20T03:37:02.210380Z"
    }
   },
   "outputs": [
    {
     "name": "stderr",
     "output_type": "stream",
     "text": [
      "/home/xtzie/anaconda3/envs/metis/lib/python3.7/site-packages/numpy/lib/histograms.py:839: RuntimeWarning: invalid value encountered in greater_equal\n",
      "  keep = (tmp_a >= first_edge)\n",
      "/home/xtzie/anaconda3/envs/metis/lib/python3.7/site-packages/numpy/lib/histograms.py:840: RuntimeWarning: invalid value encountered in less_equal\n",
      "  keep &= (tmp_a <= last_edge)\n"
     ]
    },
    {
     "data": {
      "text/plain": [
       "(array([1.191e+03, 7.230e+02, 4.903e+03, 5.090e+02, 4.500e+01, 9.950e+02,\n",
       "        2.100e+01, 1.300e+02, 4.000e+00, 5.700e+01]),\n",
       " array([0. , 0.4, 0.8, 1.2, 1.6, 2. , 2.4, 2.8, 3.2, 3.6, 4. ]),\n",
       " <a list of 10 Patch objects>)"
      ]
     },
     "execution_count": 9,
     "metadata": {},
     "output_type": "execute_result"
    },
    {
     "data": {
      "image/png": "[encoded data removed]",
      "text/plain": [
       "<Figure size 576x396 with 1 Axes>"
      ]
     },
     "metadata": {},
     "output_type": "display_data"
    }
   ],
   "source": [
    "def bedbath(x):\n",
    "    if x > 4:\n",
    "        return 4\n",
    "    else:\n",
    "        return x\n",
    "\n",
    "df['bedbathratio'] = df.bedrooms / df.bathrooms \n",
    "df['bedbathratio'] = df['bedbathratio'].map(lambda x: bedbath(x))\n",
    "\n",
    "df['intercept'] = 1\n",
    "\n",
    "plt.hist(df.bedbathratio)"
   ]
  },
  {
   "cell_type": "code",
   "execution_count": 10,
   "metadata": {
    "ExecuteTime": {
     "end_time": "2020-03-20T03:37:02.514837Z",
     "start_time": "2020-03-20T03:37:02.463254Z"
    }
   },
   "outputs": [],
   "source": [
    "def cancels(x):\n",
    "    if x == 'super_strict_60':\n",
    "        return int(1)\n",
    "    elif x == 'super_strict_30':\n",
    "        return int(2)\n",
    "    elif x == 'strict':\n",
    "        #Full refund for cancellations made within 48 hours of booking, \n",
    "        #if the check-in date is at least 14 days away. \n",
    "        #50% refund for cancellations made at least 7 days before check-in. \n",
    "        #No refunds for cancellations made within 7 days of check-in\n",
    "        return int(3)\n",
    "    elif x == 'strict_14_with_grace_period':\n",
    "        return int(4)\n",
    "    elif x == 'luxury_moderate':\n",
    "        return int(5)\n",
    "    elif x == 'moderate':\n",
    "        return int(5)\n",
    "    elif x == 'flexible':\n",
    "        #full refund 1 day before arrival\n",
    "        return int(6)\n",
    "    else:\n",
    "        return x\n",
    "#nag it what's the diff between luxury moderate\n",
    "    \n",
    "df.cancellation_policy = df.cancellation_policy.map(lambda x: cancels(x))\n",
    "\n",
    "def bedtype(x):\n",
    "    if x == 'Real Bed':\n",
    "        return 1\n",
    "    else:\n",
    "        return 0\n",
    "df.bed_type = df.bed_type.map(lambda x: bedtype(x))\n"
   ]
  },
  {
   "cell_type": "markdown",
   "metadata": {},
   "source": [
    "#### adding dummy variables"
   ]
  },
  {
   "cell_type": "code",
   "execution_count": 11,
   "metadata": {
    "ExecuteTime": {
     "end_time": "2020-03-20T03:37:02.569860Z",
     "start_time": "2020-03-20T03:37:02.518081Z"
    }
   },
   "outputs": [],
   "source": [
    "def room(x):\n",
    "    if x == 'Entire home/apt':\n",
    "        return 4\n",
    "    elif x == 'Private room':\n",
    "        return 3\n",
    "    elif x  == 'Hotel room':\n",
    "        return 2\n",
    "    elif x == 'Shared room':\n",
    "        return 1\n",
    "    else:\n",
    "        return x\n",
    "df.room_type = df.room_type.map(lambda x: room(x))\n",
    "\n",
    "df = df.merge(pd.get_dummies(df.room_type, prefix = 'room'), left_index = True, right_index = True)"
   ]
  },
  {
   "cell_type": "code",
   "execution_count": 12,
   "metadata": {
    "ExecuteTime": {
     "end_time": "2020-03-20T03:37:03.416825Z",
     "start_time": "2020-03-20T03:37:02.572452Z"
    }
   },
   "outputs": [],
   "source": [
    "import re\n",
    "\n",
    "df.amenities = df.amenities.apply(\n",
    "    lambda x: re.sub('[^a-zA-Z,\\/\\s\\d-]*', '', x).split(sep=','))"
   ]
  },
  {
   "cell_type": "code",
   "execution_count": 13,
   "metadata": {
    "ExecuteTime": {
     "end_time": "2020-03-20T03:37:03.535671Z",
     "start_time": "2020-03-20T03:37:03.418567Z"
    }
   },
   "outputs": [
    {
     "name": "stderr",
     "output_type": "stream",
     "text": [
      "/home/xtzie/anaconda3/envs/metis/lib/python3.7/site-packages/pandas/core/computation/expressions.py:194: UserWarning: evaluating in Python space because the '+' operator is not supported by numexpr for the bool dtype, use '|' instead\n",
      "  op=op_str, alt_op=unsupported[op_str]\n"
     ]
    }
   ],
   "source": [
    "#do context specific amenities engineering\n",
    "#breakfast, host greets you, netflix, family/kid friendly, coffee maker, tv, cable tv\n",
    "#free parking on premises, free street parking\n",
    "#alot of these are useless - you don't care about them\n",
    "\n",
    "#changeable amenities\n",
    "df['breakfast'] = df.amenities.map(lambda listing_amenities: 'Breakfast' in listing_amenities)\n",
    "df['breakfast'] = df['breakfast'].astype(int)\n",
    "df['family_friendly'] = df.amenities.map(lambda listing_amenities: 'Family/kid friendly' in listing_amenities)\n",
    "df['family_friendly'] = df['family_friendly'].astype(int)\n",
    "df['coffee_maker'] = df.amenities.map(lambda listing_amenities: 'Coffee maker' in listing_amenities)\n",
    "df['coffee_maker'] = df['coffee_maker'].astype(int)\n",
    "df['netflix'] = df.amenities.map(lambda listing_amenities: 'Netflix' in listing_amenities)\n",
    "df['netflix'] = df['netflix'].astype(int)\n",
    "df['greeting'] = df.amenities.map(lambda listing_amenities: 'Host greets you' in listing_amenities)\n",
    "df['greeting'] = df['greeting'].astype(int)\n",
    "\n",
    "#'unchangable' amenities\n",
    "df['parkingone'] = df.amenities.map(lambda listing_amenities: 'Free parking on premises' in listing_amenities)\n",
    "df['parkingtwo'] = df.amenities.map(lambda listing_amenities: 'Free street parking' in listing_amenities)\n",
    "df['freeparking'] = df.parkingone + df.parkingtwo\n",
    "df['freeparking'] = df['freeparking'].astype(int)\n",
    "df.drop(labels = ['parkingone', 'parkingtwo'], axis = 1, inplace = True)\n",
    "df['outdoorpart'] = df.amenities.map(lambda listing_amenities: 'Patio or balcony' in listing_amenities)\n",
    "df['outdoorpart'] = df['outdoorpart'].astype(int)\n"
   ]
  },
  {
   "cell_type": "code",
   "execution_count": 14,
   "metadata": {
    "ExecuteTime": {
     "end_time": "2020-03-20T03:37:03.624084Z",
     "start_time": "2020-03-20T03:37:03.539182Z"
    }
   },
   "outputs": [],
   "source": [
    "df.property_type.replace('Treehouse','Bungalow',inplace=True)\n",
    "df.property_type.replace('Cabin','Bungalow',inplace=True)\n",
    "df.property_type.replace('Dome house','Bungalow',inplace=True)\n",
    "df.property_type.replace('Earth house','Bungalow',inplace=True)\n",
    "df.property_type.replace('Hut','Bungalow',inplace=True)\n",
    "df.property_type.replace('Yurt','Bungalow',inplace=True)\n",
    "df.property_type.replace('Tiny house','Bungalow',inplace=True)\n",
    "\n",
    "\n",
    "# Boutique hotel, resort most like a hotel\n",
    "df.property_type.replace('Boutique hotel','Hotel',inplace=True)\n",
    "df.property_type.replace('Resort','Hotel',inplace=True)\n",
    "df.property_type.replace('Aparthotel','Hotel',inplace=True)\n",
    "\n",
    "# Farm stay to Bed and breakfast\n",
    "df.property_type.replace('Farm stay','Bed and breakfast',inplace=True)\n",
    "\n",
    "# Castle, Yurt, Tent, Hostel and Chalet to other\n",
    "df.property_type.replace('Minsu (Taiwan)','Other',inplace=True)\n",
    "df.property_type.replace('Vacation home','Other',inplace=True)\n",
    "df.property_type.replace('Cave','Other',inplace=True)\n",
    "df.property_type.replace('Igloo','Other',inplace=True)\n",
    "df.property_type.replace('Pension (South Korea)','Other',inplace=True)\n",
    "df.property_type.replace('Train','Other',inplace=True)\n",
    "df.property_type.replace('Houseboat','Other',inplace=True)\n",
    "df.property_type.replace('Bus','Other',inplace=True)\n",
    "df.property_type.replace('Island','Other',inplace=True)\n",
    "df.property_type.replace('Casa particular (Cuba)','Other',inplace=True)\n",
    "df.property_type.replace('Dome','Other',inplace=True)\n",
    "df.property_type.replace('Tipi','Other',inplace=True)\n",
    "df.property_type.replace('Barn','Other',inplace=True)\n",
    "df.property_type.replace('Campsite','Other',inplace=True)\n",
    "df.property_type.replace('Castle','Other',inplace=True)\n",
    "df.property_type.replace('Chalet','Other',inplace=True)\n",
    "df.property_type.replace('Tent','Other',inplace=True)\n",
    "df.property_type.replace('Farm stay','Other',inplace=True)\n",
    "df.property_type.replace('Boat','Other',inplace=True)\n",
    "df.property_type.replace('Dorm','Other',inplace=True)\n",
    "\n",
    "df.property_type.value_counts()\n",
    "\n",
    "df = df.merge(pd.get_dummies(df.property_type, prefix = 'prop'), right_index = True, left_index = True)\n",
    "\n"
   ]
  },
  {
   "cell_type": "code",
   "execution_count": 15,
   "metadata": {
    "ExecuteTime": {
     "end_time": "2020-03-20T03:37:03.651165Z",
     "start_time": "2020-03-20T03:37:03.626285Z"
    }
   },
   "outputs": [],
   "source": [
    "df = df.merge(pd.get_dummies(df.neighbourhood_cleansed, prefix = 'neighbourhood'), left_index = True, right_index = True)"
   ]
  },
  {
   "cell_type": "markdown",
   "metadata": {
    "heading_collapsed": true
   },
   "source": [
    "#### dealing with nulls\n"
   ]
  },
  {
   "cell_type": "code",
   "execution_count": 16,
   "metadata": {
    "ExecuteTime": {
     "end_time": "2020-03-20T03:37:03.706708Z",
     "start_time": "2020-03-20T03:37:03.654277Z"
    },
    "hidden": true
   },
   "outputs": [],
   "source": [
    "df.dropna(subset=['bedrooms','beds'],inplace=True)"
   ]
  },
  {
   "cell_type": "code",
   "execution_count": 17,
   "metadata": {
    "ExecuteTime": {
     "end_time": "2020-03-20T03:37:03.728818Z",
     "start_time": "2020-03-20T03:37:03.709773Z"
    },
    "hidden": true
   },
   "outputs": [
    {
     "name": "stdout",
     "output_type": "stream",
     "text": [
      "% missing values for host response rate col 0.14\n"
     ]
    }
   ],
   "source": [
    "print('% missing values for host response rate col', round(len(df[df.host_response_rate.isnull() == True])/len(df),2))\n",
    "x = df.host_response_rate.mean()\n",
    "df.host_response_rate.fillna(value = x, inplace = True)"
   ]
  },
  {
   "cell_type": "code",
   "execution_count": 18,
   "metadata": {
    "ExecuteTime": {
     "end_time": "2020-03-20T03:37:03.751685Z",
     "start_time": "2020-03-20T03:37:03.732360Z"
    },
    "hidden": true
   },
   "outputs": [
    {
     "name": "stdout",
     "output_type": "stream",
     "text": [
      "% missing values for security deposit col 0.2\n"
     ]
    }
   ],
   "source": [
    "print('% missing values for security deposit col', round(len(df[df.security_deposit.isnull() == True])/len(df),2))\n",
    "x = df.security_deposit.mode()\n",
    "df.security_deposit.fillna(value = x, inplace = True)"
   ]
  },
  {
   "cell_type": "code",
   "execution_count": 19,
   "metadata": {
    "ExecuteTime": {
     "end_time": "2020-03-20T03:37:03.773368Z",
     "start_time": "2020-03-20T03:37:03.754778Z"
    },
    "hidden": true
   },
   "outputs": [
    {
     "name": "stdout",
     "output_type": "stream",
     "text": [
      "% missing values for cleaning fee col 0.11\n"
     ]
    }
   ],
   "source": [
    "print('% missing values for cleaning fee col', round(len(df[df.cleaning_fee.isnull() == True])/len(df),2))\n",
    "x = df.cleaning_fee.median()\n",
    "x\n",
    "df.cleaning_fee.fillna(value = x, inplace = True)\n"
   ]
  },
  {
   "cell_type": "code",
   "execution_count": 20,
   "metadata": {
    "ExecuteTime": {
     "end_time": "2020-03-20T03:37:03.824937Z",
     "start_time": "2020-03-20T03:37:03.776207Z"
    },
    "hidden": true
   },
   "outputs": [
    {
     "name": "stdout",
     "output_type": "stream",
     "text": [
      "% missing values for review scores col 0.24\n"
     ]
    }
   ],
   "source": [
    "print('% missing values for review scores col', round(len(df[df.review_scores_rating.isnull() == True])/len(df),2))\n",
    "\n",
    "def ratings(x):\n",
    "    if x >= 4.91 * 20:\n",
    "        #perfection\n",
    "        return '>4.9'\n",
    "    elif x >= 4.8  * 20:\n",
    "        #exceptional\n",
    "        return '>4.8'\n",
    "    elif x >= 4.6 * 20:\n",
    "        #good\n",
    "        return '>4.6'\n",
    "    elif x >= 4.2 * 20:\n",
    "        #within expectations\n",
    "        return '>4.2'\n",
    "    elif x >= 4.0 * 20:\n",
    "        #fair\n",
    "        return '>4.0'\n",
    "    elif x < 4 * 20:\n",
    "        #below expectations\n",
    "        return '<4.0' \n",
    "\n",
    "df['adjusted_scores'] = df.review_scores_rating.map(lambda x: ratings(x))\n",
    "\n",
    "df['adjusted_scores'].fillna(value = 'no review', inplace = True)\n",
    "\n",
    "df = df.merge(pd.get_dummies(df.adjusted_scores, prefix = 'review_of'), left_index = True, right_index = True)\n"
   ]
  },
  {
   "cell_type": "code",
   "execution_count": 21,
   "metadata": {
    "ExecuteTime": {
     "end_time": "2020-03-20T03:37:04.089471Z",
     "start_time": "2020-03-20T03:37:03.828416Z"
    },
    "hidden": true
   },
   "outputs": [
    {
     "data": {
      "text/plain": [
       "(array([ 522.,  761., 1420., 3109., 1500.,  708.,  356.,  139.,   38.,\n",
       "           6.]),\n",
       " array([-2.25114295, -1.6076327 , -0.96412246, -0.32061221,  0.32289804,\n",
       "         0.96640829,  1.60991853,  2.25342878,  2.89693903,  3.54044928,\n",
       "         4.18395952]),\n",
       " <a list of 10 Patch objects>)"
      ]
     },
     "execution_count": 21,
     "metadata": {},
     "output_type": "execute_result"
    },
    {
     "data": {
      "image/png": "[encoded data removed]",
      "text/plain": [
       "<Figure size 576x396 with 1 Axes>"
      ]
     },
     "metadata": {},
     "output_type": "display_data"
    }
   ],
   "source": [
    "pty = PowerTransformer(method = 'yeo-johnson')\n",
    "\n",
    "plt.hist(pty.fit_transform(df['cleaning_fee'].values.reshape(-1,1)))"
   ]
  },
  {
   "cell_type": "markdown",
   "metadata": {
    "heading_collapsed": true
   },
   "source": [
    "#### dealing with outliers"
   ]
  },
  {
   "cell_type": "code",
   "execution_count": 22,
   "metadata": {
    "ExecuteTime": {
     "end_time": "2020-03-20T03:37:04.101721Z",
     "start_time": "2020-03-20T03:37:04.092677Z"
    },
    "hidden": true
   },
   "outputs": [],
   "source": [
    "def outliers(df, column, num_dev=4):\n",
    "    \n",
    "    q25, q50, q75 = df[column].quantile(q=[0.25, 0.5, 0.75])\n",
    "    iqr = q75 - q25\n",
    "    \n",
    "    max_ = q75 + num_dev * iqr\n",
    "    # identify the points\n",
    "    outlier_mask = [True if x > max_ else False for x in df[column]]\n",
    "    print('{} outliers found out of {} data points, {}% of the data. {} is the max'.format(\n",
    "        sum(outlier_mask), len(df[column]),\n",
    "        100 * (sum(outlier_mask) / len(df[column])),max_))\n",
    "    return outlier_mask"
   ]
  },
  {
   "cell_type": "code",
   "execution_count": 23,
   "metadata": {
    "ExecuteTime": {
     "end_time": "2020-03-20T03:37:04.154022Z",
     "start_time": "2020-03-20T03:37:04.105636Z"
    },
    "hidden": true
   },
   "outputs": [
    {
     "name": "stdout",
     "output_type": "stream",
     "text": [
      "252 outliers found out of 8559 data points, 2.9442691903259726% of the data. 3.5 is the max\n"
     ]
    },
    {
     "data": {
      "text/plain": [
       "(8307, 134)"
      ]
     },
     "execution_count": 23,
     "metadata": {},
     "output_type": "execute_result"
    }
   ],
   "source": [
    "df['outliers'] = outliers(df, 'bathrooms')\n",
    "df = df[df['outliers'] == False]\n",
    "df.shape"
   ]
  },
  {
   "cell_type": "code",
   "execution_count": 24,
   "metadata": {
    "ExecuteTime": {
     "end_time": "2020-03-20T03:37:04.189703Z",
     "start_time": "2020-03-20T03:37:04.159222Z"
    },
    "hidden": true
   },
   "outputs": [
    {
     "name": "stdout",
     "output_type": "stream",
     "text": [
      "13 outliers found out of 8307 data points, 0.1564945226917058% of the data. 540.0 is the max\n"
     ]
    },
    {
     "data": {
      "text/plain": [
       "(8294, 134)"
      ]
     },
     "execution_count": 24,
     "metadata": {},
     "output_type": "execute_result"
    }
   ],
   "source": [
    "df['outliers'] = outliers(df, 'cleaning_fee')\n",
    "df = df[df['outliers'] == False]\n",
    "df.shape"
   ]
  },
  {
   "cell_type": "code",
   "execution_count": 25,
   "metadata": {
    "ExecuteTime": {
     "end_time": "2020-03-20T03:37:04.226577Z",
     "start_time": "2020-03-20T03:37:04.193335Z"
    },
    "hidden": true
   },
   "outputs": [
    {
     "name": "stdout",
     "output_type": "stream",
     "text": [
      "164 outliers found out of 8294 data points, 1.9773330118157704% of the data. 2500.0 is the max\n"
     ]
    },
    {
     "data": {
      "text/plain": [
       "(8130, 134)"
      ]
     },
     "execution_count": 25,
     "metadata": {},
     "output_type": "execute_result"
    }
   ],
   "source": [
    "df['outliers'] = outliers(df, 'security_deposit')\n",
    "df = df[df['outliers'] == False]\n",
    "df.shape"
   ]
  },
  {
   "cell_type": "code",
   "execution_count": 26,
   "metadata": {
    "ExecuteTime": {
     "end_time": "2020-03-20T03:37:04.270687Z",
     "start_time": "2020-03-20T03:37:04.229355Z"
    },
    "hidden": true
   },
   "outputs": [
    {
     "name": "stdout",
     "output_type": "stream",
     "text": [
      "30 outliers found out of 8130 data points, 0.36900369003690037% of the data. 7.0 is the max\n"
     ]
    }
   ],
   "source": [
    "df['outliers'] = outliers(df, 'beds', num_dev = 5)\n",
    "df = df[df['outliers'] == False]\n",
    "df.shape\n",
    "\n",
    "df.drop(labels = 'outliers', inplace = True, axis = 1)"
   ]
  },
  {
   "cell_type": "markdown",
   "metadata": {},
   "source": [
    "#### feature engineering"
   ]
  },
  {
   "cell_type": "code",
   "execution_count": null,
   "metadata": {
    "ExecuteTime": {
     "end_time": "2020-03-20T03:33:42.051057Z",
     "start_time": "2020-03-20T03:33:41.759938Z"
    }
   },
   "outputs": [],
   "source": []
  },
  {
   "cell_type": "markdown",
   "metadata": {},
   "source": [
    "### MODELING"
   ]
  },
  {
   "cell_type": "code",
   "execution_count": 27,
   "metadata": {
    "ExecuteTime": {
     "end_time": "2020-03-20T03:37:04.297940Z",
     "start_time": "2020-03-20T03:37:04.275212Z"
    }
   },
   "outputs": [],
   "source": [
    "#Some of these things have no direct (e.g ID) or \n",
    "#limited effect (e.g almost all host require guest verification) on the actual product\n",
    "#so they will be excluded first\n",
    "excludefrommodel = ['id', 'listing_url', 'require_guest_phone_verification', \n",
    "                    'latitude', 'longitude', 'is_business_travel_ready', 'maximum_nights', 'minimum_nights',\n",
    "                    'host_id', 'host_url', 'host_has_profile_pic', 'host_listings_count', 'adjusted_scores']\n",
    "\n",
    "fornlp = ['access', 'description', 'host_about', 'house_rules', 'interaction', 'name', 'neighborhood_overview',\n",
    "         'notes', 'space', 'summary', 'transit']\n",
    "\n",
    "df.drop(labels = (excludefrommodel + fornlp), axis = 1, inplace = True)"
   ]
  },
  {
   "cell_type": "code",
   "execution_count": 28,
   "metadata": {
    "ExecuteTime": {
     "end_time": "2020-03-20T03:37:04.348327Z",
     "start_time": "2020-03-20T03:37:04.302667Z"
    }
   },
   "outputs": [],
   "source": [
    "from sklearn.model_selection import train_test_split\n",
    "\n",
    "#wwwww need to come back to this later\n",
    "#include all the needed columns from ftre engrng\n",
    "simpleregtodrop = ['neighbourhood_cleansed', 'host_neighbourhood', 'zipcode', 'property_type', 'amenities', \n",
    "                   'weekly_price', 'host_since', 'first_review', 'last_review', 'review_scores_rating',\n",
    "                    'listing_age', 'host_age', 'room_type']\n",
    "smalld = df.drop(labels = simpleregtodrop, axis =1)\n",
    "\n",
    "#there's a minority of values where price == 0 so we will drop them out\n",
    "#we can impute values for our independent/x variables, but not our y variables\n",
    "smalld = smalld[smalld['price'] != 0]\n",
    "\n",
    "#wwwww need to come back to this later\n",
    "smalldf = smalld.fillna(value = 0)\n",
    "\n",
    "X = smalldf.drop(labels = 'price', axis = 1)\n",
    "\n",
    "y = smalldf['price']\n",
    "\n",
    "X_train, X_test, y_train, y_test = train_test_split(X, y, test_size = 0.2, random_state = 42)\n",
    "y_train = np.log(y_train)"
   ]
  },
  {
   "cell_type": "code",
   "execution_count": 29,
   "metadata": {
    "ExecuteTime": {
     "end_time": "2020-03-20T03:37:04.380938Z",
     "start_time": "2020-03-20T03:37:04.350945Z"
    }
   },
   "outputs": [
    {
     "name": "stdout",
     "output_type": "stream",
     "text": [
      "<class 'pandas.core.frame.DataFrame'>\n",
      "Int64Index: 8099 entries, 0 to 8586\n",
      "Data columns (total 96 columns):\n",
      "host_response_time                     8099 non-null float64\n",
      "host_response_rate                     8099 non-null float64\n",
      "host_acceptance_rate                   8099 non-null float64\n",
      "host_is_superhost                      8099 non-null int64\n",
      "host_identity_verified                 8099 non-null int64\n",
      "accommodates                           8099 non-null int64\n",
      "bathrooms                              8099 non-null float64\n",
      "bedrooms                               8099 non-null float64\n",
      "beds                                   8099 non-null float64\n",
      "bed_type                               8099 non-null int64\n",
      "price                                  8099 non-null float64\n",
      "security_deposit                       8099 non-null float64\n",
      "cleaning_fee                           8099 non-null float64\n",
      "guests_included                        8099 non-null int64\n",
      "extra_people                           8099 non-null float64\n",
      "number_of_reviews                      8099 non-null int64\n",
      "number_of_reviews_ltm                  8099 non-null int64\n",
      "instant_bookable                       8099 non-null int64\n",
      "cancellation_policy                    8099 non-null int64\n",
      "require_guest_profile_picture          8099 non-null int64\n",
      "calculated_host_listings_count         8099 non-null int64\n",
      "reviews_per_month                      8099 non-null float64\n",
      "bedbathratio                           8099 non-null float64\n",
      "intercept                              8099 non-null int64\n",
      "room_1                                 8099 non-null uint8\n",
      "room_2                                 8099 non-null uint8\n",
      "room_3                                 8099 non-null uint8\n",
      "room_4                                 8099 non-null uint8\n",
      "breakfast                              8099 non-null int64\n",
      "family_friendly                        8099 non-null int64\n",
      "coffee_maker                           8099 non-null int64\n",
      "netflix                                8099 non-null int64\n",
      "greeting                               8099 non-null int64\n",
      "freeparking                            8099 non-null int64\n",
      "outdoorpart                            8099 non-null int64\n",
      "prop_Apartment                         8099 non-null uint8\n",
      "prop_Bed and breakfast                 8099 non-null uint8\n",
      "prop_Bungalow                          8099 non-null uint8\n",
      "prop_Condominium                       8099 non-null uint8\n",
      "prop_Cottage                           8099 non-null uint8\n",
      "prop_Cycladic house (Greece)           8099 non-null uint8\n",
      "prop_Guest suite                       8099 non-null uint8\n",
      "prop_Guesthouse                        8099 non-null uint8\n",
      "prop_Hostel                            8099 non-null uint8\n",
      "prop_Hotel                             8099 non-null uint8\n",
      "prop_House                             8099 non-null uint8\n",
      "prop_In-law                            8099 non-null uint8\n",
      "prop_Loft                              8099 non-null uint8\n",
      "prop_Other                             8099 non-null uint8\n",
      "prop_Serviced apartment                8099 non-null uint8\n",
      "prop_Townhouse                         8099 non-null uint8\n",
      "prop_Villa                             8099 non-null uint8\n",
      "neighbourhood_Bayview                  8099 non-null uint8\n",
      "neighbourhood_Bernal Heights           8099 non-null uint8\n",
      "neighbourhood_Castro/Upper Market      8099 non-null uint8\n",
      "neighbourhood_Chinatown                8099 non-null uint8\n",
      "neighbourhood_Crocker Amazon           8099 non-null uint8\n",
      "neighbourhood_Diamond Heights          8099 non-null uint8\n",
      "neighbourhood_Downtown/Civic Center    8099 non-null uint8\n",
      "neighbourhood_Excelsior                8099 non-null uint8\n",
      "neighbourhood_Financial District       8099 non-null uint8\n",
      "neighbourhood_Glen Park                8099 non-null uint8\n",
      "neighbourhood_Golden Gate Park         8099 non-null uint8\n",
      "neighbourhood_Haight Ashbury           8099 non-null uint8\n",
      "neighbourhood_Inner Richmond           8099 non-null uint8\n",
      "neighbourhood_Inner Sunset             8099 non-null uint8\n",
      "neighbourhood_Lakeshore                8099 non-null uint8\n",
      "neighbourhood_Marina                   8099 non-null uint8\n",
      "neighbourhood_Mission                  8099 non-null uint8\n",
      "neighbourhood_Nob Hill                 8099 non-null uint8\n",
      "neighbourhood_Noe Valley               8099 non-null uint8\n",
      "neighbourhood_North Beach              8099 non-null uint8\n",
      "neighbourhood_Ocean View               8099 non-null uint8\n",
      "neighbourhood_Outer Mission            8099 non-null uint8\n",
      "neighbourhood_Outer Richmond           8099 non-null uint8\n",
      "neighbourhood_Outer Sunset             8099 non-null uint8\n",
      "neighbourhood_Pacific Heights          8099 non-null uint8\n",
      "neighbourhood_Parkside                 8099 non-null uint8\n",
      "neighbourhood_Potrero Hill             8099 non-null uint8\n",
      "neighbourhood_Presidio                 8099 non-null uint8\n",
      "neighbourhood_Presidio Heights         8099 non-null uint8\n",
      "neighbourhood_Russian Hill             8099 non-null uint8\n",
      "neighbourhood_Seacliff                 8099 non-null uint8\n",
      "neighbourhood_South of Market          8099 non-null uint8\n",
      "neighbourhood_Treasure Island/YBI      8099 non-null uint8\n",
      "neighbourhood_Twin Peaks               8099 non-null uint8\n",
      "neighbourhood_Visitacion Valley        8099 non-null uint8\n",
      "neighbourhood_West of Twin Peaks       8099 non-null uint8\n",
      "neighbourhood_Western Addition         8099 non-null uint8\n",
      "review_of_<4.0                         8099 non-null uint8\n",
      "review_of_>4.0                         8099 non-null uint8\n",
      "review_of_>4.2                         8099 non-null uint8\n",
      "review_of_>4.6                         8099 non-null uint8\n",
      "review_of_>4.8                         8099 non-null uint8\n",
      "review_of_>4.9                         8099 non-null uint8\n",
      "review_of_no review                    8099 non-null uint8\n",
      "dtypes: float64(12), int64(19), uint8(65)\n",
      "memory usage: 2.5 MB\n"
     ]
    }
   ],
   "source": [
    "smalldf.info()"
   ]
  },
  {
   "cell_type": "code",
   "execution_count": 32,
   "metadata": {
    "ExecuteTime": {
     "end_time": "2020-03-20T03:40:57.051332Z",
     "start_time": "2020-03-20T03:40:56.770064Z"
    }
   },
   "outputs": [
    {
     "name": "stdout",
     "output_type": "stream",
     "text": [
      "cross validated r2 0.5837987959271429\n"
     ]
    },
    {
     "data": {
      "text/html": [
       "<table class=\"simpletable\">\n",
       "<caption>OLS Regression Results</caption>\n",
       "<tr>\n",
       "  <th>Dep. Variable:</th>          <td>price</td>      <th>  R-squared:         </th> <td>   0.595</td>\n",
       "</tr>\n",
       "<tr>\n",
       "  <th>Model:</th>                   <td>OLS</td>       <th>  Adj. R-squared:    </th> <td>   0.590</td>\n",
       "</tr>\n",
       "<tr>\n",
       "  <th>Method:</th>             <td>Least Squares</td>  <th>  F-statistic:       </th> <td>   104.5</td>\n",
       "</tr>\n",
       "<tr>\n",
       "  <th>Date:</th>             <td>Thu, 19 Mar 2020</td> <th>  Prob (F-statistic):</th>  <td>  0.00</td> \n",
       "</tr>\n",
       "<tr>\n",
       "  <th>Time:</th>                 <td>20:40:56</td>     <th>  Log-Likelihood:    </th> <td> -3989.9</td>\n",
       "</tr>\n",
       "<tr>\n",
       "  <th>No. Observations:</th>      <td>  6479</td>      <th>  AIC:               </th> <td>   8162.</td>\n",
       "</tr>\n",
       "<tr>\n",
       "  <th>Df Residuals:</th>          <td>  6388</td>      <th>  BIC:               </th> <td>   8778.</td>\n",
       "</tr>\n",
       "<tr>\n",
       "  <th>Df Model:</th>              <td>    90</td>      <th>                     </th>     <td> </td>   \n",
       "</tr>\n",
       "<tr>\n",
       "  <th>Covariance Type:</th>      <td>nonrobust</td>    <th>                     </th>     <td> </td>   \n",
       "</tr>\n",
       "</table>\n",
       "<table class=\"simpletable\">\n",
       "<tr>\n",
       "                   <td></td>                      <th>coef</th>     <th>std err</th>      <th>t</th>      <th>P>|t|</th>  <th>[0.025</th>    <th>0.975]</th>  \n",
       "</tr>\n",
       "<tr>\n",
       "  <th>host_response_time</th>                  <td>   -0.0298</td> <td>    0.005</td> <td>   -5.475</td> <td> 0.000</td> <td>   -0.040</td> <td>   -0.019</td>\n",
       "</tr>\n",
       "<tr>\n",
       "  <th>host_response_rate</th>                  <td>    0.1475</td> <td>    0.054</td> <td>    2.715</td> <td> 0.007</td> <td>    0.041</td> <td>    0.254</td>\n",
       "</tr>\n",
       "<tr>\n",
       "  <th>host_acceptance_rate</th>                <td>   -0.0511</td> <td>    0.026</td> <td>   -1.965</td> <td> 0.050</td> <td>   -0.102</td> <td>   -0.000</td>\n",
       "</tr>\n",
       "<tr>\n",
       "  <th>host_is_superhost</th>                   <td>    0.0566</td> <td>    0.014</td> <td>    3.914</td> <td> 0.000</td> <td>    0.028</td> <td>    0.085</td>\n",
       "</tr>\n",
       "<tr>\n",
       "  <th>host_identity_verified</th>              <td>    0.0424</td> <td>    0.013</td> <td>    3.312</td> <td> 0.001</td> <td>    0.017</td> <td>    0.068</td>\n",
       "</tr>\n",
       "<tr>\n",
       "  <th>accommodates</th>                        <td>    0.0815</td> <td>    0.006</td> <td>   12.776</td> <td> 0.000</td> <td>    0.069</td> <td>    0.094</td>\n",
       "</tr>\n",
       "<tr>\n",
       "  <th>bathrooms</th>                           <td>   -0.0810</td> <td>    0.023</td> <td>   -3.459</td> <td> 0.001</td> <td>   -0.127</td> <td>   -0.035</td>\n",
       "</tr>\n",
       "<tr>\n",
       "  <th>bedrooms</th>                            <td>    0.3414</td> <td>    0.023</td> <td>   14.611</td> <td> 0.000</td> <td>    0.296</td> <td>    0.387</td>\n",
       "</tr>\n",
       "<tr>\n",
       "  <th>beds</th>                                <td>   -0.0196</td> <td>    0.010</td> <td>   -1.987</td> <td> 0.047</td> <td>   -0.039</td> <td>   -0.000</td>\n",
       "</tr>\n",
       "<tr>\n",
       "  <th>bed_type</th>                            <td>   -0.0512</td> <td>    0.062</td> <td>   -0.828</td> <td> 0.408</td> <td>   -0.172</td> <td>    0.070</td>\n",
       "</tr>\n",
       "<tr>\n",
       "  <th>security_deposit</th>                    <td>-1.817e-05</td> <td> 1.43e-05</td> <td>   -1.271</td> <td> 0.204</td> <td>-4.62e-05</td> <td> 9.85e-06</td>\n",
       "</tr>\n",
       "<tr>\n",
       "  <th>cleaning_fee</th>                        <td>    0.0005</td> <td>    0.000</td> <td>    4.851</td> <td> 0.000</td> <td>    0.000</td> <td>    0.001</td>\n",
       "</tr>\n",
       "<tr>\n",
       "  <th>guests_included</th>                     <td>    0.0175</td> <td>    0.006</td> <td>    2.927</td> <td> 0.003</td> <td>    0.006</td> <td>    0.029</td>\n",
       "</tr>\n",
       "<tr>\n",
       "  <th>extra_people</th>                        <td>    0.0007</td> <td>    0.000</td> <td>    3.410</td> <td> 0.001</td> <td>    0.000</td> <td>    0.001</td>\n",
       "</tr>\n",
       "<tr>\n",
       "  <th>number_of_reviews</th>                   <td>   -0.0003</td> <td>    0.000</td> <td>   -2.215</td> <td> 0.027</td> <td>   -0.000</td> <td>-2.94e-05</td>\n",
       "</tr>\n",
       "<tr>\n",
       "  <th>number_of_reviews_ltm</th>               <td>   -0.0006</td> <td>    0.001</td> <td>   -1.009</td> <td> 0.313</td> <td>   -0.002</td> <td>    0.001</td>\n",
       "</tr>\n",
       "<tr>\n",
       "  <th>instant_bookable</th>                    <td>    0.0033</td> <td>    0.013</td> <td>    0.260</td> <td> 0.795</td> <td>   -0.022</td> <td>    0.028</td>\n",
       "</tr>\n",
       "<tr>\n",
       "  <th>cancellation_policy</th>                 <td>    0.0248</td> <td>    0.007</td> <td>    3.418</td> <td> 0.001</td> <td>    0.011</td> <td>    0.039</td>\n",
       "</tr>\n",
       "<tr>\n",
       "  <th>require_guest_profile_picture</th>       <td>   -0.0420</td> <td>    0.032</td> <td>   -1.321</td> <td> 0.186</td> <td>   -0.104</td> <td>    0.020</td>\n",
       "</tr>\n",
       "<tr>\n",
       "  <th>calculated_host_listings_count</th>      <td>-1.055e-05</td> <td>    0.000</td> <td>   -0.075</td> <td> 0.940</td> <td>   -0.000</td> <td>    0.000</td>\n",
       "</tr>\n",
       "<tr>\n",
       "  <th>reviews_per_month</th>                   <td>    0.0188</td> <td>    0.007</td> <td>    2.701</td> <td> 0.007</td> <td>    0.005</td> <td>    0.032</td>\n",
       "</tr>\n",
       "<tr>\n",
       "  <th>bedbathratio</th>                        <td>   -0.1759</td> <td>    0.023</td> <td>   -7.508</td> <td> 0.000</td> <td>   -0.222</td> <td>   -0.130</td>\n",
       "</tr>\n",
       "<tr>\n",
       "  <th>intercept</th>                           <td>    2.8093</td> <td>    0.073</td> <td>   38.661</td> <td> 0.000</td> <td>    2.667</td> <td>    2.952</td>\n",
       "</tr>\n",
       "<tr>\n",
       "  <th>room_1</th>                              <td>    0.0220</td> <td>    0.039</td> <td>    0.568</td> <td> 0.570</td> <td>   -0.054</td> <td>    0.098</td>\n",
       "</tr>\n",
       "<tr>\n",
       "  <th>room_2</th>                              <td>    0.9271</td> <td>    0.049</td> <td>   18.855</td> <td> 0.000</td> <td>    0.831</td> <td>    1.023</td>\n",
       "</tr>\n",
       "<tr>\n",
       "  <th>room_3</th>                              <td>    0.7545</td> <td>    0.024</td> <td>   31.626</td> <td> 0.000</td> <td>    0.708</td> <td>    0.801</td>\n",
       "</tr>\n",
       "<tr>\n",
       "  <th>room_4</th>                              <td>    1.1058</td> <td>    0.025</td> <td>   43.854</td> <td> 0.000</td> <td>    1.056</td> <td>    1.155</td>\n",
       "</tr>\n",
       "<tr>\n",
       "  <th>breakfast</th>                           <td>    0.0120</td> <td>    0.020</td> <td>    0.586</td> <td> 0.558</td> <td>   -0.028</td> <td>    0.052</td>\n",
       "</tr>\n",
       "<tr>\n",
       "  <th>family_friendly</th>                     <td>    0.0332</td> <td>    0.014</td> <td>    2.410</td> <td> 0.016</td> <td>    0.006</td> <td>    0.060</td>\n",
       "</tr>\n",
       "<tr>\n",
       "  <th>coffee_maker</th>                        <td>    0.0690</td> <td>    0.014</td> <td>    4.913</td> <td> 0.000</td> <td>    0.041</td> <td>    0.097</td>\n",
       "</tr>\n",
       "<tr>\n",
       "  <th>netflix</th>                             <td>    0.1982</td> <td>    0.047</td> <td>    4.228</td> <td> 0.000</td> <td>    0.106</td> <td>    0.290</td>\n",
       "</tr>\n",
       "<tr>\n",
       "  <th>greeting</th>                            <td>   -0.0493</td> <td>    0.020</td> <td>   -2.469</td> <td> 0.014</td> <td>   -0.088</td> <td>   -0.010</td>\n",
       "</tr>\n",
       "<tr>\n",
       "  <th>freeparking</th>                         <td>    0.0066</td> <td>    0.014</td> <td>    0.460</td> <td> 0.646</td> <td>   -0.022</td> <td>    0.035</td>\n",
       "</tr>\n",
       "<tr>\n",
       "  <th>outdoorpart</th>                         <td>    0.0303</td> <td>    0.015</td> <td>    2.020</td> <td> 0.043</td> <td>    0.001</td> <td>    0.060</td>\n",
       "</tr>\n",
       "<tr>\n",
       "  <th>prop_Apartment</th>                      <td>   -0.0255</td> <td>    0.042</td> <td>   -0.605</td> <td> 0.545</td> <td>   -0.108</td> <td>    0.057</td>\n",
       "</tr>\n",
       "<tr>\n",
       "  <th>prop_Bed and breakfast</th>              <td>    0.6073</td> <td>    0.121</td> <td>    5.033</td> <td> 0.000</td> <td>    0.371</td> <td>    0.844</td>\n",
       "</tr>\n",
       "<tr>\n",
       "  <th>prop_Bungalow</th>                       <td>    0.0034</td> <td>    0.100</td> <td>    0.034</td> <td> 0.973</td> <td>   -0.193</td> <td>    0.200</td>\n",
       "</tr>\n",
       "<tr>\n",
       "  <th>prop_Condominium</th>                    <td>    0.1166</td> <td>    0.045</td> <td>    2.610</td> <td> 0.009</td> <td>    0.029</td> <td>    0.204</td>\n",
       "</tr>\n",
       "<tr>\n",
       "  <th>prop_Cottage</th>                        <td>    0.0615</td> <td>    0.122</td> <td>    0.506</td> <td> 0.613</td> <td>   -0.177</td> <td>    0.300</td>\n",
       "</tr>\n",
       "<tr>\n",
       "  <th>prop_Cycladic house (Greece)</th>        <td>    0.0169</td> <td>    0.429</td> <td>    0.039</td> <td> 0.969</td> <td>   -0.824</td> <td>    0.858</td>\n",
       "</tr>\n",
       "<tr>\n",
       "  <th>prop_Guest suite</th>                    <td>   -0.0163</td> <td>    0.047</td> <td>   -0.349</td> <td> 0.727</td> <td>   -0.108</td> <td>    0.075</td>\n",
       "</tr>\n",
       "<tr>\n",
       "  <th>prop_Guesthouse</th>                     <td>   -0.0570</td> <td>    0.077</td> <td>   -0.737</td> <td> 0.461</td> <td>   -0.209</td> <td>    0.095</td>\n",
       "</tr>\n",
       "<tr>\n",
       "  <th>prop_Hostel</th>                         <td>    0.1749</td> <td>    0.097</td> <td>    1.796</td> <td> 0.073</td> <td>   -0.016</td> <td>    0.366</td>\n",
       "</tr>\n",
       "<tr>\n",
       "  <th>prop_Hotel</th>                          <td>    0.6608</td> <td>    0.049</td> <td>   13.369</td> <td> 0.000</td> <td>    0.564</td> <td>    0.758</td>\n",
       "</tr>\n",
       "<tr>\n",
       "  <th>prop_House</th>                          <td>    0.0395</td> <td>    0.043</td> <td>    0.921</td> <td> 0.357</td> <td>   -0.045</td> <td>    0.123</td>\n",
       "</tr>\n",
       "<tr>\n",
       "  <th>prop_In-law</th>                         <td>    0.0230</td> <td>    0.429</td> <td>    0.054</td> <td> 0.957</td> <td>   -0.817</td> <td>    0.863</td>\n",
       "</tr>\n",
       "<tr>\n",
       "  <th>prop_Loft</th>                           <td>    0.1937</td> <td>    0.062</td> <td>    3.146</td> <td> 0.002</td> <td>    0.073</td> <td>    0.314</td>\n",
       "</tr>\n",
       "<tr>\n",
       "  <th>prop_Other</th>                          <td>    0.4531</td> <td>    0.098</td> <td>    4.631</td> <td> 0.000</td> <td>    0.261</td> <td>    0.645</td>\n",
       "</tr>\n",
       "<tr>\n",
       "  <th>prop_Serviced apartment</th>             <td>   -0.0494</td> <td>    0.055</td> <td>   -0.905</td> <td> 0.365</td> <td>   -0.156</td> <td>    0.058</td>\n",
       "</tr>\n",
       "<tr>\n",
       "  <th>prop_Townhouse</th>                      <td>    0.0382</td> <td>    0.060</td> <td>    0.635</td> <td> 0.526</td> <td>   -0.080</td> <td>    0.156</td>\n",
       "</tr>\n",
       "<tr>\n",
       "  <th>prop_Villa</th>                          <td>    0.5685</td> <td>    0.199</td> <td>    2.858</td> <td> 0.004</td> <td>    0.178</td> <td>    0.958</td>\n",
       "</tr>\n",
       "<tr>\n",
       "  <th>neighbourhood_Bayview</th>               <td>   -0.2247</td> <td>    0.039</td> <td>   -5.794</td> <td> 0.000</td> <td>   -0.301</td> <td>   -0.149</td>\n",
       "</tr>\n",
       "<tr>\n",
       "  <th>neighbourhood_Bernal Heights</th>        <td>   -0.0077</td> <td>    0.032</td> <td>   -0.240</td> <td> 0.810</td> <td>   -0.071</td> <td>    0.056</td>\n",
       "</tr>\n",
       "<tr>\n",
       "  <th>neighbourhood_Castro/Upper Market</th>   <td>    0.1960</td> <td>    0.032</td> <td>    6.198</td> <td> 0.000</td> <td>    0.134</td> <td>    0.258</td>\n",
       "</tr>\n",
       "<tr>\n",
       "  <th>neighbourhood_Chinatown</th>             <td>    0.1471</td> <td>    0.047</td> <td>    3.157</td> <td> 0.002</td> <td>    0.056</td> <td>    0.238</td>\n",
       "</tr>\n",
       "<tr>\n",
       "  <th>neighbourhood_Crocker Amazon</th>        <td>   -0.1869</td> <td>    0.065</td> <td>   -2.876</td> <td> 0.004</td> <td>   -0.314</td> <td>   -0.060</td>\n",
       "</tr>\n",
       "<tr>\n",
       "  <th>neighbourhood_Diamond Heights</th>       <td>   -0.0264</td> <td>    0.116</td> <td>   -0.228</td> <td> 0.819</td> <td>   -0.253</td> <td>    0.200</td>\n",
       "</tr>\n",
       "<tr>\n",
       "  <th>neighbourhood_Downtown/Civic Center</th> <td>    0.1358</td> <td>    0.031</td> <td>    4.375</td> <td> 0.000</td> <td>    0.075</td> <td>    0.197</td>\n",
       "</tr>\n",
       "<tr>\n",
       "  <th>neighbourhood_Excelsior</th>             <td>   -0.2873</td> <td>    0.042</td> <td>   -6.785</td> <td> 0.000</td> <td>   -0.370</td> <td>   -0.204</td>\n",
       "</tr>\n",
       "<tr>\n",
       "  <th>neighbourhood_Financial District</th>    <td>    0.3391</td> <td>    0.042</td> <td>    8.030</td> <td> 0.000</td> <td>    0.256</td> <td>    0.422</td>\n",
       "</tr>\n",
       "<tr>\n",
       "  <th>neighbourhood_Glen Park</th>             <td>    0.0198</td> <td>    0.064</td> <td>    0.308</td> <td> 0.758</td> <td>   -0.106</td> <td>    0.146</td>\n",
       "</tr>\n",
       "<tr>\n",
       "  <th>neighbourhood_Golden Gate Park</th>      <td>    0.2490</td> <td>    0.221</td> <td>    1.127</td> <td> 0.260</td> <td>   -0.184</td> <td>    0.682</td>\n",
       "</tr>\n",
       "<tr>\n",
       "  <th>neighbourhood_Haight Ashbury</th>        <td>    0.1640</td> <td>    0.033</td> <td>    4.918</td> <td> 0.000</td> <td>    0.099</td> <td>    0.229</td>\n",
       "</tr>\n",
       "<tr>\n",
       "  <th>neighbourhood_Inner Richmond</th>        <td>    0.0810</td> <td>    0.038</td> <td>    2.121</td> <td> 0.034</td> <td>    0.006</td> <td>    0.156</td>\n",
       "</tr>\n",
       "<tr>\n",
       "  <th>neighbourhood_Inner Sunset</th>          <td>    0.0611</td> <td>    0.044</td> <td>    1.396</td> <td> 0.163</td> <td>   -0.025</td> <td>    0.147</td>\n",
       "</tr>\n",
       "<tr>\n",
       "  <th>neighbourhood_Lakeshore</th>             <td>   -0.0064</td> <td>    0.066</td> <td>   -0.097</td> <td> 0.923</td> <td>   -0.135</td> <td>    0.123</td>\n",
       "</tr>\n",
       "<tr>\n",
       "  <th>neighbourhood_Marina</th>                <td>    0.3026</td> <td>    0.042</td> <td>    7.230</td> <td> 0.000</td> <td>    0.221</td> <td>    0.385</td>\n",
       "</tr>\n",
       "<tr>\n",
       "  <th>neighbourhood_Mission</th>               <td>    0.1683</td> <td>    0.027</td> <td>    6.167</td> <td> 0.000</td> <td>    0.115</td> <td>    0.222</td>\n",
       "</tr>\n",
       "<tr>\n",
       "  <th>neighbourhood_Nob Hill</th>              <td>    0.1847</td> <td>    0.037</td> <td>    5.006</td> <td> 0.000</td> <td>    0.112</td> <td>    0.257</td>\n",
       "</tr>\n",
       "<tr>\n",
       "  <th>neighbourhood_Noe Valley</th>            <td>    0.1964</td> <td>    0.034</td> <td>    5.770</td> <td> 0.000</td> <td>    0.130</td> <td>    0.263</td>\n",
       "</tr>\n",
       "<tr>\n",
       "  <th>neighbourhood_North Beach</th>           <td>    0.3734</td> <td>    0.041</td> <td>    9.106</td> <td> 0.000</td> <td>    0.293</td> <td>    0.454</td>\n",
       "</tr>\n",
       "<tr>\n",
       "  <th>neighbourhood_Ocean View</th>            <td>   -0.1785</td> <td>    0.048</td> <td>   -3.739</td> <td> 0.000</td> <td>   -0.272</td> <td>   -0.085</td>\n",
       "</tr>\n",
       "<tr>\n",
       "  <th>neighbourhood_Outer Mission</th>         <td>   -0.1076</td> <td>    0.044</td> <td>   -2.469</td> <td> 0.014</td> <td>   -0.193</td> <td>   -0.022</td>\n",
       "</tr>\n",
       "<tr>\n",
       "  <th>neighbourhood_Outer Richmond</th>        <td>   -0.0334</td> <td>    0.043</td> <td>   -0.770</td> <td> 0.441</td> <td>   -0.118</td> <td>    0.052</td>\n",
       "</tr>\n",
       "<tr>\n",
       "  <th>neighbourhood_Outer Sunset</th>          <td>   -0.0665</td> <td>    0.034</td> <td>   -1.946</td> <td> 0.052</td> <td>   -0.134</td> <td>    0.000</td>\n",
       "</tr>\n",
       "<tr>\n",
       "  <th>neighbourhood_Pacific Heights</th>       <td>    0.3580</td> <td>    0.043</td> <td>    8.236</td> <td> 0.000</td> <td>    0.273</td> <td>    0.443</td>\n",
       "</tr>\n",
       "<tr>\n",
       "  <th>neighbourhood_Parkside</th>              <td>   -0.0908</td> <td>    0.045</td> <td>   -2.008</td> <td> 0.045</td> <td>   -0.179</td> <td>   -0.002</td>\n",
       "</tr>\n",
       "<tr>\n",
       "  <th>neighbourhood_Potrero Hill</th>          <td>    0.1895</td> <td>    0.037</td> <td>    5.171</td> <td> 0.000</td> <td>    0.118</td> <td>    0.261</td>\n",
       "</tr>\n",
       "<tr>\n",
       "  <th>neighbourhood_Presidio</th>              <td>    0.1165</td> <td>    0.441</td> <td>    0.264</td> <td> 0.792</td> <td>   -0.748</td> <td>    0.981</td>\n",
       "</tr>\n",
       "<tr>\n",
       "  <th>neighbourhood_Presidio Heights</th>      <td>    0.2419</td> <td>    0.101</td> <td>    2.384</td> <td> 0.017</td> <td>    0.043</td> <td>    0.441</td>\n",
       "</tr>\n",
       "<tr>\n",
       "  <th>neighbourhood_Russian Hill</th>          <td>    0.3240</td> <td>    0.042</td> <td>    7.664</td> <td> 0.000</td> <td>    0.241</td> <td>    0.407</td>\n",
       "</tr>\n",
       "<tr>\n",
       "  <th>neighbourhood_Seacliff</th>              <td>   -0.0083</td> <td>    0.116</td> <td>   -0.072</td> <td> 0.943</td> <td>   -0.236</td> <td>    0.220</td>\n",
       "</tr>\n",
       "<tr>\n",
       "  <th>neighbourhood_South of Market</th>       <td>    0.3788</td> <td>    0.029</td> <td>   13.014</td> <td> 0.000</td> <td>    0.322</td> <td>    0.436</td>\n",
       "</tr>\n",
       "<tr>\n",
       "  <th>neighbourhood_Treasure Island/YBI</th>   <td>   -0.5075</td> <td>    0.450</td> <td>   -1.128</td> <td> 0.259</td> <td>   -1.389</td> <td>    0.374</td>\n",
       "</tr>\n",
       "<tr>\n",
       "  <th>neighbourhood_Twin Peaks</th>            <td>    0.2348</td> <td>    0.063</td> <td>    3.713</td> <td> 0.000</td> <td>    0.111</td> <td>    0.359</td>\n",
       "</tr>\n",
       "<tr>\n",
       "  <th>neighbourhood_Visitacion Valley</th>     <td>   -0.0580</td> <td>    0.060</td> <td>   -0.967</td> <td> 0.334</td> <td>   -0.176</td> <td>    0.060</td>\n",
       "</tr>\n",
       "<tr>\n",
       "  <th>neighbourhood_West of Twin Peaks</th>    <td>   -0.0545</td> <td>    0.048</td> <td>   -1.145</td> <td> 0.252</td> <td>   -0.148</td> <td>    0.039</td>\n",
       "</tr>\n",
       "<tr>\n",
       "  <th>neighbourhood_Western Addition</th>      <td>    0.1919</td> <td>    0.029</td> <td>    6.666</td> <td> 0.000</td> <td>    0.135</td> <td>    0.248</td>\n",
       "</tr>\n",
       "<tr>\n",
       "  <th>review_of_<4.0</th>                      <td>    0.2897</td> <td>    0.040</td> <td>    7.261</td> <td> 0.000</td> <td>    0.211</td> <td>    0.368</td>\n",
       "</tr>\n",
       "<tr>\n",
       "  <th>review_of_>4.0</th>                      <td>    0.3173</td> <td>    0.032</td> <td>    9.765</td> <td> 0.000</td> <td>    0.254</td> <td>    0.381</td>\n",
       "</tr>\n",
       "<tr>\n",
       "  <th>review_of_>4.2</th>                      <td>    0.3008</td> <td>    0.023</td> <td>   12.922</td> <td> 0.000</td> <td>    0.255</td> <td>    0.346</td>\n",
       "</tr>\n",
       "<tr>\n",
       "  <th>review_of_>4.6</th>                      <td>    0.4087</td> <td>    0.020</td> <td>   20.396</td> <td> 0.000</td> <td>    0.369</td> <td>    0.448</td>\n",
       "</tr>\n",
       "<tr>\n",
       "  <th>review_of_>4.8</th>                      <td>    0.4911</td> <td>    0.019</td> <td>   26.402</td> <td> 0.000</td> <td>    0.455</td> <td>    0.528</td>\n",
       "</tr>\n",
       "<tr>\n",
       "  <th>review_of_>4.9</th>                      <td>    0.5145</td> <td>    0.017</td> <td>   30.549</td> <td> 0.000</td> <td>    0.481</td> <td>    0.547</td>\n",
       "</tr>\n",
       "<tr>\n",
       "  <th>review_of_no review</th>                 <td>    0.4872</td> <td>    0.018</td> <td>   26.765</td> <td> 0.000</td> <td>    0.452</td> <td>    0.523</td>\n",
       "</tr>\n",
       "</table>\n",
       "<table class=\"simpletable\">\n",
       "<tr>\n",
       "  <th>Omnibus:</th>       <td>2988.664</td> <th>  Durbin-Watson:     </th> <td>   1.943</td> \n",
       "</tr>\n",
       "<tr>\n",
       "  <th>Prob(Omnibus):</th>  <td> 0.000</td>  <th>  Jarque-Bera (JB):  </th> <td>55785.318</td>\n",
       "</tr>\n",
       "<tr>\n",
       "  <th>Skew:</th>           <td> 1.748</td>  <th>  Prob(JB):          </th> <td>    0.00</td> \n",
       "</tr>\n",
       "<tr>\n",
       "  <th>Kurtosis:</th>       <td>16.944</td>  <th>  Cond. No.          </th> <td>1.21e+16</td> \n",
       "</tr>\n",
       "</table><br/><br/>Warnings:<br/>[1] Standard Errors assume that the covariance matrix of the errors is correctly specified.<br/>[2] The smallest eigenvalue is 1.32e-23. This might indicate that there are<br/>strong multicollinearity problems or that the design matrix is singular."
      ],
      "text/plain": [
       "<class 'statsmodels.iolib.summary.Summary'>\n",
       "\"\"\"\n",
       "                            OLS Regression Results                            \n",
       "==============================================================================\n",
       "Dep. Variable:                  price   R-squared:                       0.595\n",
       "Model:                            OLS   Adj. R-squared:                  0.590\n",
       "Method:                 Least Squares   F-statistic:                     104.5\n",
       "Date:                Thu, 19 Mar 2020   Prob (F-statistic):               0.00\n",
       "Time:                        20:40:56   Log-Likelihood:                -3989.9\n",
       "No. Observations:                6479   AIC:                             8162.\n",
       "Df Residuals:                    6388   BIC:                             8778.\n",
       "Df Model:                          90                                         \n",
       "Covariance Type:            nonrobust                                         \n",
       "=======================================================================================================\n",
       "                                          coef    std err          t      P>|t|      [0.025      0.975]\n",
       "-------------------------------------------------------------------------------------------------------\n",
       "host_response_time                     -0.0298      0.005     -5.475      0.000      -0.040      -0.019\n",
       "host_response_rate                      0.1475      0.054      2.715      0.007       0.041       0.254\n",
       "host_acceptance_rate                   -0.0511      0.026     -1.965      0.050      -0.102      -0.000\n",
       "host_is_superhost                       0.0566      0.014      3.914      0.000       0.028       0.085\n",
       "host_identity_verified                  0.0424      0.013      3.312      0.001       0.017       0.068\n",
       "accommodates                            0.0815      0.006     12.776      0.000       0.069       0.094\n",
       "bathrooms                              -0.0810      0.023     -3.459      0.001      -0.127      -0.035\n",
       "bedrooms                                0.3414      0.023     14.611      0.000       0.296       0.387\n",
       "beds                                   -0.0196      0.010     -1.987      0.047      -0.039      -0.000\n",
       "bed_type                               -0.0512      0.062     -0.828      0.408      -0.172       0.070\n",
       "security_deposit                    -1.817e-05   1.43e-05     -1.271      0.204   -4.62e-05    9.85e-06\n",
       "cleaning_fee                            0.0005      0.000      4.851      0.000       0.000       0.001\n",
       "guests_included                         0.0175      0.006      2.927      0.003       0.006       0.029\n",
       "extra_people                            0.0007      0.000      3.410      0.001       0.000       0.001\n",
       "number_of_reviews                      -0.0003      0.000     -2.215      0.027      -0.000   -2.94e-05\n",
       "number_of_reviews_ltm                  -0.0006      0.001     -1.009      0.313      -0.002       0.001\n",
       "instant_bookable                        0.0033      0.013      0.260      0.795      -0.022       0.028\n",
       "cancellation_policy                     0.0248      0.007      3.418      0.001       0.011       0.039\n",
       "require_guest_profile_picture          -0.0420      0.032     -1.321      0.186      -0.104       0.020\n",
       "calculated_host_listings_count      -1.055e-05      0.000     -0.075      0.940      -0.000       0.000\n",
       "reviews_per_month                       0.0188      0.007      2.701      0.007       0.005       0.032\n",
       "bedbathratio                           -0.1759      0.023     -7.508      0.000      -0.222      -0.130\n",
       "intercept                               2.8093      0.073     38.661      0.000       2.667       2.952\n",
       "room_1                                  0.0220      0.039      0.568      0.570      -0.054       0.098\n",
       "room_2                                  0.9271      0.049     18.855      0.000       0.831       1.023\n",
       "room_3                                  0.7545      0.024     31.626      0.000       0.708       0.801\n",
       "room_4                                  1.1058      0.025     43.854      0.000       1.056       1.155\n",
       "breakfast                               0.0120      0.020      0.586      0.558      -0.028       0.052\n",
       "family_friendly                         0.0332      0.014      2.410      0.016       0.006       0.060\n",
       "coffee_maker                            0.0690      0.014      4.913      0.000       0.041       0.097\n",
       "netflix                                 0.1982      0.047      4.228      0.000       0.106       0.290\n",
       "greeting                               -0.0493      0.020     -2.469      0.014      -0.088      -0.010\n",
       "freeparking                             0.0066      0.014      0.460      0.646      -0.022       0.035\n",
       "outdoorpart                             0.0303      0.015      2.020      0.043       0.001       0.060\n",
       "prop_Apartment                         -0.0255      0.042     -0.605      0.545      -0.108       0.057\n",
       "prop_Bed and breakfast                  0.6073      0.121      5.033      0.000       0.371       0.844\n",
       "prop_Bungalow                           0.0034      0.100      0.034      0.973      -0.193       0.200\n",
       "prop_Condominium                        0.1166      0.045      2.610      0.009       0.029       0.204\n",
       "prop_Cottage                            0.0615      0.122      0.506      0.613      -0.177       0.300\n",
       "prop_Cycladic house (Greece)            0.0169      0.429      0.039      0.969      -0.824       0.858\n",
       "prop_Guest suite                       -0.0163      0.047     -0.349      0.727      -0.108       0.075\n",
       "prop_Guesthouse                        -0.0570      0.077     -0.737      0.461      -0.209       0.095\n",
       "prop_Hostel                             0.1749      0.097      1.796      0.073      -0.016       0.366\n",
       "prop_Hotel                              0.6608      0.049     13.369      0.000       0.564       0.758\n",
       "prop_House                              0.0395      0.043      0.921      0.357      -0.045       0.123\n",
       "prop_In-law                             0.0230      0.429      0.054      0.957      -0.817       0.863\n",
       "prop_Loft                               0.1937      0.062      3.146      0.002       0.073       0.314\n",
       "prop_Other                              0.4531      0.098      4.631      0.000       0.261       0.645\n",
       "prop_Serviced apartment                -0.0494      0.055     -0.905      0.365      -0.156       0.058\n",
       "prop_Townhouse                          0.0382      0.060      0.635      0.526      -0.080       0.156\n",
       "prop_Villa                              0.5685      0.199      2.858      0.004       0.178       0.958\n",
       "neighbourhood_Bayview                  -0.2247      0.039     -5.794      0.000      -0.301      -0.149\n",
       "neighbourhood_Bernal Heights           -0.0077      0.032     -0.240      0.810      -0.071       0.056\n",
       "neighbourhood_Castro/Upper Market       0.1960      0.032      6.198      0.000       0.134       0.258\n",
       "neighbourhood_Chinatown                 0.1471      0.047      3.157      0.002       0.056       0.238\n",
       "neighbourhood_Crocker Amazon           -0.1869      0.065     -2.876      0.004      -0.314      -0.060\n",
       "neighbourhood_Diamond Heights          -0.0264      0.116     -0.228      0.819      -0.253       0.200\n",
       "neighbourhood_Downtown/Civic Center     0.1358      0.031      4.375      0.000       0.075       0.197\n",
       "neighbourhood_Excelsior                -0.2873      0.042     -6.785      0.000      -0.370      -0.204\n",
       "neighbourhood_Financial District        0.3391      0.042      8.030      0.000       0.256       0.422\n",
       "neighbourhood_Glen Park                 0.0198      0.064      0.308      0.758      -0.106       0.146\n",
       "neighbourhood_Golden Gate Park          0.2490      0.221      1.127      0.260      -0.184       0.682\n",
       "neighbourhood_Haight Ashbury            0.1640      0.033      4.918      0.000       0.099       0.229\n",
       "neighbourhood_Inner Richmond            0.0810      0.038      2.121      0.034       0.006       0.156\n",
       "neighbourhood_Inner Sunset              0.0611      0.044      1.396      0.163      -0.025       0.147\n",
       "neighbourhood_Lakeshore                -0.0064      0.066     -0.097      0.923      -0.135       0.123\n",
       "neighbourhood_Marina                    0.3026      0.042      7.230      0.000       0.221       0.385\n",
       "neighbourhood_Mission                   0.1683      0.027      6.167      0.000       0.115       0.222\n",
       "neighbourhood_Nob Hill                  0.1847      0.037      5.006      0.000       0.112       0.257\n",
       "neighbourhood_Noe Valley                0.1964      0.034      5.770      0.000       0.130       0.263\n",
       "neighbourhood_North Beach               0.3734      0.041      9.106      0.000       0.293       0.454\n",
       "neighbourhood_Ocean View               -0.1785      0.048     -3.739      0.000      -0.272      -0.085\n",
       "neighbourhood_Outer Mission            -0.1076      0.044     -2.469      0.014      -0.193      -0.022\n",
       "neighbourhood_Outer Richmond           -0.0334      0.043     -0.770      0.441      -0.118       0.052\n",
       "neighbourhood_Outer Sunset             -0.0665      0.034     -1.946      0.052      -0.134       0.000\n",
       "neighbourhood_Pacific Heights           0.3580      0.043      8.236      0.000       0.273       0.443\n",
       "neighbourhood_Parkside                 -0.0908      0.045     -2.008      0.045      -0.179      -0.002\n",
       "neighbourhood_Potrero Hill              0.1895      0.037      5.171      0.000       0.118       0.261\n",
       "neighbourhood_Presidio                  0.1165      0.441      0.264      0.792      -0.748       0.981\n",
       "neighbourhood_Presidio Heights          0.2419      0.101      2.384      0.017       0.043       0.441\n",
       "neighbourhood_Russian Hill              0.3240      0.042      7.664      0.000       0.241       0.407\n",
       "neighbourhood_Seacliff                 -0.0083      0.116     -0.072      0.943      -0.236       0.220\n",
       "neighbourhood_South of Market           0.3788      0.029     13.014      0.000       0.322       0.436\n",
       "neighbourhood_Treasure Island/YBI      -0.5075      0.450     -1.128      0.259      -1.389       0.374\n",
       "neighbourhood_Twin Peaks                0.2348      0.063      3.713      0.000       0.111       0.359\n",
       "neighbourhood_Visitacion Valley        -0.0580      0.060     -0.967      0.334      -0.176       0.060\n",
       "neighbourhood_West of Twin Peaks       -0.0545      0.048     -1.145      0.252      -0.148       0.039\n",
       "neighbourhood_Western Addition          0.1919      0.029      6.666      0.000       0.135       0.248\n",
       "review_of_<4.0                          0.2897      0.040      7.261      0.000       0.211       0.368\n",
       "review_of_>4.0                          0.3173      0.032      9.765      0.000       0.254       0.381\n",
       "review_of_>4.2                          0.3008      0.023     12.922      0.000       0.255       0.346\n",
       "review_of_>4.6                          0.4087      0.020     20.396      0.000       0.369       0.448\n",
       "review_of_>4.8                          0.4911      0.019     26.402      0.000       0.455       0.528\n",
       "review_of_>4.9                          0.5145      0.017     30.549      0.000       0.481       0.547\n",
       "review_of_no review                     0.4872      0.018     26.765      0.000       0.452       0.523\n",
       "==============================================================================\n",
       "Omnibus:                     2988.664   Durbin-Watson:                   1.943\n",
       "Prob(Omnibus):                  0.000   Jarque-Bera (JB):            55785.318\n",
       "Skew:                           1.748   Prob(JB):                         0.00\n",
       "Kurtosis:                      16.944   Cond. No.                     1.21e+16\n",
       "==============================================================================\n",
       "\n",
       "Warnings:\n",
       "[1] Standard Errors assume that the covariance matrix of the errors is correctly specified.\n",
       "[2] The smallest eigenvalue is 1.32e-23. This might indicate that there are\n",
       "strong multicollinearity problems or that the design matrix is singular.\n",
       "\"\"\""
      ]
     },
     "execution_count": 32,
     "metadata": {},
     "output_type": "execute_result"
    }
   ],
   "source": [
    "model = sm.OLS(y_train, X_train)\n",
    "fit = model.fit()\n",
    "\n",
    "test_set_pred = fit.predict(X_train)\n",
    "\n",
    "from sklearn.linear_model import LinearRegression\n",
    "from sklearn.model_selection import cross_val_score, KFold\n",
    "\n",
    "fivesplits = KFold(n_splits = 5, shuffle = True, random_state = 7)\n",
    "\n",
    "#we'll also do a cross validation to see model performance on top of ordinary least squares\n",
    "print('cross validated r2', np.mean(cross_val_score(LinearRegression(), X_train, y_train, cv = fivesplits, scoring = 'r2')))\n",
    "\n",
    "#okay not too bad.. we'll continue on\n",
    "#https://sukhbinder.wordpress.com/2018/08/07/cross-validation-score-with-statsmodels/\n",
    "fit.summary()"
   ]
  },
  {
   "cell_type": "code",
   "execution_count": 31,
   "metadata": {
    "ExecuteTime": {
     "end_time": "2020-03-20T03:37:04.966322Z",
     "start_time": "2020-03-20T03:37:04.903123Z"
    }
   },
   "outputs": [
    {
     "ename": "NameError",
     "evalue": "name 'corr_matrix' is not defined",
     "output_type": "error",
     "traceback": [
      "\u001b[0;31m---------------------------------------------------------------------------\u001b[0m",
      "\u001b[0;31mNameError\u001b[0m                                 Traceback (most recent call last)",
      "\u001b[0;32m<ipython-input-31-3841f1b90496>\u001b[0m in \u001b[0;36m<module>\u001b[0;34m\u001b[0m\n\u001b[1;32m      1\u001b[0m \u001b[0;31m#the matrix is symmetric so we need to extract upper triangle matrix without diagonal (k = 1)\u001b[0m\u001b[0;34m\u001b[0m\u001b[0;34m\u001b[0m\u001b[0;34m\u001b[0m\u001b[0m\n\u001b[0;32m----> 2\u001b[0;31m sol = (corr_matrix.where(np.triu(np.ones(corr_matrix.shape), k=1).astype(np.bool))\n\u001b[0m\u001b[1;32m      3\u001b[0m                  \u001b[0;34m.\u001b[0m\u001b[0mstack\u001b[0m\u001b[0;34m(\u001b[0m\u001b[0;34m)\u001b[0m\u001b[0;34m\u001b[0m\u001b[0;34m\u001b[0m\u001b[0m\n\u001b[1;32m      4\u001b[0m                  .sort_values(ascending=False))\n\u001b[1;32m      5\u001b[0m \u001b[0;31m#first element of sol series is the pair with the bigest correlation\u001b[0m\u001b[0;34m\u001b[0m\u001b[0;34m\u001b[0m\u001b[0;34m\u001b[0m\u001b[0m\n",
      "\u001b[0;31mNameError\u001b[0m: name 'corr_matrix' is not defined"
     ]
    }
   ],
   "source": [
    "#the matrix is symmetric so we need to extract upper triangle matrix without diagonal (k = 1)\n",
    "sol = (corr_matrix.where(np.triu(np.ones(corr_matrix.shape), k=1).astype(np.bool))\n",
    "                 .stack()\n",
    "                 .sort_values(ascending=False))\n",
    "#first element of sol series is the pair with the bigest correlation\n",
    "#https://stackoverflow.com/questions/17778394/list-highest-correlation-pairs-from-a-large-correlation-matrix-in-pandas\n",
    "sol"
   ]
  },
  {
   "cell_type": "code",
   "execution_count": 35,
   "metadata": {
    "ExecuteTime": {
     "end_time": "2020-03-20T03:45:37.093186Z",
     "start_time": "2020-03-20T03:45:36.953098Z"
    }
   },
   "outputs": [],
   "source": [
    "import pickle\n",
    "\n",
    "with open('dataframe', 'wb') as file:\n",
    "    df = pickle.dump(df, file)"
   ]
  },
  {
   "cell_type": "code",
   "execution_count": null,
   "metadata": {},
   "outputs": [],
   "source": []
  }
 ],
 "metadata": {
  "kernelspec": {
   "display_name": "Python [conda env:metis] *",
   "language": "python",
   "name": "conda-env-metis-py"
  },
  "language_info": {
   "codemirror_mode": {
    "name": "ipython",
    "version": 3
   },
   "file_extension": ".py",
   "mimetype": "text/x-python",
   "name": "python",
   "nbconvert_exporter": "python",
   "pygments_lexer": "ipython3",
   "version": "3.7.4"
  },
  "toc": {
   "base_numbering": 1,
   "nav_menu": {},
   "number_sections": false,
   "sideBar": true,
   "skip_h1_title": false,
   "title_cell": "Table of Contents",
   "title_sidebar": "Contents",
   "toc_cell": false,
   "toc_position": {},
   "toc_section_display": true,
   "toc_window_display": false
  }
 },
 "nbformat": 4,
 "nbformat_minor": 4
}
