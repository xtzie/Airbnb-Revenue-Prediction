{
 "cells": [
  {
   "cell_type": "markdown",
   "metadata": {},
   "source": [
    "# Exploratory Data Analysis, Cleaning and Feature Engineering\n",
    "\n",
    "As with all data sets, we will need to 'prepare' it before it's ready for modelling. The objective of this notebook is to:\n",
    "\n",
    "- **Explore data** - What are our x variables? What might be contextually relevant? How should I approach my modelling? This will help us focus our attention on the right areas\n",
    "- **Numericize data** - Data comes in various forms ('host responds quickly'/'host responds within a few days') We will need to quantify or convert these values into numbers it's readable by our model  \n",
    "- **Negate null and outlier data** - Either by removing them or imputing values for them  \n",
    "- **Normalize data** - Not all data follows a bell curve distribution, but data that does might suggest that it's a good approximation of reality, as it is 'common' to see bell curve distributions in naturally occuring phenomena (e.g with height, birth weight, log value of stock markets). As such we will look for ways to normalize our data to capture such distributions\n",
    "\n",
    "We will also do **feature engineering** where we derive variables that capture meaningful relationships between existing variables (e.g bed/bath ratio = total bedrooms / total bathrooms). <br>\n",
    "<br>\n",
    "In future I would like to include other data sources (e.g distance of a listing from the nearest restaurant cluster, household income of the neighborhood, average road traffic, crime rate, distance to nearest tourist attraction) as they are likely to play a significant role in price prediction."
   ]
  },
  {
   "cell_type": "markdown",
   "metadata": {
    "heading_collapsed": true
   },
   "source": [
    "### Explore Data"
   ]
  },
  {
   "cell_type": "code",
   "execution_count": 1,
   "metadata": {
    "ExecuteTime": {
     "end_time": "2020-04-04T20:12:34.715089Z",
     "start_time": "2020-04-04T20:12:33.365757Z"
    },
    "hidden": true
   },
   "outputs": [
    {
     "name": "stdout",
     "output_type": "stream",
     "text": [
      "sf (8587, 106)\n"
     ]
    },
    {
     "name": "stderr",
     "output_type": "stream",
     "text": [
      "/home/xtzie/anaconda3/envs/metis/lib/python3.7/site-packages/IPython/core/interactiveshell.py:3051: DtypeWarning: Columns (61,62) have mixed types. Specify dtype option on import or set low_memory=False.\n",
      "  interactivity=interactivity, compiler=compiler, result=result)\n"
     ]
    }
   ],
   "source": [
    "import pandas as pd\n",
    "import numpy as np\n",
    "import matplotlib.pyplot as plt\n",
    "import seaborn as sns\n",
    "\n",
    "pd.set_option('max_columns', 100)\n",
    "pd.set_option('max_rows', 110)\n",
    "\n",
    "pathname = 'data/sf-12feb/listings (1).csv'\n",
    "\n",
    "df = pd.read_csv(pathname)\n",
    "print('sf', df.shape)"
   ]
  },
  {
   "cell_type": "code",
   "execution_count": 2,
   "metadata": {
    "ExecuteTime": {
     "end_time": "2020-04-04T20:12:34.766146Z",
     "start_time": "2020-04-04T20:12:34.718658Z"
    },
    "hidden": true
   },
   "outputs": [
    {
     "name": "stdout",
     "output_type": "stream",
     "text": [
      "<class 'pandas.core.frame.DataFrame'>\n",
      "RangeIndex: 8587 entries, 0 to 8586\n",
      "Data columns (total 106 columns):\n",
      "id                                              8587 non-null int64\n",
      "listing_url                                     8587 non-null object\n",
      "scrape_id                                       8587 non-null int64\n",
      "last_scraped                                    8587 non-null object\n",
      "name                                            8587 non-null object\n",
      "summary                                         8367 non-null object\n",
      "space                                           7290 non-null object\n",
      "description                                     8533 non-null object\n",
      "experiences_offered                             8587 non-null object\n",
      "neighborhood_overview                           6328 non-null object\n",
      "notes                                           5163 non-null object\n",
      "transit                                         5878 non-null object\n",
      "access                                          5199 non-null object\n",
      "interaction                                     5752 non-null object\n",
      "house_rules                                     6217 non-null object\n",
      "thumbnail_url                                   0 non-null float64\n",
      "medium_url                                      0 non-null float64\n",
      "picture_url                                     8587 non-null object\n",
      "xl_picture_url                                  0 non-null float64\n",
      "host_id                                         8587 non-null int64\n",
      "host_url                                        8587 non-null object\n",
      "host_name                                       8587 non-null object\n",
      "host_since                                      8587 non-null object\n",
      "host_location                                   8582 non-null object\n",
      "host_about                                      6498 non-null object\n",
      "host_response_time                              7409 non-null object\n",
      "host_response_rate                              7409 non-null object\n",
      "host_acceptance_rate                            8062 non-null object\n",
      "host_is_superhost                               8587 non-null object\n",
      "host_thumbnail_url                              8587 non-null object\n",
      "host_picture_url                                8587 non-null object\n",
      "host_neighbourhood                              8060 non-null object\n",
      "host_listings_count                             8587 non-null int64\n",
      "host_total_listings_count                       8587 non-null int64\n",
      "host_verifications                              8587 non-null object\n",
      "host_has_profile_pic                            8587 non-null object\n",
      "host_identity_verified                          8587 non-null object\n",
      "street                                          8587 non-null object\n",
      "neighbourhood                                   8575 non-null object\n",
      "neighbourhood_cleansed                          8587 non-null object\n",
      "neighbourhood_group_cleansed                    0 non-null float64\n",
      "city                                            8587 non-null object\n",
      "state                                           8581 non-null object\n",
      "zipcode                                         8563 non-null object\n",
      "market                                          8566 non-null object\n",
      "smart_location                                  8587 non-null object\n",
      "country_code                                    8587 non-null object\n",
      "country                                         8587 non-null object\n",
      "latitude                                        8587 non-null float64\n",
      "longitude                                       8587 non-null float64\n",
      "is_location_exact                               8587 non-null object\n",
      "property_type                                   8587 non-null object\n",
      "room_type                                       8587 non-null object\n",
      "accommodates                                    8587 non-null int64\n",
      "bathrooms                                       8581 non-null float64\n",
      "bedrooms                                        8584 non-null float64\n",
      "beds                                            8561 non-null float64\n",
      "bed_type                                        8587 non-null object\n",
      "amenities                                       8587 non-null object\n",
      "square_feet                                     132 non-null float64\n",
      "price                                           8587 non-null object\n",
      "weekly_price                                    1045 non-null object\n",
      "monthly_price                                   1018 non-null object\n",
      "security_deposit                                6836 non-null object\n",
      "cleaning_fee                                    7645 non-null object\n",
      "guests_included                                 8587 non-null int64\n",
      "extra_people                                    8587 non-null object\n",
      "minimum_nights                                  8587 non-null int64\n",
      "maximum_nights                                  8587 non-null int64\n",
      "minimum_minimum_nights                          8587 non-null int64\n",
      "maximum_minimum_nights                          8587 non-null int64\n",
      "minimum_maximum_nights                          8587 non-null int64\n",
      "maximum_maximum_nights                          8587 non-null int64\n",
      "minimum_nights_avg_ntm                          8587 non-null float64\n",
      "maximum_nights_avg_ntm                          8587 non-null float64\n",
      "calendar_updated                                8587 non-null object\n",
      "has_availability                                8587 non-null object\n",
      "availability_30                                 8587 non-null int64\n",
      "availability_60                                 8587 non-null int64\n",
      "availability_90                                 8587 non-null int64\n",
      "availability_365                                8587 non-null int64\n",
      "calendar_last_scraped                           8587 non-null object\n",
      "number_of_reviews                               8587 non-null int64\n",
      "number_of_reviews_ltm                           8587 non-null int64\n",
      "first_review                                    6596 non-null object\n",
      "last_review                                     6596 non-null object\n",
      "review_scores_rating                            6547 non-null float64\n",
      "review_scores_accuracy                          6539 non-null float64\n",
      "review_scores_cleanliness                       6539 non-null float64\n",
      "review_scores_checkin                           6538 non-null float64\n",
      "review_scores_communication                     6540 non-null float64\n",
      "review_scores_location                          6538 non-null float64\n",
      "review_scores_value                             6538 non-null float64\n",
      "requires_license                                8587 non-null object\n",
      "license                                         5244 non-null object\n",
      "jurisdiction_names                              8536 non-null object\n",
      "instant_bookable                                8587 non-null object\n",
      "is_business_travel_ready                        8587 non-null object\n",
      "cancellation_policy                             8587 non-null object\n",
      "require_guest_profile_picture                   8587 non-null object\n",
      "require_guest_phone_verification                8587 non-null object\n",
      "calculated_host_listings_count                  8587 non-null int64\n",
      "calculated_host_listings_count_entire_homes     8587 non-null int64\n",
      "calculated_host_listings_count_private_rooms    8587 non-null int64\n",
      "calculated_host_listings_count_shared_rooms     8587 non-null int64\n",
      "reviews_per_month                               6596 non-null float64\n",
      "dtypes: float64(20), int64(23), object(63)\n",
      "memory usage: 6.9+ MB\n"
     ]
    }
   ],
   "source": [
    "df.info(verbose = True, null_counts = True)"
   ]
  },
  {
   "cell_type": "code",
   "execution_count": 3,
   "metadata": {
    "ExecuteTime": {
     "end_time": "2020-04-04T20:12:34.792825Z",
     "start_time": "2020-04-04T20:12:34.769976Z"
    },
    "hidden": true
   },
   "outputs": [],
   "source": [
    "#Based on contextual analysis, we take the columns we believe will have an impact on price\n",
    "#also include some reference columns like 'id', and the 'listing_url'\n",
    "neededcolumns = ['id', 'listing_url', 'name', 'summary', 'space', 'description',\n",
    "                 'neighborhood_overview', 'notes', 'transit', 'access', 'interaction', 'house_rules', \n",
    "                 'host_id', 'host_url', 'host_since', 'host_about', 'host_response_time', \n",
    "                 'host_response_rate', 'host_acceptance_rate', 'host_is_superhost', 'host_neighbourhood',\n",
    "                'host_listings_count', 'host_has_profile_pic', 'host_identity_verified', \n",
    "                'neighbourhood_cleansed', 'zipcode', 'latitude', 'longitude', 'property_type', 'room_type', \n",
    "                'accommodates', 'bathrooms', 'bedrooms', 'beds', 'bed_type', 'amenities', 'price', 'weekly_price',\n",
    "                'security_deposit', 'cleaning_fee', 'guests_included', 'extra_people', 'minimum_nights', 'maximum_nights',\n",
    "                'number_of_reviews', 'number_of_reviews_ltm', 'first_review', 'last_review', 'review_scores_rating',\n",
    "                'instant_bookable', 'is_business_travel_ready', 'cancellation_policy', 'require_guest_profile_picture',\n",
    "                'require_guest_phone_verification', 'calculated_host_listings_count', 'reviews_per_month']\n",
    "\n",
    "df = df[neededcolumns]"
   ]
  },
  {
   "cell_type": "code",
   "execution_count": 4,
   "metadata": {
    "ExecuteTime": {
     "end_time": "2020-04-04T20:12:35.436025Z",
     "start_time": "2020-04-04T20:12:34.799548Z"
    },
    "hidden": true
   },
   "outputs": [],
   "source": [
    "import pandas_profiling\n",
    "#uncomment rows below if running for the first time\n",
    "\n",
    "# report = pandas_profiling.ProfileReport(df, html = {'style': {'full_width': True}})\n",
    "# report.to_file('data_summary.html')\n",
    "# report"
   ]
  },
  {
   "cell_type": "markdown",
   "metadata": {
    "heading_collapsed": true
   },
   "source": [
    "### Numericize Data"
   ]
  },
  {
   "cell_type": "markdown",
   "metadata": {
    "heading_collapsed": true,
    "hidden": true
   },
   "source": [
    "#### Cleaning data formats"
   ]
  },
  {
   "cell_type": "code",
   "execution_count": 5,
   "metadata": {
    "ExecuteTime": {
     "end_time": "2020-04-04T20:12:35.626475Z",
     "start_time": "2020-04-04T20:12:35.438062Z"
    },
    "hidden": true
   },
   "outputs": [],
   "source": [
    "#cleaning dollar formats\n",
    "#this does not deal with null values (due to try except function)\n",
    "#null values addressed later\n",
    "\n",
    "import re\n",
    "\n",
    "def dollarformat(x):\n",
    "    '''\n",
    "    convert currency strings into interger amounts\n",
    "    removes $ , and . \n",
    "    converts str into int\n",
    "    '''\n",
    "    try: \n",
    "        return round(int(re.sub('[$,,,.]', '', x))/100,1)\n",
    "    except:\n",
    "        return x\n",
    "\n",
    "df['cleaning_fee'] = df['cleaning_fee'].map(lambda x: dollarformat(x))\n",
    "df['security_deposit'] = df['security_deposit'].map(lambda x: dollarformat(x))\n",
    "\n",
    "df['extra_people'] = df['extra_people'].map(lambda x: dollarformat(x))\n",
    "\n",
    "df['price'] = df['price'].map(lambda x: dollarformat(x))\n",
    "df['weekly_price'] = df['weekly_price'].map(lambda x: dollarformat(x))"
   ]
  },
  {
   "cell_type": "code",
   "execution_count": 6,
   "metadata": {
    "ExecuteTime": {
     "end_time": "2020-04-04T20:12:35.703161Z",
     "start_time": "2020-04-04T20:12:35.628347Z"
    },
    "hidden": true
   },
   "outputs": [],
   "source": [
    "def percentage(x):\n",
    "    '''\n",
    "    convert % strings into interger amounts\n",
    "    removes % , and . \n",
    "    converts str into int\n",
    "    '''\n",
    "    try: \n",
    "        return round(int(re.sub('[%,,,.]', '', x))/100,2)\n",
    "    except:\n",
    "        return x\n",
    "\n",
    "df.host_acceptance_rate = df.host_acceptance_rate.map(lambda x: percentage(x))\n",
    "df.host_response_rate = df.host_response_rate.map(lambda x: percentage(x))\n"
   ]
  },
  {
   "cell_type": "code",
   "execution_count": 7,
   "metadata": {
    "ExecuteTime": {
     "end_time": "2020-04-04T20:12:35.795036Z",
     "start_time": "2020-04-04T20:12:35.706374Z"
    },
    "hidden": true
   },
   "outputs": [],
   "source": [
    "#converting strings to date time\n",
    "df.first_review = pd.to_datetime(df.first_review)\n",
    "df.host_since = pd.to_datetime(df.host_since)\n",
    "df.last_review = pd.to_datetime(df.last_review)\n",
    "\n",
    "df['listing_age'] = pd.datetime.today() - df.first_review\n",
    "df['listing_age'] = round(df['listing_age'] / np.timedelta64(1, 'D'), 0)\n",
    "\n",
    "df['host_age'] = pd.datetime.today() - df.host_since\n",
    "df['host_age'] = round(df['host_age'] / np.timedelta64(1, 'D'), 0)"
   ]
  },
  {
   "cell_type": "markdown",
   "metadata": {
    "heading_collapsed": true,
    "hidden": true
   },
   "source": [
    "#### Creating numerical variables"
   ]
  },
  {
   "cell_type": "code",
   "execution_count": 8,
   "metadata": {
    "ExecuteTime": {
     "end_time": "2020-04-04T20:12:35.830363Z",
     "start_time": "2020-04-04T20:12:35.798845Z"
    },
    "hidden": true
   },
   "outputs": [],
   "source": [
    "def responsetime(x):\n",
    "    if x == 'a few days or more':\n",
    "        return int(1)\n",
    "    elif x == 'within a day':\n",
    "        return int(2)\n",
    "    elif x == 'within a few hours':\n",
    "        return int(3)\n",
    "    elif x == 'within an hour':\n",
    "        return int(4)\n",
    "    else:\n",
    "        return x\n",
    "    \n",
    "df.host_response_time = df.host_response_time.map(lambda x : responsetime(x))"
   ]
  },
  {
   "cell_type": "code",
   "execution_count": 9,
   "metadata": {
    "ExecuteTime": {
     "end_time": "2020-04-04T20:12:35.903745Z",
     "start_time": "2020-04-04T20:12:35.835102Z"
    },
    "hidden": true
   },
   "outputs": [],
   "source": [
    "def truefalse(x):\n",
    "    if x == 't':\n",
    "        return 1\n",
    "    if x == 'f':\n",
    "        return 0\n",
    "    else:\n",
    "        return x\n",
    "\n",
    "df.host_is_superhost = df.host_is_superhost.map(lambda x : truefalse(x))\n",
    "df.instant_bookable = df.instant_bookable.map(lambda x : truefalse(x))\n",
    "df.host_identity_verified = df.host_identity_verified.map(lambda x : truefalse(x))\n",
    "df.require_guest_profile_picture = df.require_guest_profile_picture.map(lambda x : truefalse(x))"
   ]
  },
  {
   "cell_type": "code",
   "execution_count": 10,
   "metadata": {
    "ExecuteTime": {
     "end_time": "2020-04-04T20:12:35.945226Z",
     "start_time": "2020-04-04T20:12:35.906441Z"
    },
    "hidden": true
   },
   "outputs": [],
   "source": [
    "def cancels(x):\n",
    "    if x == 'super_strict_60':\n",
    "        return int(1)\n",
    "    elif x == 'super_strict_30':\n",
    "        return int(2)\n",
    "    elif x == 'strict':\n",
    "        #Full refund for cancellations made within 48 hours of booking, \n",
    "        #if the check-in date is at least 14 days away. \n",
    "        #50% refund for cancellations made at least 7 days before check-in. \n",
    "        #No refunds for cancellations made within 7 days of check-in\n",
    "        return int(3)\n",
    "    elif x == 'strict_14_with_grace_period':\n",
    "        return int(4)\n",
    "    elif x == 'luxury_moderate':\n",
    "        return int(5)\n",
    "    elif x == 'moderate':\n",
    "        return int(5)\n",
    "    elif x == 'flexible':\n",
    "        #full refund 1 day before arrival\n",
    "        return int(6)\n",
    "    else:\n",
    "        return x\n",
    "#nag it what's the diff between luxury moderate\n",
    "    \n",
    "df.cancellation_policy = df.cancellation_policy.map(lambda x: cancels(x))\n",
    "\n",
    "def bedtype(x):\n",
    "    if x == 'Real Bed':\n",
    "        return 1\n",
    "    else:\n",
    "        return 0\n",
    "df.bed_type = df.bed_type.map(lambda x: bedtype(x))\n"
   ]
  },
  {
   "cell_type": "code",
   "execution_count": 11,
   "metadata": {
    "ExecuteTime": {
     "end_time": "2020-04-04T20:12:35.982798Z",
     "start_time": "2020-04-04T20:12:35.947354Z"
    },
    "hidden": true
   },
   "outputs": [],
   "source": [
    "def room(x):\n",
    "    if x == 'Entire home/apt':\n",
    "        return 4\n",
    "    elif x == 'Private room':\n",
    "        return 3\n",
    "    elif x  == 'Hotel room':\n",
    "        return 2\n",
    "    elif x == 'Shared room':\n",
    "        return 1\n",
    "    else:\n",
    "        return x\n",
    "df.room_type = df.room_type.map(lambda x: room(x))\n",
    "\n",
    "df = df.merge(pd.get_dummies(df.room_type, prefix = 'room'), left_index = True, right_index = True)"
   ]
  },
  {
   "cell_type": "markdown",
   "metadata": {
    "heading_collapsed": true,
    "hidden": true
   },
   "source": [
    "#### adding dummy variables"
   ]
  },
  {
   "cell_type": "code",
   "execution_count": 12,
   "metadata": {
    "ExecuteTime": {
     "end_time": "2020-04-04T20:12:36.082077Z",
     "start_time": "2020-04-04T20:12:35.985021Z"
    },
    "hidden": true
   },
   "outputs": [
    {
     "name": "stderr",
     "output_type": "stream",
     "text": [
      "/home/xtzie/anaconda3/envs/metis/lib/python3.7/site-packages/pandas/core/computation/expressions.py:194: UserWarning: evaluating in Python space because the '+' operator is not supported by numexpr for the bool dtype, use '|' instead\n",
      "  op=op_str, alt_op=unsupported[op_str]\n"
     ]
    }
   ],
   "source": [
    "#do context specific amenities engineering to create dummy variables\n",
    "# we take a select handful of features\n",
    "#breakfast, host greets you, netflix, family/kid friendly, coffee maker, tv, cable tv\n",
    "#free parking on premises, free street parking\n",
    "\n",
    "#changeable amenities\n",
    "df['breakfast'] = df.amenities.map(lambda listing_amenities: 'Breakfast' in listing_amenities)\n",
    "df['breakfast'] = df['breakfast'].astype(int)\n",
    "df['family_friendly'] = df.amenities.map(lambda listing_amenities: 'Family/kid friendly' in listing_amenities)\n",
    "df['family_friendly'] = df['family_friendly'].astype(int)\n",
    "df['coffee_maker'] = df.amenities.map(lambda listing_amenities: 'Coffee maker' in listing_amenities)\n",
    "df['coffee_maker'] = df['coffee_maker'].astype(int)\n",
    "df['netflix'] = df.amenities.map(lambda listing_amenities: 'Netflix' in listing_amenities)\n",
    "df['netflix'] = df['netflix'].astype(int)\n",
    "df['greeting'] = df.amenities.map(lambda listing_amenities: 'Host greets you' in listing_amenities)\n",
    "df['greeting'] = df['greeting'].astype(int)\n",
    "\n",
    "#'unchangable' amenities\n",
    "df['parkingone'] = df.amenities.map(lambda listing_amenities: 'Free parking on premises' in listing_amenities)\n",
    "df['parkingtwo'] = df.amenities.map(lambda listing_amenities: 'Free street parking' in listing_amenities)\n",
    "df['freeparking'] = df.parkingone + df.parkingtwo\n",
    "df['freeparking'] = df['freeparking'].astype(int)\n",
    "df.drop(labels = ['parkingone', 'parkingtwo'], axis = 1, inplace = True)\n",
    "df['outdoorpart'] = df.amenities.map(lambda listing_amenities: 'Patio or balcony' in listing_amenities)\n",
    "df['outdoorpart'] = df['outdoorpart'].astype(int)\n"
   ]
  },
  {
   "cell_type": "code",
   "execution_count": 13,
   "metadata": {
    "ExecuteTime": {
     "end_time": "2020-04-04T20:12:36.183757Z",
     "start_time": "2020-04-04T20:12:36.085795Z"
    },
    "hidden": true
   },
   "outputs": [],
   "source": [
    "df.property_type.replace('Treehouse','Bungalow',inplace=True)\n",
    "df.property_type.replace('Cabin','Bungalow',inplace=True)\n",
    "df.property_type.replace('Dome house','Bungalow',inplace=True)\n",
    "df.property_type.replace('Earth house','Bungalow',inplace=True)\n",
    "df.property_type.replace('Hut','Bungalow',inplace=True)\n",
    "df.property_type.replace('Yurt','Bungalow',inplace=True)\n",
    "df.property_type.replace('Tiny house','Bungalow',inplace=True)\n",
    "\n",
    "\n",
    "# Boutique hotel, resort most like a hotel\n",
    "df.property_type.replace('Boutique hotel','Hotel',inplace=True)\n",
    "df.property_type.replace('Resort','Hotel',inplace=True)\n",
    "df.property_type.replace('Aparthotel','Hotel',inplace=True)\n",
    "\n",
    "# Farm stay to Bed and breakfast\n",
    "df.property_type.replace('Farm stay','Bed and breakfast',inplace=True)\n",
    "\n",
    "# Castle, Yurt, Tent, Hostel and Chalet to other\n",
    "df.property_type.replace('Minsu (Taiwan)','Other',inplace=True)\n",
    "df.property_type.replace('Vacation home','Other',inplace=True)\n",
    "df.property_type.replace('Cave','Other',inplace=True)\n",
    "df.property_type.replace('Igloo','Other',inplace=True)\n",
    "df.property_type.replace('Pension (South Korea)','Other',inplace=True)\n",
    "df.property_type.replace('Train','Other',inplace=True)\n",
    "df.property_type.replace('Houseboat','Other',inplace=True)\n",
    "df.property_type.replace('Bus','Other',inplace=True)\n",
    "df.property_type.replace('Island','Other',inplace=True)\n",
    "df.property_type.replace('Casa particular (Cuba)','Other',inplace=True)\n",
    "df.property_type.replace('Dome','Other',inplace=True)\n",
    "df.property_type.replace('Tipi','Other',inplace=True)\n",
    "df.property_type.replace('Barn','Other',inplace=True)\n",
    "df.property_type.replace('Campsite','Other',inplace=True)\n",
    "df.property_type.replace('Castle','Other',inplace=True)\n",
    "df.property_type.replace('Chalet','Other',inplace=True)\n",
    "df.property_type.replace('Tent','Other',inplace=True)\n",
    "df.property_type.replace('Farm stay','Other',inplace=True)\n",
    "df.property_type.replace('Boat','Other',inplace=True)\n",
    "df.property_type.replace('Dorm','Other',inplace=True)\n",
    "\n",
    "def clump_small_bits(value_to_group, dataframe_x, threshold, countvalue):\n",
    "    group = dataframe_x.groupby(value_to_group)\n",
    "    keys = group.groups.keys()\n",
    "    percentvalues = group.count()[countvalue]/len(dataframe_x) #since it's count you can slice by any column - id, listing_url, host name, whatever\n",
    "    goodlist = list(zip(keys, percentvalues))\n",
    "    clump_list = []\n",
    "    for row in goodlist:\n",
    "        if row[1] < threshold:\n",
    "            clump_list.append(row[0])\n",
    "    return clump_list\n",
    "\n",
    "props_to_drop_or_clump = clump_small_bits('property_type', df, 0.014, 'id')\n",
    "\n",
    "def shittypandas(x):\n",
    "    if x in props_to_drop_or_clump:\n",
    "        return 'Other'\n",
    "    else:\n",
    "        return x\n",
    "\n",
    "df['property_type'] = df.property_type.map(lambda x: shittypandas(x))\n",
    "\n",
    "df = df.merge(pd.get_dummies(df.property_type, prefix = 'prop'), right_index = True, left_index = True)\n"
   ]
  },
  {
   "cell_type": "code",
   "execution_count": 14,
   "metadata": {
    "ExecuteTime": {
     "end_time": "2020-04-04T20:12:36.246486Z",
     "start_time": "2020-04-04T20:12:36.185473Z"
    },
    "hidden": true
   },
   "outputs": [],
   "source": [
    "neighz_to_drop_or_clump = clump_small_bits('neighbourhood_cleansed', df, 0.014, 'id')\n",
    "\n",
    "def shittypandas(x):\n",
    "    if x in neighz_to_drop_or_clump:\n",
    "        return 'Other'\n",
    "    else:\n",
    "        return x\n",
    "\n",
    "df['neighbourhood_cleansed'] = df.neighbourhood_cleansed.map(lambda x: shittypandas(x))\n"
   ]
  },
  {
   "cell_type": "code",
   "execution_count": 15,
   "metadata": {
    "ExecuteTime": {
     "end_time": "2020-04-04T20:12:36.271136Z",
     "start_time": "2020-04-04T20:12:36.248378Z"
    },
    "hidden": true
   },
   "outputs": [],
   "source": [
    "df = df.merge(pd.get_dummies(df.neighbourhood_cleansed, prefix = 'neighbourhood'), left_index = True, right_index = True)"
   ]
  },
  {
   "cell_type": "code",
   "execution_count": 16,
   "metadata": {
    "ExecuteTime": {
     "end_time": "2020-04-04T20:12:36.303943Z",
     "start_time": "2020-04-04T20:12:36.273265Z"
    },
    "hidden": true
   },
   "outputs": [],
   "source": [
    "def ratings(x):\n",
    "    if x >= 4.91 * 20:\n",
    "        #perfection\n",
    "        return '>4.9'\n",
    "    elif x >= 4.8  * 20:\n",
    "        #exceptional\n",
    "        return '>4.8'\n",
    "    elif x >= 4.6 * 20:\n",
    "        #good\n",
    "        return '>4.6'\n",
    "    elif x >= 4.2 * 20:\n",
    "        #within expectations\n",
    "        return '>4.2'\n",
    "    elif x >= 4.0 * 20:\n",
    "        #fair\n",
    "        return '>4.0'\n",
    "    elif x < 4 * 20:\n",
    "        #below expectations\n",
    "        return '<4.0' \n",
    "\n",
    "df['adjusted_scores'] = df.review_scores_rating.map(lambda x: ratings(x))\n",
    "\n",
    "df['adjusted_scores'].fillna(value = 'no review', inplace = True)\n",
    "\n",
    "df = df.merge(pd.get_dummies(df.adjusted_scores, prefix = 'review_of'), left_index = True, right_index = True)\n"
   ]
  },
  {
   "cell_type": "markdown",
   "metadata": {
    "heading_collapsed": true
   },
   "source": [
    "### Negate Outliers and Nulls"
   ]
  },
  {
   "cell_type": "markdown",
   "metadata": {
    "hidden": true
   },
   "source": [
    "Generally we should deal with outliers first as they could skew how we deal with null values. For example, if we want to impute the mean or median \"cleaning fee\" charged, that could be skewed when we have values of 100000000 USD for the variable."
   ]
  },
  {
   "cell_type": "markdown",
   "metadata": {
    "ExecuteTime": {
     "end_time": "2020-03-22T02:11:47.210942Z",
     "start_time": "2020-03-22T02:11:47.206623Z"
    },
    "hidden": true
   },
   "source": [
    "#### Deal with outliers"
   ]
  },
  {
   "cell_type": "code",
   "execution_count": 17,
   "metadata": {
    "ExecuteTime": {
     "end_time": "2020-04-04T20:12:36.313312Z",
     "start_time": "2020-04-04T20:12:36.306422Z"
    },
    "hidden": true
   },
   "outputs": [],
   "source": [
    "def outliers(df, column, num_dev=4):\n",
    "    \n",
    "    q25, q50, q75 = df[column].quantile(q=[0.25, 0.5, 0.75])\n",
    "    iqr = q75 - q25\n",
    "    outlier_threshold = q75 + num_dev * iqr\n",
    "    outlier_list = [True if x > outlier_threshold else False for x in df[column]]\n",
    "    \n",
    "    total_outliers = sum(outlier_list)\n",
    "    total_values = len(df[column])\n",
    "    outlier_percentage = round(total_outliers / total_values, 3) * 100\n",
    "    \n",
    "    print('{} outliers found out of {} {} data points ({}%). {} is the max'.format(\n",
    "        total_outliers,\n",
    "        total_values,\n",
    "        column,\n",
    "        outlier_percentage,\n",
    "        outlier_threshold)\n",
    "         )\n",
    "    return outlier_list"
   ]
  },
  {
   "cell_type": "code",
   "execution_count": 18,
   "metadata": {
    "ExecuteTime": {
     "end_time": "2020-04-04T20:12:36.362429Z",
     "start_time": "2020-04-04T20:12:36.315281Z"
    },
    "hidden": true
   },
   "outputs": [
    {
     "name": "stdout",
     "output_type": "stream",
     "text": [
      "254 outliers found out of 8587 bathrooms data points (3.0%). 3.5 is the max\n"
     ]
    },
    {
     "data": {
      "text/plain": [
       "(8333, 114)"
      ]
     },
     "execution_count": 18,
     "metadata": {},
     "output_type": "execute_result"
    }
   ],
   "source": [
    "df['outliers'] = outliers(df, 'bathrooms')\n",
    "df = df[df['outliers'] == False]\n",
    "df.shape"
   ]
  },
  {
   "cell_type": "code",
   "execution_count": 19,
   "metadata": {
    "ExecuteTime": {
     "end_time": "2020-04-04T20:12:36.391878Z",
     "start_time": "2020-04-04T20:12:36.364745Z"
    },
    "hidden": true
   },
   "outputs": [
    {
     "name": "stdout",
     "output_type": "stream",
     "text": [
      "12 outliers found out of 8333 cleaning_fee data points (0.1%). 550.0 is the max\n"
     ]
    },
    {
     "data": {
      "text/plain": [
       "(8321, 114)"
      ]
     },
     "execution_count": 19,
     "metadata": {},
     "output_type": "execute_result"
    }
   ],
   "source": [
    "df['outliers'] = outliers(df, 'cleaning_fee')\n",
    "df = df[df['outliers'] == False]\n",
    "df.shape"
   ]
  },
  {
   "cell_type": "code",
   "execution_count": 20,
   "metadata": {
    "ExecuteTime": {
     "end_time": "2020-04-04T20:12:36.424018Z",
     "start_time": "2020-04-04T20:12:36.395772Z"
    },
    "hidden": true
   },
   "outputs": [
    {
     "name": "stdout",
     "output_type": "stream",
     "text": [
      "166 outliers found out of 8321 security_deposit data points (2.0%). 2500.0 is the max\n"
     ]
    },
    {
     "data": {
      "text/plain": [
       "(8155, 114)"
      ]
     },
     "execution_count": 20,
     "metadata": {},
     "output_type": "execute_result"
    }
   ],
   "source": [
    "df['outliers'] = outliers(df, 'security_deposit')\n",
    "df = df[df['outliers'] == False]\n",
    "df.shape"
   ]
  },
  {
   "cell_type": "code",
   "execution_count": 21,
   "metadata": {
    "ExecuteTime": {
     "end_time": "2020-04-04T20:12:36.468772Z",
     "start_time": "2020-04-04T20:12:36.427255Z"
    },
    "hidden": true
   },
   "outputs": [
    {
     "name": "stdout",
     "output_type": "stream",
     "text": [
      "49 outliers found out of 8155 beds data points (0.6%). 6.0 is the max\n"
     ]
    }
   ],
   "source": [
    "df['outliers'] = outliers(df, 'beds')\n",
    "df = df[df['outliers'] == False]\n",
    "df.shape\n",
    "\n",
    "df.drop(labels = 'outliers', inplace = True, axis = 1)"
   ]
  },
  {
   "cell_type": "markdown",
   "metadata": {
    "hidden": true
   },
   "source": [
    "#### dealing with null values"
   ]
  },
  {
   "cell_type": "code",
   "execution_count": 22,
   "metadata": {
    "ExecuteTime": {
     "end_time": "2020-04-04T20:12:36.487800Z",
     "start_time": "2020-04-04T20:12:36.472276Z"
    },
    "hidden": true
   },
   "outputs": [
    {
     "name": "stdout",
     "output_type": "stream",
     "text": [
      "% missing values for host response rate col 0.14\n"
     ]
    }
   ],
   "source": [
    "print('% missing values for host response rate col', round(len(df[df.host_response_rate.isnull() == True])/len(df),2))\n",
    "x = df.host_response_rate.mean()\n",
    "df.host_response_rate.fillna(value = x, inplace = True)"
   ]
  },
  {
   "cell_type": "code",
   "execution_count": 23,
   "metadata": {
    "ExecuteTime": {
     "end_time": "2020-04-04T20:12:36.507603Z",
     "start_time": "2020-04-04T20:12:36.492344Z"
    },
    "hidden": true
   },
   "outputs": [
    {
     "name": "stdout",
     "output_type": "stream",
     "text": [
      "% missing values for cleaning fee col 0.11\n"
     ]
    }
   ],
   "source": [
    "print('% missing values for cleaning fee col', round(len(df[df.cleaning_fee.isnull() == True])/len(df),2))\n",
    "x = df.cleaning_fee.median()\n",
    "x\n",
    "df.cleaning_fee.fillna(value = x, inplace = True)\n"
   ]
  },
  {
   "cell_type": "code",
   "execution_count": 24,
   "metadata": {
    "ExecuteTime": {
     "end_time": "2020-04-04T20:12:36.530089Z",
     "start_time": "2020-04-04T20:12:36.514022Z"
    },
    "hidden": true
   },
   "outputs": [
    {
     "name": "stdout",
     "output_type": "stream",
     "text": [
      "% missing values for security deposit col 0.21\n"
     ]
    }
   ],
   "source": [
    "print('% missing values for security deposit col', round(len(df[df.security_deposit.isnull() == True])/len(df),2))\n",
    "x = df.security_deposit.mode()\n",
    "df.security_deposit.fillna(value = x, inplace = True)"
   ]
  },
  {
   "cell_type": "code",
   "execution_count": 25,
   "metadata": {
    "ExecuteTime": {
     "end_time": "2020-04-04T20:12:36.768659Z",
     "start_time": "2020-04-04T20:12:36.533099Z"
    },
    "hidden": true
   },
   "outputs": [
    {
     "name": "stderr",
     "output_type": "stream",
     "text": [
      "/home/xtzie/anaconda3/envs/metis/lib/python3.7/site-packages/numpy/lib/histograms.py:839: RuntimeWarning: invalid value encountered in greater_equal\n",
      "  keep = (tmp_a >= first_edge)\n",
      "/home/xtzie/anaconda3/envs/metis/lib/python3.7/site-packages/numpy/lib/histograms.py:840: RuntimeWarning: invalid value encountered in less_equal\n",
      "  keep &= (tmp_a <= last_edge)\n"
     ]
    },
    {
     "data": {
      "text/plain": [
       "(array([9.740e+02, 7.120e+02, 4.769e+03, 4.610e+02, 3.000e+01, 9.510e+02,\n",
       "        2.000e+01, 1.220e+02, 4.000e+00, 5.400e+01]),\n",
       " array([0. , 0.4, 0.8, 1.2, 1.6, 2. , 2.4, 2.8, 3.2, 3.6, 4. ]),\n",
       " <a list of 10 Patch objects>)"
      ]
     },
     "execution_count": 25,
     "metadata": {},
     "output_type": "execute_result"
    },
    {
     "data": {
      "image/png": "[encoded data removed]",
      "text/plain": [
       "<Figure size 576x396 with 1 Axes>"
      ]
     },
     "metadata": {},
     "output_type": "display_data"
    }
   ],
   "source": [
    "def bedbath(x):\n",
    "    if x > 4:\n",
    "        return 4\n",
    "    else:\n",
    "        return x\n",
    "\n",
    "df['bedbathratio'] = df.bedrooms / df.bathrooms \n",
    "df['bedbathratio'] = df['bedbathratio'].map(lambda x: bedbath(x))\n",
    "\n",
    "df['intercept'] = 1\n",
    "\n",
    "plt.hist(df.bedbathratio)"
   ]
  },
  {
   "cell_type": "code",
   "execution_count": null,
   "metadata": {
    "hidden": true
   },
   "outputs": [],
   "source": []
  },
  {
   "cell_type": "markdown",
   "metadata": {
    "heading_collapsed": true
   },
   "source": [
    "### Normalize Data"
   ]
  },
  {
   "cell_type": "code",
   "execution_count": 26,
   "metadata": {
    "ExecuteTime": {
     "end_time": "2020-04-04T20:12:37.071480Z",
     "start_time": "2020-04-04T20:12:36.771531Z"
    },
    "hidden": true
   },
   "outputs": [
    {
     "data": {
      "text/plain": [
       "(array([ 460.,  204., 1017., 1601., 2684., 1026.,  647.,  260.,  144.,\n",
       "          63.]),\n",
       " array([-2.28782743, -1.73975927, -1.1916911 , -0.64362294, -0.09555477,\n",
       "         0.4525134 ,  1.00058156,  1.54864973,  2.09671789,  2.64478606,\n",
       "         3.19285422]),\n",
       " <a list of 10 Patch objects>)"
      ]
     },
     "execution_count": 26,
     "metadata": {},
     "output_type": "execute_result"
    },
    {
     "data": {
      "image/png": "[encoded data removed]",
      "text/plain": [
       "<Figure size 576x396 with 1 Axes>"
      ]
     },
     "metadata": {},
     "output_type": "display_data"
    }
   ],
   "source": [
    "from sklearn.preprocessing import PowerTransformer\n",
    "\n",
    "pty = PowerTransformer(method = 'yeo-johnson')\n",
    "\n",
    "plt.hist(pty.fit_transform(df['cleaning_fee'].values.reshape(-1,1)))"
   ]
  },
  {
   "cell_type": "code",
   "execution_count": null,
   "metadata": {
    "hidden": true
   },
   "outputs": [],
   "source": []
  },
  {
   "cell_type": "markdown",
   "metadata": {
    "heading_collapsed": true
   },
   "source": [
    "### Pickle Data"
   ]
  },
  {
   "cell_type": "code",
   "execution_count": 27,
   "metadata": {
    "ExecuteTime": {
     "end_time": "2020-04-04T20:12:37.081856Z",
     "start_time": "2020-04-04T20:12:37.074781Z"
    },
    "hidden": true
   },
   "outputs": [
    {
     "data": {
      "text/plain": [
       "(8106, 115)"
      ]
     },
     "execution_count": 27,
     "metadata": {},
     "output_type": "execute_result"
    }
   ],
   "source": [
    "df.shape"
   ]
  },
  {
   "cell_type": "code",
   "execution_count": 28,
   "metadata": {
    "ExecuteTime": {
     "end_time": "2020-04-04T20:12:37.279849Z",
     "start_time": "2020-04-04T20:12:37.085908Z"
    },
    "hidden": true
   },
   "outputs": [],
   "source": [
    "import pickle\n",
    "\n",
    "with open('dataframe', 'wb') as file:\n",
    "    df = pickle.dump(df, file)"
   ]
  },
  {
   "cell_type": "code",
   "execution_count": null,
   "metadata": {
    "hidden": true
   },
   "outputs": [],
   "source": []
  }
 ],
 "metadata": {
  "kernelspec": {
   "display_name": "Python [conda env:metis] *",
   "language": "python",
   "name": "conda-env-metis-py"
  },
  "language_info": {
   "codemirror_mode": {
    "name": "ipython",
    "version": 3
   },
   "file_extension": ".py",
   "mimetype": "text/x-python",
   "name": "python",
   "nbconvert_exporter": "python",
   "pygments_lexer": "ipython3",
   "version": "3.7.4"
  },
  "toc": {
   "base_numbering": 1,
   "nav_menu": {},
   "number_sections": false,
   "sideBar": true,
   "skip_h1_title": false,
   "title_cell": "Table of Contents",
   "title_sidebar": "Contents",
   "toc_cell": false,
   "toc_position": {},
   "toc_section_display": true,
   "toc_window_display": false
  }
 },
 "nbformat": 4,
 "nbformat_minor": 4
}
