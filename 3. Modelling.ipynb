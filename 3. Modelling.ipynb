{
 "cells": [
  {
   "cell_type": "markdown",
   "metadata": {},
   "source": [
    "#### loading data"
   ]
  },
  {
   "cell_type": "code",
   "execution_count": 1,
   "metadata": {
    "ExecuteTime": {
     "end_time": "2020-04-04T20:46:30.664160Z",
     "start_time": "2020-04-04T20:46:29.017146Z"
    }
   },
   "outputs": [],
   "source": [
    "import pandas as pd\n",
    "import numpy as np\n",
    "import statsmodels.api as sm\n",
    "import statsmodels.formula.api as smf\n",
    "import patsy\n",
    "import scipy.stats as stats\n",
    "import pickle\n",
    "import matplotlib.pyplot as plt\n",
    "\n",
    "from sklearn.preprocessing import StandardScaler, RobustScaler, MinMaxScaler\n",
    "from sklearn.linear_model import LinearRegression, Lasso, LassoCV, Ridge, RidgeCV, ElasticNet, ElasticNetCV\n",
    "from sklearn.model_selection import train_test_split, KFold, GridSearchCV"
   ]
  },
  {
   "cell_type": "code",
   "execution_count": null,
   "metadata": {},
   "outputs": [],
   "source": []
  },
  {
   "cell_type": "code",
   "execution_count": 3,
   "metadata": {
    "ExecuteTime": {
     "end_time": "2020-04-04T20:47:00.778479Z",
     "start_time": "2020-04-04T20:47:00.668480Z"
    }
   },
   "outputs": [
    {
     "ename": "EOFError",
     "evalue": "Ran out of input",
     "output_type": "error",
     "traceback": [
      "\u001b[0;31m---------------------------------------------------------------------------\u001b[0m",
      "\u001b[0;31mEOFError\u001b[0m                                  Traceback (most recent call last)",
      "\u001b[0;32m<ipython-input-3-83570c847ab9>\u001b[0m in \u001b[0;36m<module>\u001b[0;34m\u001b[0m\n\u001b[1;32m      3\u001b[0m \u001b[0;34m\u001b[0m\u001b[0m\n\u001b[1;32m      4\u001b[0m \u001b[0;32mwith\u001b[0m \u001b[0mopen\u001b[0m\u001b[0;34m(\u001b[0m\u001b[0;34m'sentiscores'\u001b[0m\u001b[0;34m,\u001b[0m \u001b[0;34m'rb'\u001b[0m\u001b[0;34m)\u001b[0m \u001b[0;32mas\u001b[0m \u001b[0mfile\u001b[0m\u001b[0;34m:\u001b[0m\u001b[0;34m\u001b[0m\u001b[0;34m\u001b[0m\u001b[0m\n\u001b[0;32m----> 5\u001b[0;31m     \u001b[0msentiscores\u001b[0m \u001b[0;34m=\u001b[0m \u001b[0mpickle\u001b[0m\u001b[0;34m.\u001b[0m\u001b[0mload\u001b[0m\u001b[0;34m(\u001b[0m\u001b[0mfile\u001b[0m\u001b[0;34m)\u001b[0m\u001b[0;34m\u001b[0m\u001b[0;34m\u001b[0m\u001b[0m\n\u001b[0m",
      "\u001b[0;31mEOFError\u001b[0m: Ran out of input"
     ]
    }
   ],
   "source": [
    "with open('dataframe', 'rb') as file:\n",
    "    df = pickle.load(file)\n",
    "    \n",
    "with open('sentiscores', 'rb') as file:\n",
    "    sentiscores = pickle.load(file)"
   ]
  },
  {
   "cell_type": "code",
   "execution_count": null,
   "metadata": {
    "ExecuteTime": {
     "end_time": "2020-03-23T16:59:15.812280Z",
     "start_time": "2020-03-23T16:59:15.712243Z"
    }
   },
   "outputs": [],
   "source": []
  },
  {
   "cell_type": "code",
   "execution_count": 4,
   "metadata": {
    "ExecuteTime": {
     "end_time": "2020-03-25T17:12:10.225505Z",
     "start_time": "2020-03-25T17:12:10.201536Z"
    }
   },
   "outputs": [
    {
     "ename": "NameError",
     "evalue": "name 'sentiscores' is not defined",
     "output_type": "error",
     "traceback": [
      "\u001b[0;31m---------------------------------------------------------------------------\u001b[0m",
      "\u001b[0;31mNameError\u001b[0m                                 Traceback (most recent call last)",
      "\u001b[0;32m<ipython-input-4-88037d986f93>\u001b[0m in \u001b[0;36m<module>\u001b[0;34m\u001b[0m\n\u001b[0;32m----> 1\u001b[0;31m \u001b[0mdf\u001b[0m \u001b[0;34m=\u001b[0m \u001b[0mdf\u001b[0m\u001b[0;34m.\u001b[0m\u001b[0mmerge\u001b[0m\u001b[0;34m(\u001b[0m\u001b[0msentiscores\u001b[0m\u001b[0;34m,\u001b[0m \u001b[0mleft_index\u001b[0m \u001b[0;34m=\u001b[0m \u001b[0;32mTrue\u001b[0m\u001b[0;34m,\u001b[0m \u001b[0mright_index\u001b[0m \u001b[0;34m=\u001b[0m \u001b[0;32mTrue\u001b[0m\u001b[0;34m)\u001b[0m\u001b[0;34m\u001b[0m\u001b[0;34m\u001b[0m\u001b[0m\n\u001b[0m",
      "\u001b[0;31mNameError\u001b[0m: name 'sentiscores' is not defined"
     ]
    }
   ],
   "source": [
    "df = df.merge(sentiscores, left_index = True, right_index = True)"
   ]
  },
  {
   "cell_type": "markdown",
   "metadata": {},
   "source": [
    "#### Data removal"
   ]
  },
  {
   "cell_type": "code",
   "execution_count": 5,
   "metadata": {
    "ExecuteTime": {
     "end_time": "2020-03-25T17:12:10.860295Z",
     "start_time": "2020-03-25T17:12:10.805984Z"
    }
   },
   "outputs": [],
   "source": [
    "df.dropna(subset=['bedrooms','beds'],inplace=True)"
   ]
  },
  {
   "cell_type": "code",
   "execution_count": 6,
   "metadata": {
    "ExecuteTime": {
     "end_time": "2020-03-25T17:12:11.176499Z",
     "start_time": "2020-03-25T17:12:11.070227Z"
    }
   },
   "outputs": [
    {
     "name": "stdout",
     "output_type": "stream",
     "text": [
      "252 outliers found out of 8559 data points, 2.9442691903259726% of the data. 3.5 is the max\n",
      "13 outliers found out of 8307 data points, 0.1564945226917058% of the data. 540.0 is the max\n",
      "164 outliers found out of 8294 data points, 1.9773330118157704% of the data. 2500.0 is the max\n",
      "30 outliers found out of 8130 data points, 0.36900369003690037% of the data. 7.0 is the max\n"
     ]
    }
   ],
   "source": [
    "def outliers(df, column, num_dev=4):\n",
    "    \n",
    "    q25, q50, q75 = df[column].quantile(q=[0.25, 0.5, 0.75])\n",
    "    iqr = q75 - q25\n",
    "    \n",
    "    max_ = q75 + num_dev * iqr\n",
    "    # identify the points\n",
    "    outlier_mask = [True if x > max_ else False for x in df[column]]\n",
    "    print('{} outliers found out of {} data points, {}% of the data. {} is the max'.format(\n",
    "        sum(outlier_mask), len(df[column]),\n",
    "        100 * (sum(outlier_mask) / len(df[column])),max_))\n",
    "    return outlier_mask\n",
    "df['outliers'] = outliers(df, 'bathrooms')\n",
    "df = df[df['outliers'] == False]\n",
    "df.shape\n",
    "df['outliers'] = outliers(df, 'cleaning_fee')\n",
    "df = df[df['outliers'] == False]\n",
    "df.shape\n",
    "df['outliers'] = outliers(df, 'security_deposit')\n",
    "df = df[df['outliers'] == False]\n",
    "df.shape\n",
    "df['outliers'] = outliers(df, 'beds', num_dev = 5)\n",
    "df = df[df['outliers'] == False]\n",
    "df.shape\n",
    "\n",
    "df.drop(labels = 'outliers', inplace = True, axis = 1)"
   ]
  },
  {
   "cell_type": "markdown",
   "metadata": {},
   "source": [
    "#### data framing"
   ]
  },
  {
   "cell_type": "code",
   "execution_count": 7,
   "metadata": {
    "ExecuteTime": {
     "end_time": "2020-03-25T17:12:11.901357Z",
     "start_time": "2020-03-25T17:12:11.873715Z"
    }
   },
   "outputs": [],
   "source": [
    "#Some of these things have no direct (e.g ID) or \n",
    "#limited effect (e.g almost all host require guest verification) on the actual product\n",
    "#so they will be excluded first\n",
    "excludefrommodel = ['id', 'listing_url', 'require_guest_phone_verification', \n",
    "                    'latitude', 'longitude', 'is_business_travel_ready', 'maximum_nights', 'minimum_nights',\n",
    "                    'host_id', 'host_url', 'host_has_profile_pic', 'host_listings_count', 'adjusted_scores']\n",
    "\n",
    "fornlp = ['access', 'description', 'host_about', 'house_rules', 'interaction', 'name', 'neighborhood_overview',\n",
    "         'notes', 'space', 'summary', 'transit']\n",
    "\n",
    "df.drop(labels = (excludefrommodel + fornlp), axis = 1, inplace = True)"
   ]
  },
  {
   "cell_type": "code",
   "execution_count": 8,
   "metadata": {
    "ExecuteTime": {
     "end_time": "2020-03-25T17:12:12.141815Z",
     "start_time": "2020-03-25T17:12:12.129575Z"
    }
   },
   "outputs": [],
   "source": [
    "simpleregtodrop = ['neighbourhood_cleansed', 'host_neighbourhood', 'zipcode', 'property_type', 'amenities', \n",
    "                   'weekly_price', 'host_since', 'first_review', 'last_review', 'review_scores_rating',\n",
    "                    'listing_age', 'host_age', 'room_type']\n",
    "\n",
    "\n",
    "smalld = df.drop(labels = simpleregtodrop, axis =1)"
   ]
  },
  {
   "cell_type": "code",
   "execution_count": 9,
   "metadata": {
    "ExecuteTime": {
     "end_time": "2020-03-25T17:12:12.503760Z",
     "start_time": "2020-03-25T17:12:12.483371Z"
    }
   },
   "outputs": [],
   "source": [
    "#there's a minority of values where price == 0 so we will drop them out\n",
    "#we can impute values for our independent/x variables, but not our y variables\n",
    "smalld = smalld[smalld['price'] != 0]\n",
    "smalld = smalld[(smalld['price'] < 1000) &\n",
    "                (smalld.number_of_reviews >4)\n",
    "               ]\n",
    "\n",
    "smalldf = smalld.fillna(value = 0)"
   ]
  },
  {
   "cell_type": "code",
   "execution_count": 10,
   "metadata": {
    "ExecuteTime": {
     "end_time": "2020-03-25T17:12:12.794925Z",
     "start_time": "2020-03-25T17:12:12.770093Z"
    }
   },
   "outputs": [],
   "source": [
    "X = smalldf.drop(labels = 'price', axis = 1)\n",
    "\n",
    "y = smalldf['price']\n",
    "\n",
    "X_train, X_test, y_train, y_test = train_test_split(X, y, test_size = 0.2, random_state = 42)\n",
    "\n"
   ]
  },
  {
   "cell_type": "code",
   "execution_count": 11,
   "metadata": {
    "ExecuteTime": {
     "end_time": "2020-03-25T17:12:13.081030Z",
     "start_time": "2020-03-25T17:12:13.068585Z"
    }
   },
   "outputs": [
    {
     "data": {
      "text/plain": [
       "(4620, 95)"
      ]
     },
     "execution_count": 11,
     "metadata": {},
     "output_type": "execute_result"
    }
   ],
   "source": [
    "X.shape"
   ]
  },
  {
   "cell_type": "markdown",
   "metadata": {},
   "source": [
    "#### Data Transformation"
   ]
  },
  {
   "cell_type": "code",
   "execution_count": 12,
   "metadata": {
    "ExecuteTime": {
     "end_time": "2020-03-25T17:12:13.807633Z",
     "start_time": "2020-03-25T17:12:13.713654Z"
    }
   },
   "outputs": [
    {
     "name": "stderr",
     "output_type": "stream",
     "text": [
      "/home/xtzie/anaconda3/envs/metis/lib/python3.7/site-packages/ipykernel_launcher.py:12: SettingWithCopyWarning: \n",
      "A value is trying to be set on a copy of a slice from a DataFrame.\n",
      "Try using .loc[row_indexer,col_indexer] = value instead\n",
      "\n",
      "See the caveats in the documentation: http://pandas.pydata.org/pandas-docs/stable/user_guide/indexing.html#returning-a-view-versus-a-copy\n",
      "  if sys.path[0] == '':\n",
      "/home/xtzie/anaconda3/envs/metis/lib/python3.7/site-packages/pandas/core/indexing.py:494: SettingWithCopyWarning: \n",
      "A value is trying to be set on a copy of a slice from a DataFrame.\n",
      "Try using .loc[row_indexer,col_indexer] = value instead\n",
      "\n",
      "See the caveats in the documentation: http://pandas.pydata.org/pandas-docs/stable/user_guide/indexing.html#returning-a-view-versus-a-copy\n",
      "  self.obj[item] = s\n"
     ]
    }
   ],
   "source": [
    "y_train = np.log(y_train)\n",
    "# y_train = np.log(y_train)\n",
    "#INTERESTING. so np.log twice improves your score by a whole 0.016. INTERESTING!!!!\n",
    "\n",
    "continuousdata = ['host_response_time', 'host_response_rate', 'host_acceptance_rate', 'accommodates', 'bathrooms', \n",
    "              'bedrooms', 'beds', 'security_deposit', 'cleaning_fee', 'extra_people', 'number_of_reviews',\n",
    "              'number_of_reviews_ltm', 'reviews_per_month', 'bedbathratio']\n",
    "\n",
    "def scalecolumns(dfx,columns):\n",
    "    std = StandardScaler()\n",
    "    std.fit(dfx[columns])\n",
    "    dfx[columns] = std.transform(dfx[columns])\n",
    "\n",
    "    \n",
    "scalecolumns(X_train, continuousdata)\n"
   ]
  },
  {
   "cell_type": "code",
   "execution_count": null,
   "metadata": {
    "ExecuteTime": {
     "end_time": "2020-03-22T02:13:19.923470Z",
     "start_time": "2020-03-22T02:13:19.881351Z"
    }
   },
   "outputs": [],
   "source": []
  },
  {
   "cell_type": "markdown",
   "metadata": {},
   "source": [
    "#### Modelling"
   ]
  },
  {
   "cell_type": "code",
   "execution_count": 13,
   "metadata": {
    "ExecuteTime": {
     "end_time": "2020-03-25T17:12:15.351169Z",
     "start_time": "2020-03-25T17:12:15.111994Z"
    }
   },
   "outputs": [
    {
     "name": "stdout",
     "output_type": "stream",
     "text": [
      "cross validated r2 0.6403948638965049\n"
     ]
    },
    {
     "data": {
      "text/html": [
       "<table class=\"simpletable\">\n",
       "<caption>OLS Regression Results</caption>\n",
       "<tr>\n",
       "  <th>Dep. Variable:</th>          <td>price</td>      <th>  R-squared:         </th> <td>   0.661</td>\n",
       "</tr>\n",
       "<tr>\n",
       "  <th>Model:</th>                   <td>OLS</td>       <th>  Adj. R-squared:    </th> <td>   0.653</td>\n",
       "</tr>\n",
       "<tr>\n",
       "  <th>Method:</th>             <td>Least Squares</td>  <th>  F-statistic:       </th> <td>   81.02</td>\n",
       "</tr>\n",
       "<tr>\n",
       "  <th>Date:</th>             <td>Wed, 25 Mar 2020</td> <th>  Prob (F-statistic):</th>  <td>  0.00</td> \n",
       "</tr>\n",
       "<tr>\n",
       "  <th>Time:</th>                 <td>10:12:15</td>     <th>  Log-Likelihood:    </th> <td> -1519.6</td>\n",
       "</tr>\n",
       "<tr>\n",
       "  <th>No. Observations:</th>      <td>  3696</td>      <th>  AIC:               </th> <td>   3215.</td>\n",
       "</tr>\n",
       "<tr>\n",
       "  <th>Df Residuals:</th>          <td>  3608</td>      <th>  BIC:               </th> <td>   3762.</td>\n",
       "</tr>\n",
       "<tr>\n",
       "  <th>Df Model:</th>              <td>    87</td>      <th>                     </th>     <td> </td>   \n",
       "</tr>\n",
       "<tr>\n",
       "  <th>Covariance Type:</th>      <td>nonrobust</td>    <th>                     </th>     <td> </td>   \n",
       "</tr>\n",
       "</table>\n",
       "<table class=\"simpletable\">\n",
       "<tr>\n",
       "                   <td></td>                      <th>coef</th>     <th>std err</th>      <th>t</th>      <th>P>|t|</th>  <th>[0.025</th>    <th>0.975]</th>  \n",
       "</tr>\n",
       "<tr>\n",
       "  <th>host_response_time</th>                  <td>   -0.0194</td> <td>    0.008</td> <td>   -2.421</td> <td> 0.016</td> <td>   -0.035</td> <td>   -0.004</td>\n",
       "</tr>\n",
       "<tr>\n",
       "  <th>host_response_rate</th>                  <td>    0.0051</td> <td>    0.006</td> <td>    0.789</td> <td> 0.430</td> <td>   -0.008</td> <td>    0.018</td>\n",
       "</tr>\n",
       "<tr>\n",
       "  <th>host_acceptance_rate</th>                <td>   -0.0102</td> <td>    0.008</td> <td>   -1.307</td> <td> 0.191</td> <td>   -0.025</td> <td>    0.005</td>\n",
       "</tr>\n",
       "<tr>\n",
       "  <th>host_is_superhost</th>                   <td>    0.0250</td> <td>    0.016</td> <td>    1.598</td> <td> 0.110</td> <td>   -0.006</td> <td>    0.056</td>\n",
       "</tr>\n",
       "<tr>\n",
       "  <th>host_identity_verified</th>              <td>    0.0199</td> <td>    0.014</td> <td>    1.468</td> <td> 0.142</td> <td>   -0.007</td> <td>    0.047</td>\n",
       "</tr>\n",
       "<tr>\n",
       "  <th>accommodates</th>                        <td>    0.1551</td> <td>    0.013</td> <td>   11.719</td> <td> 0.000</td> <td>    0.129</td> <td>    0.181</td>\n",
       "</tr>\n",
       "<tr>\n",
       "  <th>bathrooms</th>                           <td>   -0.0331</td> <td>    0.013</td> <td>   -2.483</td> <td> 0.013</td> <td>   -0.059</td> <td>   -0.007</td>\n",
       "</tr>\n",
       "<tr>\n",
       "  <th>bedrooms</th>                            <td>    0.2326</td> <td>    0.022</td> <td>   10.807</td> <td> 0.000</td> <td>    0.190</td> <td>    0.275</td>\n",
       "</tr>\n",
       "<tr>\n",
       "  <th>beds</th>                                <td>   -0.0160</td> <td>    0.012</td> <td>   -1.348</td> <td> 0.178</td> <td>   -0.039</td> <td>    0.007</td>\n",
       "</tr>\n",
       "<tr>\n",
       "  <th>bed_type</th>                            <td>   -0.0329</td> <td>    0.055</td> <td>   -0.602</td> <td> 0.547</td> <td>   -0.140</td> <td>    0.074</td>\n",
       "</tr>\n",
       "<tr>\n",
       "  <th>security_deposit</th>                    <td>   -0.0038</td> <td>    0.007</td> <td>   -0.525</td> <td> 0.599</td> <td>   -0.018</td> <td>    0.010</td>\n",
       "</tr>\n",
       "<tr>\n",
       "  <th>cleaning_fee</th>                        <td>    0.0374</td> <td>    0.009</td> <td>    4.252</td> <td> 0.000</td> <td>    0.020</td> <td>    0.055</td>\n",
       "</tr>\n",
       "<tr>\n",
       "  <th>guests_included</th>                     <td>    0.0205</td> <td>    0.006</td> <td>    3.258</td> <td> 0.001</td> <td>    0.008</td> <td>    0.033</td>\n",
       "</tr>\n",
       "<tr>\n",
       "  <th>extra_people</th>                        <td>    0.0224</td> <td>    0.007</td> <td>    3.369</td> <td> 0.001</td> <td>    0.009</td> <td>    0.035</td>\n",
       "</tr>\n",
       "<tr>\n",
       "  <th>number_of_reviews</th>                   <td>   -0.0396</td> <td>    0.009</td> <td>   -4.298</td> <td> 0.000</td> <td>   -0.058</td> <td>   -0.022</td>\n",
       "</tr>\n",
       "<tr>\n",
       "  <th>number_of_reviews_ltm</th>               <td>    0.0419</td> <td>    0.014</td> <td>    2.905</td> <td> 0.004</td> <td>    0.014</td> <td>    0.070</td>\n",
       "</tr>\n",
       "<tr>\n",
       "  <th>instant_bookable</th>                    <td>   -0.0124</td> <td>    0.014</td> <td>   -0.885</td> <td> 0.376</td> <td>   -0.040</td> <td>    0.015</td>\n",
       "</tr>\n",
       "<tr>\n",
       "  <th>cancellation_policy</th>                 <td>    0.0025</td> <td>    0.009</td> <td>    0.265</td> <td> 0.791</td> <td>   -0.016</td> <td>    0.021</td>\n",
       "</tr>\n",
       "<tr>\n",
       "  <th>require_guest_profile_picture</th>       <td>   -0.0004</td> <td>    0.030</td> <td>   -0.013</td> <td> 0.989</td> <td>   -0.058</td> <td>    0.058</td>\n",
       "</tr>\n",
       "<tr>\n",
       "  <th>calculated_host_listings_count</th>      <td>    0.0006</td> <td>    0.001</td> <td>    1.181</td> <td> 0.238</td> <td>   -0.000</td> <td>    0.002</td>\n",
       "</tr>\n",
       "<tr>\n",
       "  <th>reviews_per_month</th>                   <td>   -0.0159</td> <td>    0.014</td> <td>   -1.155</td> <td> 0.248</td> <td>   -0.043</td> <td>    0.011</td>\n",
       "</tr>\n",
       "<tr>\n",
       "  <th>bedbathratio</th>                        <td>   -0.0761</td> <td>    0.016</td> <td>   -4.778</td> <td> 0.000</td> <td>   -0.107</td> <td>   -0.045</td>\n",
       "</tr>\n",
       "<tr>\n",
       "  <th>intercept</th>                           <td>    3.0835</td> <td>    0.067</td> <td>   46.310</td> <td> 0.000</td> <td>    2.953</td> <td>    3.214</td>\n",
       "</tr>\n",
       "<tr>\n",
       "  <th>room_1</th>                              <td>    0.0499</td> <td>    0.055</td> <td>    0.905</td> <td> 0.365</td> <td>   -0.058</td> <td>    0.158</td>\n",
       "</tr>\n",
       "<tr>\n",
       "  <th>room_2</th>                              <td>    1.0254</td> <td>    0.062</td> <td>   16.426</td> <td> 0.000</td> <td>    0.903</td> <td>    1.148</td>\n",
       "</tr>\n",
       "<tr>\n",
       "  <th>room_3</th>                              <td>    0.8360</td> <td>    0.028</td> <td>   30.211</td> <td> 0.000</td> <td>    0.782</td> <td>    0.890</td>\n",
       "</tr>\n",
       "<tr>\n",
       "  <th>room_4</th>                              <td>    1.1721</td> <td>    0.030</td> <td>   39.399</td> <td> 0.000</td> <td>    1.114</td> <td>    1.230</td>\n",
       "</tr>\n",
       "<tr>\n",
       "  <th>breakfast</th>                           <td>   -0.0059</td> <td>    0.021</td> <td>   -0.273</td> <td> 0.785</td> <td>   -0.048</td> <td>    0.036</td>\n",
       "</tr>\n",
       "<tr>\n",
       "  <th>family_friendly</th>                     <td>    0.0219</td> <td>    0.014</td> <td>    1.576</td> <td> 0.115</td> <td>   -0.005</td> <td>    0.049</td>\n",
       "</tr>\n",
       "<tr>\n",
       "  <th>coffee_maker</th>                        <td>    0.0123</td> <td>    0.015</td> <td>    0.794</td> <td> 0.427</td> <td>   -0.018</td> <td>    0.043</td>\n",
       "</tr>\n",
       "<tr>\n",
       "  <th>netflix</th>                             <td>    0.1574</td> <td>    0.039</td> <td>    4.022</td> <td> 0.000</td> <td>    0.081</td> <td>    0.234</td>\n",
       "</tr>\n",
       "<tr>\n",
       "  <th>greeting</th>                            <td>   -0.0260</td> <td>    0.020</td> <td>   -1.298</td> <td> 0.194</td> <td>   -0.065</td> <td>    0.013</td>\n",
       "</tr>\n",
       "<tr>\n",
       "  <th>freeparking</th>                         <td>   -0.0049</td> <td>    0.016</td> <td>   -0.315</td> <td> 0.753</td> <td>   -0.036</td> <td>    0.026</td>\n",
       "</tr>\n",
       "<tr>\n",
       "  <th>outdoorpart</th>                         <td>    0.0464</td> <td>    0.015</td> <td>    3.105</td> <td> 0.002</td> <td>    0.017</td> <td>    0.076</td>\n",
       "</tr>\n",
       "<tr>\n",
       "  <th>prop_Apartment</th>                      <td>    0.0921</td> <td>    0.032</td> <td>    2.862</td> <td> 0.004</td> <td>    0.029</td> <td>    0.155</td>\n",
       "</tr>\n",
       "<tr>\n",
       "  <th>prop_Bed and breakfast</th>              <td>    0.3938</td> <td>    0.139</td> <td>    2.826</td> <td> 0.005</td> <td>    0.121</td> <td>    0.667</td>\n",
       "</tr>\n",
       "<tr>\n",
       "  <th>prop_Bungalow</th>                       <td>    0.1653</td> <td>    0.095</td> <td>    1.738</td> <td> 0.082</td> <td>   -0.021</td> <td>    0.352</td>\n",
       "</tr>\n",
       "<tr>\n",
       "  <th>prop_Condominium</th>                    <td>    0.1677</td> <td>    0.035</td> <td>    4.749</td> <td> 0.000</td> <td>    0.098</td> <td>    0.237</td>\n",
       "</tr>\n",
       "<tr>\n",
       "  <th>prop_Cottage</th>                        <td>    0.3227</td> <td>    0.120</td> <td>    2.690</td> <td> 0.007</td> <td>    0.087</td> <td>    0.558</td>\n",
       "</tr>\n",
       "<tr>\n",
       "  <th>prop_Cycladic house (Greece)</th>        <td> 7.365e-16</td> <td> 2.56e-16</td> <td>    2.874</td> <td> 0.004</td> <td> 2.34e-16</td> <td> 1.24e-15</td>\n",
       "</tr>\n",
       "<tr>\n",
       "  <th>prop_Guest suite</th>                    <td>    0.0909</td> <td>    0.036</td> <td>    2.502</td> <td> 0.012</td> <td>    0.020</td> <td>    0.162</td>\n",
       "</tr>\n",
       "<tr>\n",
       "  <th>prop_Guesthouse</th>                     <td>    0.0174</td> <td>    0.074</td> <td>    0.234</td> <td> 0.815</td> <td>   -0.128</td> <td>    0.163</td>\n",
       "</tr>\n",
       "<tr>\n",
       "  <th>prop_Hostel</th>                         <td>    0.2103</td> <td>    0.089</td> <td>    2.362</td> <td> 0.018</td> <td>    0.036</td> <td>    0.385</td>\n",
       "</tr>\n",
       "<tr>\n",
       "  <th>prop_Hotel</th>                          <td>    0.4614</td> <td>    0.047</td> <td>    9.728</td> <td> 0.000</td> <td>    0.368</td> <td>    0.554</td>\n",
       "</tr>\n",
       "<tr>\n",
       "  <th>prop_House</th>                          <td>    0.1388</td> <td>    0.033</td> <td>    4.200</td> <td> 0.000</td> <td>    0.074</td> <td>    0.204</td>\n",
       "</tr>\n",
       "<tr>\n",
       "  <th>prop_In-law</th>                         <td>    0.1661</td> <td>    0.348</td> <td>    0.477</td> <td> 0.634</td> <td>   -0.517</td> <td>    0.849</td>\n",
       "</tr>\n",
       "<tr>\n",
       "  <th>prop_Loft</th>                           <td>    0.3252</td> <td>    0.062</td> <td>    5.245</td> <td> 0.000</td> <td>    0.204</td> <td>    0.447</td>\n",
       "</tr>\n",
       "<tr>\n",
       "  <th>prop_Other</th>                          <td>    0.5701</td> <td>    0.088</td> <td>    6.491</td> <td> 0.000</td> <td>    0.398</td> <td>    0.742</td>\n",
       "</tr>\n",
       "<tr>\n",
       "  <th>prop_Serviced apartment</th>             <td>   -0.1493</td> <td>    0.084</td> <td>   -1.788</td> <td> 0.074</td> <td>   -0.313</td> <td>    0.014</td>\n",
       "</tr>\n",
       "<tr>\n",
       "  <th>prop_Townhouse</th>                      <td>    0.1112</td> <td>    0.053</td> <td>    2.105</td> <td> 0.035</td> <td>    0.008</td> <td>    0.215</td>\n",
       "</tr>\n",
       "<tr>\n",
       "  <th>prop_Villa</th>                          <td>-1.428e-15</td> <td>  5.1e-16</td> <td>   -2.802</td> <td> 0.005</td> <td>-2.43e-15</td> <td>-4.29e-16</td>\n",
       "</tr>\n",
       "<tr>\n",
       "  <th>neighbourhood_Bayview</th>               <td>   -0.2431</td> <td>    0.040</td> <td>   -6.084</td> <td> 0.000</td> <td>   -0.321</td> <td>   -0.165</td>\n",
       "</tr>\n",
       "<tr>\n",
       "  <th>neighbourhood_Bernal Heights</th>        <td>    0.0006</td> <td>    0.028</td> <td>    0.021</td> <td> 0.983</td> <td>   -0.054</td> <td>    0.055</td>\n",
       "</tr>\n",
       "<tr>\n",
       "  <th>neighbourhood_Castro/Upper Market</th>   <td>    0.2006</td> <td>    0.028</td> <td>    7.150</td> <td> 0.000</td> <td>    0.146</td> <td>    0.256</td>\n",
       "</tr>\n",
       "<tr>\n",
       "  <th>neighbourhood_Chinatown</th>             <td>    0.1445</td> <td>    0.062</td> <td>    2.332</td> <td> 0.020</td> <td>    0.023</td> <td>    0.266</td>\n",
       "</tr>\n",
       "<tr>\n",
       "  <th>neighbourhood_Crocker Amazon</th>        <td>   -0.2018</td> <td>    0.076</td> <td>   -2.651</td> <td> 0.008</td> <td>   -0.351</td> <td>   -0.053</td>\n",
       "</tr>\n",
       "<tr>\n",
       "  <th>neighbourhood_Diamond Heights</th>       <td>   -0.1084</td> <td>    0.115</td> <td>   -0.939</td> <td> 0.348</td> <td>   -0.335</td> <td>    0.118</td>\n",
       "</tr>\n",
       "<tr>\n",
       "  <th>neighbourhood_Downtown/Civic Center</th> <td>    0.2324</td> <td>    0.034</td> <td>    6.929</td> <td> 0.000</td> <td>    0.167</td> <td>    0.298</td>\n",
       "</tr>\n",
       "<tr>\n",
       "  <th>neighbourhood_Excelsior</th>             <td>   -0.2653</td> <td>    0.037</td> <td>   -7.085</td> <td> 0.000</td> <td>   -0.339</td> <td>   -0.192</td>\n",
       "</tr>\n",
       "<tr>\n",
       "  <th>neighbourhood_Financial District</th>    <td>    0.1869</td> <td>    0.072</td> <td>    2.588</td> <td> 0.010</td> <td>    0.045</td> <td>    0.328</td>\n",
       "</tr>\n",
       "<tr>\n",
       "  <th>neighbourhood_Glen Park</th>             <td>    0.0636</td> <td>    0.061</td> <td>    1.036</td> <td> 0.300</td> <td>   -0.057</td> <td>    0.184</td>\n",
       "</tr>\n",
       "<tr>\n",
       "  <th>neighbourhood_Golden Gate Park</th>      <td>    0.3002</td> <td>    0.208</td> <td>    1.440</td> <td> 0.150</td> <td>   -0.109</td> <td>    0.709</td>\n",
       "</tr>\n",
       "<tr>\n",
       "  <th>neighbourhood_Haight Ashbury</th>        <td>    0.2127</td> <td>    0.033</td> <td>    6.506</td> <td> 0.000</td> <td>    0.149</td> <td>    0.277</td>\n",
       "</tr>\n",
       "<tr>\n",
       "  <th>neighbourhood_Inner Richmond</th>        <td>    0.0992</td> <td>    0.039</td> <td>    2.575</td> <td> 0.010</td> <td>    0.024</td> <td>    0.175</td>\n",
       "</tr>\n",
       "<tr>\n",
       "  <th>neighbourhood_Inner Sunset</th>          <td>    0.0213</td> <td>    0.041</td> <td>    0.517</td> <td> 0.605</td> <td>   -0.059</td> <td>    0.102</td>\n",
       "</tr>\n",
       "<tr>\n",
       "  <th>neighbourhood_Lakeshore</th>             <td>    0.0569</td> <td>    0.081</td> <td>    0.704</td> <td> 0.481</td> <td>   -0.102</td> <td>    0.215</td>\n",
       "</tr>\n",
       "<tr>\n",
       "  <th>neighbourhood_Marina</th>                <td>    0.3256</td> <td>    0.044</td> <td>    7.426</td> <td> 0.000</td> <td>    0.240</td> <td>    0.412</td>\n",
       "</tr>\n",
       "<tr>\n",
       "  <th>neighbourhood_Mission</th>               <td>    0.2070</td> <td>    0.025</td> <td>    8.438</td> <td> 0.000</td> <td>    0.159</td> <td>    0.255</td>\n",
       "</tr>\n",
       "<tr>\n",
       "  <th>neighbourhood_Nob Hill</th>              <td>    0.2099</td> <td>    0.041</td> <td>    5.134</td> <td> 0.000</td> <td>    0.130</td> <td>    0.290</td>\n",
       "</tr>\n",
       "<tr>\n",
       "  <th>neighbourhood_Noe Valley</th>            <td>    0.1790</td> <td>    0.031</td> <td>    5.865</td> <td> 0.000</td> <td>    0.119</td> <td>    0.239</td>\n",
       "</tr>\n",
       "<tr>\n",
       "  <th>neighbourhood_North Beach</th>           <td>    0.2630</td> <td>    0.053</td> <td>    4.971</td> <td> 0.000</td> <td>    0.159</td> <td>    0.367</td>\n",
       "</tr>\n",
       "<tr>\n",
       "  <th>neighbourhood_Ocean View</th>            <td>   -0.1923</td> <td>    0.049</td> <td>   -3.914</td> <td> 0.000</td> <td>   -0.289</td> <td>   -0.096</td>\n",
       "</tr>\n",
       "<tr>\n",
       "  <th>neighbourhood_Outer Mission</th>         <td>   -0.1310</td> <td>    0.040</td> <td>   -3.317</td> <td> 0.001</td> <td>   -0.209</td> <td>   -0.054</td>\n",
       "</tr>\n",
       "<tr>\n",
       "  <th>neighbourhood_Outer Richmond</th>        <td>   -0.0051</td> <td>    0.039</td> <td>   -0.130</td> <td> 0.897</td> <td>   -0.083</td> <td>    0.072</td>\n",
       "</tr>\n",
       "<tr>\n",
       "  <th>neighbourhood_Outer Sunset</th>          <td>   -0.0543</td> <td>    0.030</td> <td>   -1.803</td> <td> 0.071</td> <td>   -0.113</td> <td>    0.005</td>\n",
       "</tr>\n",
       "<tr>\n",
       "  <th>neighbourhood_Pacific Heights</th>       <td>    0.3813</td> <td>    0.047</td> <td>    8.151</td> <td> 0.000</td> <td>    0.290</td> <td>    0.473</td>\n",
       "</tr>\n",
       "<tr>\n",
       "  <th>neighbourhood_Parkside</th>              <td>   -0.1354</td> <td>    0.041</td> <td>   -3.278</td> <td> 0.001</td> <td>   -0.216</td> <td>   -0.054</td>\n",
       "</tr>\n",
       "<tr>\n",
       "  <th>neighbourhood_Potrero Hill</th>          <td>    0.1884</td> <td>    0.036</td> <td>    5.200</td> <td> 0.000</td> <td>    0.117</td> <td>    0.259</td>\n",
       "</tr>\n",
       "<tr>\n",
       "  <th>neighbourhood_Presidio</th>              <td>    0.2427</td> <td>    0.361</td> <td>    0.672</td> <td> 0.502</td> <td>   -0.465</td> <td>    0.951</td>\n",
       "</tr>\n",
       "<tr>\n",
       "  <th>neighbourhood_Presidio Heights</th>      <td>    0.1739</td> <td>    0.121</td> <td>    1.432</td> <td> 0.152</td> <td>   -0.064</td> <td>    0.412</td>\n",
       "</tr>\n",
       "<tr>\n",
       "  <th>neighbourhood_Russian Hill</th>          <td>    0.3502</td> <td>    0.050</td> <td>    6.951</td> <td> 0.000</td> <td>    0.251</td> <td>    0.449</td>\n",
       "</tr>\n",
       "<tr>\n",
       "  <th>neighbourhood_Seacliff</th>              <td>   -0.1055</td> <td>    0.115</td> <td>   -0.916</td> <td> 0.359</td> <td>   -0.331</td> <td>    0.120</td>\n",
       "</tr>\n",
       "<tr>\n",
       "  <th>neighbourhood_South of Market</th>       <td>    0.3195</td> <td>    0.033</td> <td>    9.598</td> <td> 0.000</td> <td>    0.254</td> <td>    0.385</td>\n",
       "</tr>\n",
       "<tr>\n",
       "  <th>neighbourhood_Treasure Island/YBI</th>   <td>-6.905e-16</td> <td> 4.11e-17</td> <td>  -16.797</td> <td> 0.000</td> <td>-7.71e-16</td> <td> -6.1e-16</td>\n",
       "</tr>\n",
       "<tr>\n",
       "  <th>neighbourhood_Twin Peaks</th>            <td>    0.1175</td> <td>    0.060</td> <td>    1.962</td> <td> 0.050</td> <td> 9.07e-05</td> <td>    0.235</td>\n",
       "</tr>\n",
       "<tr>\n",
       "  <th>neighbourhood_Visitacion Valley</th>     <td>   -0.0895</td> <td>    0.057</td> <td>   -1.574</td> <td> 0.115</td> <td>   -0.201</td> <td>    0.022</td>\n",
       "</tr>\n",
       "<tr>\n",
       "  <th>neighbourhood_West of Twin Peaks</th>    <td>   -0.0723</td> <td>    0.044</td> <td>   -1.630</td> <td> 0.103</td> <td>   -0.159</td> <td>    0.015</td>\n",
       "</tr>\n",
       "<tr>\n",
       "  <th>neighbourhood_Western Addition</th>      <td>    0.2106</td> <td>    0.027</td> <td>    7.872</td> <td> 0.000</td> <td>    0.158</td> <td>    0.263</td>\n",
       "</tr>\n",
       "<tr>\n",
       "  <th>review_of_<4.0</th>                      <td>    0.2048</td> <td>    0.084</td> <td>    2.444</td> <td> 0.015</td> <td>    0.041</td> <td>    0.369</td>\n",
       "</tr>\n",
       "<tr>\n",
       "  <th>review_of_>4.0</th>                      <td>    0.3492</td> <td>    0.070</td> <td>    4.997</td> <td> 0.000</td> <td>    0.212</td> <td>    0.486</td>\n",
       "</tr>\n",
       "<tr>\n",
       "  <th>review_of_>4.2</th>                      <td>    0.4619</td> <td>    0.053</td> <td>    8.653</td> <td> 0.000</td> <td>    0.357</td> <td>    0.567</td>\n",
       "</tr>\n",
       "<tr>\n",
       "  <th>review_of_>4.6</th>                      <td>    0.5555</td> <td>    0.052</td> <td>   10.678</td> <td> 0.000</td> <td>    0.453</td> <td>    0.657</td>\n",
       "</tr>\n",
       "<tr>\n",
       "  <th>review_of_>4.8</th>                      <td>    0.6554</td> <td>    0.052</td> <td>   12.628</td> <td> 0.000</td> <td>    0.554</td> <td>    0.757</td>\n",
       "</tr>\n",
       "<tr>\n",
       "  <th>review_of_>4.9</th>                      <td>    0.7170</td> <td>    0.052</td> <td>   13.718</td> <td> 0.000</td> <td>    0.615</td> <td>    0.819</td>\n",
       "</tr>\n",
       "<tr>\n",
       "  <th>review_of_no review</th>                 <td>    0.1396</td> <td>    0.325</td> <td>    0.430</td> <td> 0.667</td> <td>   -0.497</td> <td>    0.776</td>\n",
       "</tr>\n",
       "</table>\n",
       "<table class=\"simpletable\">\n",
       "<tr>\n",
       "  <th>Omnibus:</th>       <td>242.948</td> <th>  Durbin-Watson:     </th> <td>   1.989</td> \n",
       "</tr>\n",
       "<tr>\n",
       "  <th>Prob(Omnibus):</th> <td> 0.000</td>  <th>  Jarque-Bera (JB):  </th> <td>1031.694</td> \n",
       "</tr>\n",
       "<tr>\n",
       "  <th>Skew:</th>          <td> 0.158</td>  <th>  Prob(JB):          </th> <td>9.34e-225</td>\n",
       "</tr>\n",
       "<tr>\n",
       "  <th>Kurtosis:</th>      <td> 5.569</td>  <th>  Cond. No.          </th> <td>1.17e+16</td> \n",
       "</tr>\n",
       "</table><br/><br/>Warnings:<br/>[1] Standard Errors assume that the covariance matrix of the errors is correctly specified.<br/>[2] The smallest eigenvalue is 7.53e-27. This might indicate that there are<br/>strong multicollinearity problems or that the design matrix is singular."
      ],
      "text/plain": [
       "<class 'statsmodels.iolib.summary.Summary'>\n",
       "\"\"\"\n",
       "                            OLS Regression Results                            \n",
       "==============================================================================\n",
       "Dep. Variable:                  price   R-squared:                       0.661\n",
       "Model:                            OLS   Adj. R-squared:                  0.653\n",
       "Method:                 Least Squares   F-statistic:                     81.02\n",
       "Date:                Wed, 25 Mar 2020   Prob (F-statistic):               0.00\n",
       "Time:                        10:12:15   Log-Likelihood:                -1519.6\n",
       "No. Observations:                3696   AIC:                             3215.\n",
       "Df Residuals:                    3608   BIC:                             3762.\n",
       "Df Model:                          87                                         \n",
       "Covariance Type:            nonrobust                                         \n",
       "=======================================================================================================\n",
       "                                          coef    std err          t      P>|t|      [0.025      0.975]\n",
       "-------------------------------------------------------------------------------------------------------\n",
       "host_response_time                     -0.0194      0.008     -2.421      0.016      -0.035      -0.004\n",
       "host_response_rate                      0.0051      0.006      0.789      0.430      -0.008       0.018\n",
       "host_acceptance_rate                   -0.0102      0.008     -1.307      0.191      -0.025       0.005\n",
       "host_is_superhost                       0.0250      0.016      1.598      0.110      -0.006       0.056\n",
       "host_identity_verified                  0.0199      0.014      1.468      0.142      -0.007       0.047\n",
       "accommodates                            0.1551      0.013     11.719      0.000       0.129       0.181\n",
       "bathrooms                              -0.0331      0.013     -2.483      0.013      -0.059      -0.007\n",
       "bedrooms                                0.2326      0.022     10.807      0.000       0.190       0.275\n",
       "beds                                   -0.0160      0.012     -1.348      0.178      -0.039       0.007\n",
       "bed_type                               -0.0329      0.055     -0.602      0.547      -0.140       0.074\n",
       "security_deposit                       -0.0038      0.007     -0.525      0.599      -0.018       0.010\n",
       "cleaning_fee                            0.0374      0.009      4.252      0.000       0.020       0.055\n",
       "guests_included                         0.0205      0.006      3.258      0.001       0.008       0.033\n",
       "extra_people                            0.0224      0.007      3.369      0.001       0.009       0.035\n",
       "number_of_reviews                      -0.0396      0.009     -4.298      0.000      -0.058      -0.022\n",
       "number_of_reviews_ltm                   0.0419      0.014      2.905      0.004       0.014       0.070\n",
       "instant_bookable                       -0.0124      0.014     -0.885      0.376      -0.040       0.015\n",
       "cancellation_policy                     0.0025      0.009      0.265      0.791      -0.016       0.021\n",
       "require_guest_profile_picture          -0.0004      0.030     -0.013      0.989      -0.058       0.058\n",
       "calculated_host_listings_count          0.0006      0.001      1.181      0.238      -0.000       0.002\n",
       "reviews_per_month                      -0.0159      0.014     -1.155      0.248      -0.043       0.011\n",
       "bedbathratio                           -0.0761      0.016     -4.778      0.000      -0.107      -0.045\n",
       "intercept                               3.0835      0.067     46.310      0.000       2.953       3.214\n",
       "room_1                                  0.0499      0.055      0.905      0.365      -0.058       0.158\n",
       "room_2                                  1.0254      0.062     16.426      0.000       0.903       1.148\n",
       "room_3                                  0.8360      0.028     30.211      0.000       0.782       0.890\n",
       "room_4                                  1.1721      0.030     39.399      0.000       1.114       1.230\n",
       "breakfast                              -0.0059      0.021     -0.273      0.785      -0.048       0.036\n",
       "family_friendly                         0.0219      0.014      1.576      0.115      -0.005       0.049\n",
       "coffee_maker                            0.0123      0.015      0.794      0.427      -0.018       0.043\n",
       "netflix                                 0.1574      0.039      4.022      0.000       0.081       0.234\n",
       "greeting                               -0.0260      0.020     -1.298      0.194      -0.065       0.013\n",
       "freeparking                            -0.0049      0.016     -0.315      0.753      -0.036       0.026\n",
       "outdoorpart                             0.0464      0.015      3.105      0.002       0.017       0.076\n",
       "prop_Apartment                          0.0921      0.032      2.862      0.004       0.029       0.155\n",
       "prop_Bed and breakfast                  0.3938      0.139      2.826      0.005       0.121       0.667\n",
       "prop_Bungalow                           0.1653      0.095      1.738      0.082      -0.021       0.352\n",
       "prop_Condominium                        0.1677      0.035      4.749      0.000       0.098       0.237\n",
       "prop_Cottage                            0.3227      0.120      2.690      0.007       0.087       0.558\n",
       "prop_Cycladic house (Greece)         7.365e-16   2.56e-16      2.874      0.004    2.34e-16    1.24e-15\n",
       "prop_Guest suite                        0.0909      0.036      2.502      0.012       0.020       0.162\n",
       "prop_Guesthouse                         0.0174      0.074      0.234      0.815      -0.128       0.163\n",
       "prop_Hostel                             0.2103      0.089      2.362      0.018       0.036       0.385\n",
       "prop_Hotel                              0.4614      0.047      9.728      0.000       0.368       0.554\n",
       "prop_House                              0.1388      0.033      4.200      0.000       0.074       0.204\n",
       "prop_In-law                             0.1661      0.348      0.477      0.634      -0.517       0.849\n",
       "prop_Loft                               0.3252      0.062      5.245      0.000       0.204       0.447\n",
       "prop_Other                              0.5701      0.088      6.491      0.000       0.398       0.742\n",
       "prop_Serviced apartment                -0.1493      0.084     -1.788      0.074      -0.313       0.014\n",
       "prop_Townhouse                          0.1112      0.053      2.105      0.035       0.008       0.215\n",
       "prop_Villa                          -1.428e-15    5.1e-16     -2.802      0.005   -2.43e-15   -4.29e-16\n",
       "neighbourhood_Bayview                  -0.2431      0.040     -6.084      0.000      -0.321      -0.165\n",
       "neighbourhood_Bernal Heights            0.0006      0.028      0.021      0.983      -0.054       0.055\n",
       "neighbourhood_Castro/Upper Market       0.2006      0.028      7.150      0.000       0.146       0.256\n",
       "neighbourhood_Chinatown                 0.1445      0.062      2.332      0.020       0.023       0.266\n",
       "neighbourhood_Crocker Amazon           -0.2018      0.076     -2.651      0.008      -0.351      -0.053\n",
       "neighbourhood_Diamond Heights          -0.1084      0.115     -0.939      0.348      -0.335       0.118\n",
       "neighbourhood_Downtown/Civic Center     0.2324      0.034      6.929      0.000       0.167       0.298\n",
       "neighbourhood_Excelsior                -0.2653      0.037     -7.085      0.000      -0.339      -0.192\n",
       "neighbourhood_Financial District        0.1869      0.072      2.588      0.010       0.045       0.328\n",
       "neighbourhood_Glen Park                 0.0636      0.061      1.036      0.300      -0.057       0.184\n",
       "neighbourhood_Golden Gate Park          0.3002      0.208      1.440      0.150      -0.109       0.709\n",
       "neighbourhood_Haight Ashbury            0.2127      0.033      6.506      0.000       0.149       0.277\n",
       "neighbourhood_Inner Richmond            0.0992      0.039      2.575      0.010       0.024       0.175\n",
       "neighbourhood_Inner Sunset              0.0213      0.041      0.517      0.605      -0.059       0.102\n",
       "neighbourhood_Lakeshore                 0.0569      0.081      0.704      0.481      -0.102       0.215\n",
       "neighbourhood_Marina                    0.3256      0.044      7.426      0.000       0.240       0.412\n",
       "neighbourhood_Mission                   0.2070      0.025      8.438      0.000       0.159       0.255\n",
       "neighbourhood_Nob Hill                  0.2099      0.041      5.134      0.000       0.130       0.290\n",
       "neighbourhood_Noe Valley                0.1790      0.031      5.865      0.000       0.119       0.239\n",
       "neighbourhood_North Beach               0.2630      0.053      4.971      0.000       0.159       0.367\n",
       "neighbourhood_Ocean View               -0.1923      0.049     -3.914      0.000      -0.289      -0.096\n",
       "neighbourhood_Outer Mission            -0.1310      0.040     -3.317      0.001      -0.209      -0.054\n",
       "neighbourhood_Outer Richmond           -0.0051      0.039     -0.130      0.897      -0.083       0.072\n",
       "neighbourhood_Outer Sunset             -0.0543      0.030     -1.803      0.071      -0.113       0.005\n",
       "neighbourhood_Pacific Heights           0.3813      0.047      8.151      0.000       0.290       0.473\n",
       "neighbourhood_Parkside                 -0.1354      0.041     -3.278      0.001      -0.216      -0.054\n",
       "neighbourhood_Potrero Hill              0.1884      0.036      5.200      0.000       0.117       0.259\n",
       "neighbourhood_Presidio                  0.2427      0.361      0.672      0.502      -0.465       0.951\n",
       "neighbourhood_Presidio Heights          0.1739      0.121      1.432      0.152      -0.064       0.412\n",
       "neighbourhood_Russian Hill              0.3502      0.050      6.951      0.000       0.251       0.449\n",
       "neighbourhood_Seacliff                 -0.1055      0.115     -0.916      0.359      -0.331       0.120\n",
       "neighbourhood_South of Market           0.3195      0.033      9.598      0.000       0.254       0.385\n",
       "neighbourhood_Treasure Island/YBI   -6.905e-16   4.11e-17    -16.797      0.000   -7.71e-16    -6.1e-16\n",
       "neighbourhood_Twin Peaks                0.1175      0.060      1.962      0.050    9.07e-05       0.235\n",
       "neighbourhood_Visitacion Valley        -0.0895      0.057     -1.574      0.115      -0.201       0.022\n",
       "neighbourhood_West of Twin Peaks       -0.0723      0.044     -1.630      0.103      -0.159       0.015\n",
       "neighbourhood_Western Addition          0.2106      0.027      7.872      0.000       0.158       0.263\n",
       "review_of_<4.0                          0.2048      0.084      2.444      0.015       0.041       0.369\n",
       "review_of_>4.0                          0.3492      0.070      4.997      0.000       0.212       0.486\n",
       "review_of_>4.2                          0.4619      0.053      8.653      0.000       0.357       0.567\n",
       "review_of_>4.6                          0.5555      0.052     10.678      0.000       0.453       0.657\n",
       "review_of_>4.8                          0.6554      0.052     12.628      0.000       0.554       0.757\n",
       "review_of_>4.9                          0.7170      0.052     13.718      0.000       0.615       0.819\n",
       "review_of_no review                     0.1396      0.325      0.430      0.667      -0.497       0.776\n",
       "==============================================================================\n",
       "Omnibus:                      242.948   Durbin-Watson:                   1.989\n",
       "Prob(Omnibus):                  0.000   Jarque-Bera (JB):             1031.694\n",
       "Skew:                           0.158   Prob(JB):                    9.34e-225\n",
       "Kurtosis:                       5.569   Cond. No.                     1.17e+16\n",
       "==============================================================================\n",
       "\n",
       "Warnings:\n",
       "[1] Standard Errors assume that the covariance matrix of the errors is correctly specified.\n",
       "[2] The smallest eigenvalue is 7.53e-27. This might indicate that there are\n",
       "strong multicollinearity problems or that the design matrix is singular.\n",
       "\"\"\""
      ]
     },
     "execution_count": 13,
     "metadata": {},
     "output_type": "execute_result"
    }
   ],
   "source": [
    "model = sm.OLS(y_train, X_train)\n",
    "fit = model.fit()\n",
    "\n",
    "test_set_pred = fit.predict(X_train)\n",
    "\n",
    "from sklearn.linear_model import LinearRegression\n",
    "from sklearn.model_selection import cross_val_score, KFold\n",
    "\n",
    "fivesplits = KFold(n_splits = 5, shuffle = True, random_state = 7)\n",
    "\n",
    "print('cross validated r2', np.mean(cross_val_score(LinearRegression(), X_train, y_train, cv = fivesplits, scoring = 'r2')))\n",
    "\n",
    "#https://sukhbinder.wordpress.com/2018/08/07/cross-validation-score-with-statsmodels/\n",
    "fit.summary()"
   ]
  },
  {
   "cell_type": "code",
   "execution_count": 39,
   "metadata": {
    "ExecuteTime": {
     "end_time": "2020-03-25T17:32:46.924350Z",
     "start_time": "2020-03-25T17:32:46.875565Z"
    }
   },
   "outputs": [
    {
     "data": {
      "text/plain": [
       "6014    181.992066\n",
       "dtype: float64"
      ]
     },
     "execution_count": 39,
     "metadata": {},
     "output_type": "execute_result"
    }
   ],
   "source": [
    "#2502 913 2917 2358 77 2483\n",
    "\n",
    "test_set_pred = fit.predict(X_train[77:78])\n",
    "\n",
    "\n",
    "np.exp(test_set_pred)"
   ]
  },
  {
   "cell_type": "code",
   "execution_count": null,
   "metadata": {},
   "outputs": [],
   "source": []
  },
  {
   "cell_type": "code",
   "execution_count": 43,
   "metadata": {
    "ExecuteTime": {
     "end_time": "2020-03-25T17:34:50.691192Z",
     "start_time": "2020-03-25T17:34:50.630950Z"
    }
   },
   "outputs": [
    {
     "data": {
      "text/html": [
       "<div>\n",
       "<style scoped>\n",
       "    .dataframe tbody tr th:only-of-type {\n",
       "        vertical-align: middle;\n",
       "    }\n",
       "\n",
       "    .dataframe tbody tr th {\n",
       "        vertical-align: top;\n",
       "    }\n",
       "\n",
       "    .dataframe thead th {\n",
       "        text-align: right;\n",
       "    }\n",
       "</style>\n",
       "<table border=\"1\" class=\"dataframe\">\n",
       "  <thead>\n",
       "    <tr style=\"text-align: right;\">\n",
       "      <th></th>\n",
       "      <th>host_response_time</th>\n",
       "      <th>host_response_rate</th>\n",
       "      <th>host_acceptance_rate</th>\n",
       "      <th>host_is_superhost</th>\n",
       "      <th>host_identity_verified</th>\n",
       "      <th>accommodates</th>\n",
       "      <th>bathrooms</th>\n",
       "      <th>bedrooms</th>\n",
       "      <th>beds</th>\n",
       "      <th>bed_type</th>\n",
       "      <th>...</th>\n",
       "      <th>neighbourhood_Visitacion Valley</th>\n",
       "      <th>neighbourhood_West of Twin Peaks</th>\n",
       "      <th>neighbourhood_Western Addition</th>\n",
       "      <th>review_of_&lt;4.0</th>\n",
       "      <th>review_of_&gt;4.0</th>\n",
       "      <th>review_of_&gt;4.2</th>\n",
       "      <th>review_of_&gt;4.6</th>\n",
       "      <th>review_of_&gt;4.8</th>\n",
       "      <th>review_of_&gt;4.9</th>\n",
       "      <th>review_of_no review</th>\n",
       "    </tr>\n",
       "  </thead>\n",
       "  <tbody>\n",
       "    <tr>\n",
       "      <th>6014</th>\n",
       "      <td>-0.153443</td>\n",
       "      <td>0.25167</td>\n",
       "      <td>0.526744</td>\n",
       "      <td>1</td>\n",
       "      <td>0</td>\n",
       "      <td>-0.632992</td>\n",
       "      <td>-0.481695</td>\n",
       "      <td>-0.382697</td>\n",
       "      <td>-0.644436</td>\n",
       "      <td>1</td>\n",
       "      <td>...</td>\n",
       "      <td>0</td>\n",
       "      <td>0</td>\n",
       "      <td>0</td>\n",
       "      <td>0</td>\n",
       "      <td>0</td>\n",
       "      <td>0</td>\n",
       "      <td>0</td>\n",
       "      <td>0</td>\n",
       "      <td>1</td>\n",
       "      <td>0</td>\n",
       "    </tr>\n",
       "  </tbody>\n",
       "</table>\n",
       "<p>1 rows × 95 columns</p>\n",
       "</div>"
      ],
      "text/plain": [
       "      host_response_time  host_response_rate  host_acceptance_rate  \\\n",
       "6014           -0.153443             0.25167              0.526744   \n",
       "\n",
       "      host_is_superhost  host_identity_verified  accommodates  bathrooms  \\\n",
       "6014                  1                       0     -0.632992  -0.481695   \n",
       "\n",
       "      bedrooms      beds  bed_type  ...  neighbourhood_Visitacion Valley  \\\n",
       "6014 -0.382697 -0.644436         1  ...                                0   \n",
       "\n",
       "      neighbourhood_West of Twin Peaks  neighbourhood_Western Addition  \\\n",
       "6014                                 0                               0   \n",
       "\n",
       "      review_of_<4.0  review_of_>4.0  review_of_>4.2  review_of_>4.6  \\\n",
       "6014               0               0               0               0   \n",
       "\n",
       "      review_of_>4.8  review_of_>4.9  review_of_no review  \n",
       "6014               0               1                    0  \n",
       "\n",
       "[1 rows x 95 columns]"
      ]
     },
     "execution_count": 43,
     "metadata": {},
     "output_type": "execute_result"
    }
   ],
   "source": [
    "df[6014:6015]"
   ]
  },
  {
   "cell_type": "code",
   "execution_count": 44,
   "metadata": {
    "ExecuteTime": {
     "end_time": "2020-03-25T17:35:26.453946Z",
     "start_time": "2020-03-25T17:35:26.386693Z"
    }
   },
   "outputs": [
    {
     "data": {
      "text/html": [
       "<div>\n",
       "<style scoped>\n",
       "    .dataframe tbody tr th:only-of-type {\n",
       "        vertical-align: middle;\n",
       "    }\n",
       "\n",
       "    .dataframe tbody tr th {\n",
       "        vertical-align: top;\n",
       "    }\n",
       "\n",
       "    .dataframe thead th {\n",
       "        text-align: right;\n",
       "    }\n",
       "</style>\n",
       "<table border=\"1\" class=\"dataframe\">\n",
       "  <thead>\n",
       "    <tr style=\"text-align: right;\">\n",
       "      <th></th>\n",
       "      <th>host_since</th>\n",
       "      <th>host_response_time</th>\n",
       "      <th>host_response_rate</th>\n",
       "      <th>host_acceptance_rate</th>\n",
       "      <th>host_is_superhost</th>\n",
       "      <th>host_neighbourhood</th>\n",
       "      <th>host_identity_verified</th>\n",
       "      <th>neighbourhood_cleansed</th>\n",
       "      <th>zipcode</th>\n",
       "      <th>property_type</th>\n",
       "      <th>...</th>\n",
       "      <th>neighbourhood_Visitacion Valley</th>\n",
       "      <th>neighbourhood_West of Twin Peaks</th>\n",
       "      <th>neighbourhood_Western Addition</th>\n",
       "      <th>review_of_&lt;4.0</th>\n",
       "      <th>review_of_&gt;4.0</th>\n",
       "      <th>review_of_&gt;4.2</th>\n",
       "      <th>review_of_&gt;4.6</th>\n",
       "      <th>review_of_&gt;4.8</th>\n",
       "      <th>review_of_&gt;4.9</th>\n",
       "      <th>review_of_no review</th>\n",
       "    </tr>\n",
       "  </thead>\n",
       "  <tbody>\n",
       "    <tr>\n",
       "      <th>6317</th>\n",
       "      <td>2016-10-18</td>\n",
       "      <td>4.0</td>\n",
       "      <td>1.0</td>\n",
       "      <td>0.99</td>\n",
       "      <td>1</td>\n",
       "      <td>Kailua/Kona</td>\n",
       "      <td>0</td>\n",
       "      <td>Downtown/Civic Center</td>\n",
       "      <td>94109</td>\n",
       "      <td>Condominium</td>\n",
       "      <td>...</td>\n",
       "      <td>0</td>\n",
       "      <td>0</td>\n",
       "      <td>0</td>\n",
       "      <td>0</td>\n",
       "      <td>0</td>\n",
       "      <td>0</td>\n",
       "      <td>0</td>\n",
       "      <td>0</td>\n",
       "      <td>0</td>\n",
       "      <td>1</td>\n",
       "    </tr>\n",
       "  </tbody>\n",
       "</table>\n",
       "<p>1 rows × 109 columns</p>\n",
       "</div>"
      ],
      "text/plain": [
       "     host_since  host_response_time  host_response_rate  host_acceptance_rate  \\\n",
       "6317 2016-10-18                 4.0                 1.0                  0.99   \n",
       "\n",
       "      host_is_superhost host_neighbourhood  host_identity_verified  \\\n",
       "6317                  1        Kailua/Kona                       0   \n",
       "\n",
       "     neighbourhood_cleansed zipcode property_type  ...  \\\n",
       "6317  Downtown/Civic Center   94109   Condominium  ...   \n",
       "\n",
       "      neighbourhood_Visitacion Valley  neighbourhood_West of Twin Peaks  \\\n",
       "6317                                0                                 0   \n",
       "\n",
       "      neighbourhood_Western Addition  review_of_<4.0  review_of_>4.0  \\\n",
       "6317                               0               0               0   \n",
       "\n",
       "      review_of_>4.2 review_of_>4.6  review_of_>4.8  review_of_>4.9  \\\n",
       "6317               0              0               0               0   \n",
       "\n",
       "      review_of_no review  \n",
       "6317                    1  \n",
       "\n",
       "[1 rows x 109 columns]"
      ]
     },
     "execution_count": 44,
     "metadata": {},
     "output_type": "execute_result"
    }
   ],
   "source": [
    "df[6014:6015]"
   ]
  },
  {
   "cell_type": "code",
   "execution_count": 14,
   "metadata": {
    "ExecuteTime": {
     "end_time": "2020-03-25T17:12:17.074337Z",
     "start_time": "2020-03-25T17:12:17.047647Z"
    }
   },
   "outputs": [
    {
     "data": {
      "text/plain": [
       "0.6534609066024255"
      ]
     },
     "execution_count": 14,
     "metadata": {},
     "output_type": "execute_result"
    }
   ],
   "source": [
    "ridgemodel = Ridge(alpha = 23, fit_intercept = True)\n",
    "\n",
    "ridgemodel = ridgemodel.fit(X_train, y_train)\n",
    "\n",
    "ridgemodel.score(X_train, y_train)"
   ]
  },
  {
   "cell_type": "code",
   "execution_count": 15,
   "metadata": {
    "ExecuteTime": {
     "end_time": "2020-03-25T17:12:17.583452Z",
     "start_time": "2020-03-25T17:12:17.565860Z"
    }
   },
   "outputs": [
    {
     "data": {
      "text/plain": [
       "182.10981098109812"
      ]
     },
     "execution_count": 15,
     "metadata": {},
     "output_type": "execute_result"
    }
   ],
   "source": [
    "smalldf[smalldf.outdoorpart == 0]['price'].mean()\n",
    "# df[df.outdoorpart == 0].mean()['price']"
   ]
  },
  {
   "cell_type": "code",
   "execution_count": null,
   "metadata": {},
   "outputs": [],
   "source": []
  },
  {
   "cell_type": "code",
   "execution_count": 16,
   "metadata": {
    "ExecuteTime": {
     "end_time": "2020-03-25T17:12:19.393197Z",
     "start_time": "2020-03-25T17:12:19.371686Z"
    }
   },
   "outputs": [
    {
     "data": {
      "text/plain": [
       "0.0"
      ]
     },
     "execution_count": 16,
     "metadata": {},
     "output_type": "execute_result"
    }
   ],
   "source": [
    "lassomodel = Lasso(alpha = 1, fit_intercept = True)\n",
    "lassomodel = lassomodel.fit(X_train, y_train)\n",
    "lassomodel.score(X_train, y_train)"
   ]
  },
  {
   "cell_type": "markdown",
   "metadata": {},
   "source": [
    "#### dummy code"
   ]
  },
  {
   "cell_type": "code",
   "execution_count": 17,
   "metadata": {
    "ExecuteTime": {
     "end_time": "2020-03-25T17:12:20.744777Z",
     "start_time": "2020-03-25T17:12:20.736287Z"
    }
   },
   "outputs": [],
   "source": [
    "# param_grid = {'alpha': 10**np.linspace(-3, 3, 600)}\n",
    "##wwwww\n",
    "\n",
    "# fivesplit = KFold(n_splits = 5, shuffle = True, random_state = 42)\n",
    "\n",
    "# gridsearch = GridSearchCV(Ridge(), param_grid, cv=fivesplit, n_jobs=-1, scoring='r2')\n",
    "# gridsearch.fit(X_train, y_train)"
   ]
  },
  {
   "cell_type": "code",
   "execution_count": null,
   "metadata": {
    "ExecuteTime": {
     "end_time": "2020-03-20T16:31:38.531168Z",
     "start_time": "2020-03-20T16:31:38.522721Z"
    }
   },
   "outputs": [],
   "source": []
  },
  {
   "cell_type": "code",
   "execution_count": 18,
   "metadata": {
    "ExecuteTime": {
     "end_time": "2020-03-25T17:12:21.963958Z",
     "start_time": "2020-03-25T17:12:21.960672Z"
    }
   },
   "outputs": [],
   "source": [
    "# ridge = gridsearch.best_estimator_\n",
    "# print('Ridge Model Alpha = {:f}'.format(ridge.alpha))\n",
    "# print('Ridge model R^2 on in-sample data: {:f}'.format(\n",
    "#     ridge.score(X_train, y_train)))"
   ]
  },
  {
   "cell_type": "code",
   "execution_count": null,
   "metadata": {
    "ExecuteTime": {
     "end_time": "2020-03-25T17:09:06.276617Z",
     "start_time": "2020-03-25T17:09:02.140Z"
    }
   },
   "outputs": [],
   "source": [
    "plt.figure(figsize=(16,8))\n",
    "plt.scatter(y_train, test_set_pred, alpha= .3)\n",
    "plt.plot(np.linspace(0,7,100), np.linspace(0,7,100))\n",
    "\n",
    "# print('r2 score is:', r2_score(y, test_set_pred))\n",
    "# print('mean absolute error(MAE) is:', mae(y_test, test_set_pred))\n",
    "plt.xlabel('Predicted Price', fontsize = 15, fontname = 'Helvetica', fontweight = 'bold')\n",
    "plt.ylabel('Actual Price', fontsize = 15, fontname = 'Arial', \n",
    "           fontweight = 'bold')"
   ]
  },
  {
   "cell_type": "code",
   "execution_count": 20,
   "metadata": {
    "ExecuteTime": {
     "end_time": "2020-03-25T17:14:17.266074Z",
     "start_time": "2020-03-25T17:14:16.773131Z"
    }
   },
   "outputs": [
    {
     "data": {
      "text/plain": [
       "Text(0.5, 1.0, 'Distribution of Residuals')"
      ]
     },
     "execution_count": 20,
     "metadata": {},
     "output_type": "execute_result"
    },
    {
     "data": {
      "image/png": "[encoded data removed]",
      "text/plain": [
       "<Figure size 576x360 with 1 Axes>"
      ]
     },
     "metadata": {
      "needs_background": "light"
     },
     "output_type": "display_data"
    }
   ],
   "source": [
    "import seaborn as sns\n",
    "\n",
    "resid_lm = y_train - test_set_pred\n",
    "\n",
    "plt.figure(figsize=(8, 5))\n",
    "sns.distplot(resid_lm)\n",
    "plt.xlabel('Target Residuals', size=14)\n",
    "sns.despine()\n",
    "plt.title('Distribution of Residuals', size=16)\n",
    "# plt.savefig('img/resid_dist.png')"
   ]
  },
  {
   "cell_type": "code",
   "execution_count": null,
   "metadata": {
    "ExecuteTime": {
     "end_time": "2020-03-25T17:09:06.280211Z",
     "start_time": "2020-03-25T17:09:02.163Z"
    }
   },
   "outputs": [],
   "source": [
    "# #the matrix is symmetric so we need to extract upper triangle matrix without diagonal (k = 1)\n",
    "# sol = (corr_matrix.where(np.triu(np.ones(corr_matrix.shape), k=1).astype(np.bool))\n",
    "#                  .stack()\n",
    "#                  .sort_values(ascending=False))\n",
    "# #first element of sol series is the pair with the bigest correlation\n",
    "# #https://stackoverflow.com/questions/17778394/list-highest-correlation-pairs-from-a-large-correlation-matrix-in-pandas\n",
    "# sol"
   ]
  },
  {
   "cell_type": "code",
   "execution_count": 27,
   "metadata": {
    "ExecuteTime": {
     "end_time": "2020-03-25T17:18:12.008270Z",
     "start_time": "2020-03-25T17:18:11.068594Z"
    }
   },
   "outputs": [
    {
     "name": "stdout",
     "output_type": "stream",
     "text": [
      "[10:18:11] WARNING: src/objective/regression_obj.cu:152: reg:linear is now deprecated in favor of reg:squarederror.\n"
     ]
    }
   ],
   "source": [
    "from xgboost import XGBRegressor\n",
    "xgb = XGBRegressor()\n",
    "xgb.fit(X_train.values, y_train.values)\n",
    "# Get predictions\n",
    "training_preds_xgb = xgb.predict(X_train.values)\n",
    "val_preds_xgb = xgb.predict(X_train.values)"
   ]
  },
  {
   "cell_type": "code",
   "execution_count": 29,
   "metadata": {
    "ExecuteTime": {
     "end_time": "2020-03-25T17:19:39.044039Z",
     "start_time": "2020-03-25T17:19:37.365472Z"
    }
   },
   "outputs": [
    {
     "data": {
      "image/png": "[encoded data removed]",
      "text/plain": [
       "<Figure size 288x1440 with 1 Axes>"
      ]
     },
     "metadata": {
      "needs_background": "light"
     },
     "output_type": "display_data"
    }
   ],
   "source": [
    "# Producing a dataframe of feature importances\n",
    "ft_weights_xgb = pd.DataFrame(xgb.feature_importances_, columns=['weight'], index=X_train.columns)\n",
    "ft_weights_xgb.sort_values('weight', inplace=True)\n",
    "\n",
    "# Plotting feature importances\n",
    "plt.figure(figsize=(4,20))\n",
    "plt.barh(ft_weights_xgb.index, ft_weights_xgb.weight, align='center') \n",
    "plt.title(\"Feature importances in the XGBoost model\", fontsize=14)\n",
    "plt.xlabel(\"Feature importance\")\n",
    "plt.margins(y=0.01)\n",
    "plt.show()"
   ]
  },
  {
   "cell_type": "code",
   "execution_count": null,
   "metadata": {},
   "outputs": [],
   "source": []
  }
 ],
 "metadata": {
  "kernelspec": {
   "display_name": "Python [conda env:metis] *",
   "language": "python",
   "name": "conda-env-metis-py"
  },
  "language_info": {
   "codemirror_mode": {
    "name": "ipython",
    "version": 3
   },
   "file_extension": ".py",
   "mimetype": "text/x-python",
   "name": "python",
   "nbconvert_exporter": "python",
   "pygments_lexer": "ipython3",
   "version": "3.7.4"
  },
  "toc": {
   "base_numbering": 1,
   "nav_menu": {},
   "number_sections": false,
   "sideBar": true,
   "skip_h1_title": false,
   "title_cell": "Table of Contents",
   "title_sidebar": "Contents",
   "toc_cell": false,
   "toc_position": {},
   "toc_section_display": true,
   "toc_window_display": false
  }
 },
 "nbformat": 4,
 "nbformat_minor": 4
}
