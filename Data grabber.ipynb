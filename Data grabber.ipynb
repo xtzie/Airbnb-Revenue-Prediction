{
 "cells": [
  {
   "cell_type": "code",
   "execution_count": 2,
   "metadata": {
    "ExecuteTime": {
     "end_time": "2020-03-23T00:12:52.755033Z",
     "start_time": "2020-03-23T00:12:51.077167Z"
    }
   },
   "outputs": [],
   "source": [
    "import pandas as pd\n",
    "import numpy as np\n",
    "\n",
    "from selenium import webdriver \n",
    "from bs4 import BeautifulSoup\n",
    "import requests\n",
    "import time, os"
   ]
  },
  {
   "cell_type": "markdown",
   "metadata": {},
   "source": [
    "it's interesting, even after all the times you've done webscraping, it's still a bit of a black box to you. I suppose it's because you are copying and pasting code."
   ]
  },
  {
   "cell_type": "code",
   "execution_count": null,
   "metadata": {},
   "outputs": [],
   "source": [
    "#step 1\n",
    "#view the page"
   ]
  },
  {
   "cell_type": "code",
   "execution_count": 3,
   "metadata": {
    "ExecuteTime": {
     "end_time": "2020-03-23T00:20:37.028411Z",
     "start_time": "2020-03-23T00:20:13.067915Z"
    }
   },
   "outputs": [],
   "source": [
    "url = 'http://insideairbnb.com/get-the-data.html'\n",
    "\n",
    "page = requests.get(url).text"
   ]
  },
  {
   "cell_type": "markdown",
   "metadata": {},
   "source": [
    "NICE it's all in HTML! No need to activate selenium, fake user agent or other modules"
   ]
  },
  {
   "cell_type": "code",
   "execution_count": 25,
   "metadata": {
    "ExecuteTime": {
     "end_time": "2020-03-23T00:38:31.788547Z",
     "start_time": "2020-03-23T00:38:31.779759Z"
    }
   },
   "outputs": [],
   "source": [
    "# soup = BeautifulSoup(page, 'html5lib')"
   ]
  },
  {
   "cell_type": "markdown",
   "metadata": {},
   "source": [
    "#### San Francisco"
   ]
  },
  {
   "cell_type": "code",
   "execution_count": 14,
   "metadata": {
    "ExecuteTime": {
     "end_time": "2020-03-23T00:31:33.388853Z",
     "start_time": "2020-03-23T00:31:32.858964Z"
    }
   },
   "outputs": [],
   "source": [
    "#you need class_hyphen if not python will confuse it with class definition\n",
    "sf = soup.find('table',  class_= \"table table-hover table-striped san-francisco\")"
   ]
  },
  {
   "cell_type": "code",
   "execution_count": 183,
   "metadata": {
    "ExecuteTime": {
     "end_time": "2020-03-23T02:11:50.106277Z",
     "start_time": "2020-03-23T02:11:50.064276Z"
    }
   },
   "outputs": [
    {
     "data": {
      "text/plain": [
       "' '"
      ]
     },
     "execution_count": 183,
     "metadata": {},
     "output_type": "execute_result"
    }
   ],
   "source": [
    "for table_row in sf.find_all('tr', class_= 'archived')[2]:\n",
    "    shitty = list(table_row)\n",
    "    shit = [x for x in shitty]\n",
    "#     print(shit)\n",
    "shitty[2]"
   ]
  },
  {
   "cell_type": "code",
   "execution_count": 85,
   "metadata": {
    "ExecuteTime": {
     "end_time": "2020-03-23T01:32:26.447139Z",
     "start_time": "2020-03-23T01:32:26.413074Z"
    }
   },
   "outputs": [
    {
     "data": {
      "text/plain": [
       "True"
      ]
     },
     "execution_count": 85,
     "metadata": {},
     "output_type": "execute_result"
    }
   ],
   "source": [
    "test[1][0] = '<td>Detailed Listings data for San Francisco</td>'"
   ]
  },
  {
   "cell_type": "code",
   "execution_count": 128,
   "metadata": {
    "ExecuteTime": {
     "end_time": "2020-03-23T01:45:32.672426Z",
     "start_time": "2020-03-23T01:45:32.637589Z"
    }
   },
   "outputs": [
    {
     "data": {
      "text/plain": [
       "False"
      ]
     },
     "execution_count": 128,
     "metadata": {},
     "output_type": "execute_result"
    }
   ],
   "source": [
    "table_row.find_all('td')[3] == '<td>GeoJSON file of neighbourhoods of the city.</td>'"
   ]
  },
  {
   "cell_type": "markdown",
   "metadata": {},
   "source": [
    "#### New York"
   ]
  },
  {
   "cell_type": "code",
   "execution_count": null,
   "metadata": {},
   "outputs": [],
   "source": []
  }
 ],
 "metadata": {
  "kernelspec": {
   "display_name": "Python [conda env:metis] *",
   "language": "python",
   "name": "conda-env-metis-py"
  },
  "language_info": {
   "codemirror_mode": {
    "name": "ipython",
    "version": 3
   },
   "file_extension": ".py",
   "mimetype": "text/x-python",
   "name": "python",
   "nbconvert_exporter": "python",
   "pygments_lexer": "ipython3",
   "version": "3.7.4"
  },
  "toc": {
   "base_numbering": 1,
   "nav_menu": {},
   "number_sections": false,
   "sideBar": true,
   "skip_h1_title": false,
   "title_cell": "Table of Contents",
   "title_sidebar": "Contents",
   "toc_cell": false,
   "toc_position": {},
   "toc_section_display": true,
   "toc_window_display": false
  }
 },
 "nbformat": 4,
 "nbformat_minor": 4
}
