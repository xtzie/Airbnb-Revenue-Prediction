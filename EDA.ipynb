{
 "cells": [
  {
   "cell_type": "markdown",
   "metadata": {},
   "source": [
    "# Exploratory Data Analysis\n",
    "It's \n",
    "so feature engineering  \n",
    "review predictor (host description, room description, sentiment analysis, word complexity, description length)  \n",
    "AH. subdivide your listings first based on price. because you need to compare apples with apples\n",
    "\n",
    "base on the interquartile range  \n",
    "acceptable  \n",
    "above average  \n",
    "great  \n",
    "exceptional  \n",
    "see the distribution, then turn into a classification problem  \n",
    "\n",
    "what else goes into a review score?  \n",
    "did le-son use review and description together for topic modelling?  \n",
    "price predictor with seasonality component  \n",
    "accuracy classifier - class imbalance - use same features, but this is just a feature separate from the others  \n",
    "NIP OUTLIERS(quartile range, fixed value), NUMERICIZE, NORMALIZE  \n",
    "did le-son collapse some of the repeat columns?  \n",
    "surprised that review score did not play a bigger role in the score  \n",
    "perhaps it has more to do with occupancy  \n",
    "can do AB testing - photo quality, lower price"
   ]
  },
  {
   "cell_type": "code",
   "execution_count": null,
   "metadata": {},
   "outputs": [],
   "source": []
  },
  {
   "cell_type": "code",
   "execution_count": 1,
   "metadata": {
    "ExecuteTime": {
     "end_time": "2020-03-17T19:17:37.400105Z",
     "start_time": "2020-03-17T19:17:34.467081Z"
    }
   },
   "outputs": [
    {
     "name": "stdout",
     "output_type": "stream",
     "text": [
      "sf (8587, 106)\n",
      "<class 'pandas.core.frame.DataFrame'>\n",
      "RangeIndex: 8587 entries, 0 to 8586\n",
      "Columns: 106 entries, id to reviews_per_month\n",
      "dtypes: float64(20), int64(23), object(63)\n",
      "memory usage: 6.9+ MB\n"
     ]
    },
    {
     "name": "stderr",
     "output_type": "stream",
     "text": [
      "/home/xtzie/anaconda3/envs/metis/lib/python3.7/site-packages/IPython/core/interactiveshell.py:3051: DtypeWarning: Columns (61,62) have mixed types. Specify dtype option on import or set low_memory=False.\n",
      "  interactivity=interactivity, compiler=compiler, result=result)\n"
     ]
    }
   ],
   "source": [
    "import pandas as pd\n",
    "import numpy as np\n",
    "import matplotlib.pyplot as plt\n",
    "import seaborn as sns\n",
    "\n",
    "from sklearn.preprocessing import QuantileTransformer, PowerTransformer\n",
    "\n",
    "pd.set_option('max_columns', 100)\n",
    "pd.set_option('max_rows', 110)\n",
    "\n",
    "lapath = 'data/losangeles-13feb/listings (1).csv'\n",
    "pathname = 'data/sf-12feb/listings (1).csv'\n",
    "nypath = 'data/newyork-12feb/listings (1).csv'\n",
    "\n",
    "df = pd.read_csv(pathname)\n",
    "print('sf', df.shape)\n",
    "df.info()\n"
   ]
  },
  {
   "cell_type": "code",
   "execution_count": 2,
   "metadata": {
    "ExecuteTime": {
     "end_time": "2020-03-17T19:17:37.419370Z",
     "start_time": "2020-03-17T19:17:37.402866Z"
    }
   },
   "outputs": [],
   "source": [
    "#we drop columns that don't have bearing on the customer\n",
    "neededcolumns = ['id', 'listing_url', 'name', 'summary', 'space', 'description',\n",
    "                 'neighborhood_overview', 'notes', 'transit', 'access', 'interaction', 'house_rules', \n",
    "                 'host_id', 'host_url', 'host_since', 'host_about', 'host_response_time', \n",
    "                 'host_response_rate', 'host_acceptance_rate', 'host_is_superhost', 'host_neighbourhood',\n",
    "                'host_listings_count', 'host_has_profile_pic', 'host_identity_verified', \n",
    "                'neighbourhood_cleansed', 'zipcode', 'latitude', 'longitude', 'property_type', 'room_type', \n",
    "                'accommodates', 'bathrooms', 'bedrooms', 'beds', 'bed_type', 'amenities', 'price', 'weekly_price',\n",
    "                'security_deposit', 'cleaning_fee', 'guests_included', 'extra_people', 'minimum_nights', 'maximum_nights',\n",
    "                'number_of_reviews', 'number_of_reviews_ltm', 'first_review', 'last_review', 'review_scores_rating',\n",
    "                'instant_bookable', 'is_business_travel_ready', 'cancellation_policy', 'require_guest_profile_picture',\n",
    "                'require_guest_phone_verification', 'calculated_host_listings_count', 'reviews_per_month']\n",
    "#what is this 'adjusted' nonsense. whtever don't include it\n",
    "#how is availability used?\n",
    "\n",
    "df = df[neededcolumns]\n",
    "\n",
    "# df.info()\n",
    "#normalize (why though - because we want it to correspond and predict natural phenomena) \n",
    "#numericalize - because your computer deals best with that (convert into categoricals, or one hot encode)\n",
    "# nip off outliers they can seriously skew your model - usually use points more or less than 4 quartiles\n",
    "\n",
    "#2 other things you can do for general hygiene\n",
    "# create buckets for small data bits\n",
    "# fill null values with the mean or some default value\n",
    "\n",
    "#create host experience - today() minus host since\n",
    "#responsiveness = time to respond * rate\n",
    "#host neighborhood - IF same as neighborhood - make it binary\n",
    "#neighborhood has to be dummified\n"
   ]
  },
  {
   "cell_type": "code",
   "execution_count": 3,
   "metadata": {
    "ExecuteTime": {
     "end_time": "2020-03-17T19:17:37.432643Z",
     "start_time": "2020-03-17T19:17:37.422567Z"
    }
   },
   "outputs": [],
   "source": [
    "# import pandas_profiling\n",
    "\n",
    "# report = pandas_profiling.ProfileReport(df, html = {'style': {'full_width': True}})\n",
    "# report"
   ]
  },
  {
   "cell_type": "code",
   "execution_count": 4,
   "metadata": {
    "ExecuteTime": {
     "end_time": "2020-03-17T19:17:37.454569Z",
     "start_time": "2020-03-17T19:17:37.436026Z"
    }
   },
   "outputs": [],
   "source": [
    "#Some of these things have no direct (e.g ID) or \n",
    "#limited effect (e.g almost all host require guest verification) on the actual product\n",
    "#so they will be excluded first\n",
    "excludefrommodel = ['id', 'listing_url', 'require_guest_phone_verification', \n",
    "                    'latitude', 'longitude', 'is_business_travel_ready', 'maximum_nights', 'minimum_nights',\n",
    "                    'host_id', 'host_url', 'host_has_profile_pic', 'host_listings_count']\n",
    "\n",
    "fornlp = ['access', 'description', 'host_about', 'house_rules', 'interaction', 'name', 'neighborhood_overview',\n",
    "         'notes', 'space', 'summary', 'transit']\n",
    "\n",
    "\n",
    "df.drop(labels = (excludefrommodel + fornlp), axis = 1, inplace = True)"
   ]
  },
  {
   "cell_type": "code",
   "execution_count": 5,
   "metadata": {
    "ExecuteTime": {
     "end_time": "2020-03-17T19:17:37.661411Z",
     "start_time": "2020-03-17T19:17:37.457991Z"
    }
   },
   "outputs": [],
   "source": [
    "#now we do our ftre engrg\n",
    "import re\n",
    "\n",
    "def dollarformat(x):\n",
    "    '''\n",
    "    convert currency strings into interger amounts\n",
    "    removes $ , and . \n",
    "    converts str into int\n",
    "    '''\n",
    "    try: \n",
    "        return round(int(re.sub('[$,,,.]', '', x))/100,1)\n",
    "    except:\n",
    "        return x\n",
    "\n",
    "\n",
    "df['cleaning_fee'] = df['cleaning_fee'].map(lambda x: dollarformat(x))\n",
    "df['extra_people'] = df['extra_people'].map(lambda x: dollarformat(x))\n",
    "df['price'] = df['price'].map(lambda x: dollarformat(x))\n",
    "df['security_deposit'] = df['security_deposit'].map(lambda x: dollarformat(x))\n",
    "df['weekly_price'] = df['weekly_price'].map(lambda x: dollarformat(x))\n",
    "# you will still have to deal with the null values\n",
    "#how do you want to deal with that?\n"
   ]
  },
  {
   "cell_type": "code",
   "execution_count": 6,
   "metadata": {
    "ExecuteTime": {
     "end_time": "2020-03-17T19:17:37.704387Z",
     "start_time": "2020-03-17T19:17:37.664765Z"
    }
   },
   "outputs": [],
   "source": [
    "#converting strings to date time\n",
    "df.first_review = pd.to_datetime(df.first_review)\n",
    "df.host_since = pd.to_datetime(df.host_since)\n",
    "df.last_review = pd.to_datetime(df.last_review)\n",
    "\n",
    "df['listing_age'] = pd.datetime.today() - df.first_review\n",
    "df['host_age'] = pd.datetime.today() - df.host_since"
   ]
  },
  {
   "cell_type": "code",
   "execution_count": 107,
   "metadata": {
    "ExecuteTime": {
     "end_time": "2020-03-18T02:19:48.642075Z",
     "start_time": "2020-03-18T02:19:48.308216Z"
    }
   },
   "outputs": [
    {
     "name": "stderr",
     "output_type": "stream",
     "text": [
      "/home/xtzie/anaconda3/envs/metis/lib/python3.7/site-packages/numpy/lib/histograms.py:839: RuntimeWarning: invalid value encountered in greater_equal\n",
      "  keep = (tmp_a >= first_edge)\n",
      "/home/xtzie/anaconda3/envs/metis/lib/python3.7/site-packages/numpy/lib/histograms.py:840: RuntimeWarning: invalid value encountered in less_equal\n",
      "  keep &= (tmp_a <= last_edge)\n"
     ]
    },
    {
     "data": {
      "text/plain": [
       "(array([ 414.,  229.,  341.,  418.,  225.,  822.,  610.,  780.,  735.,\n",
       "        1973.]),\n",
       " array([-2.23042914, -1.90196632, -1.5735035 , -1.24504067, -0.91657785,\n",
       "        -0.58811503, -0.25965221,  0.06881061,  0.39727343,  0.72573625,\n",
       "         1.05419907]),\n",
       " <a list of 10 Patch objects>)"
      ]
     },
     "execution_count": 107,
     "metadata": {},
     "output_type": "execute_result"
    },
    {
     "data": {
      "image/png": "[encoded data removed]",
      "text/plain": [
       "<Figure size 432x288 with 1 Axes>"
      ]
     },
     "metadata": {
      "needs_background": "light"
     },
     "output_type": "display_data"
    }
   ],
   "source": [
    "def percentage(x):\n",
    "    '''\n",
    "    convert % strings into interger amounts\n",
    "    removes % , and . \n",
    "    converts str into int\n",
    "    '''\n",
    "    try: \n",
    "        return round(int(re.sub('[%,,,.]', '', x))/100,2)\n",
    "    except:\n",
    "        return x\n",
    "\n",
    "df.host_acceptance_rate = df.host_acceptance_rate.map(lambda x: percentage(x))\n",
    "df.host_response_rate = df.host_response_rate.map(lambda x: percentage(x))\n",
    "\n",
    "def responsetime(x):\n",
    "    if x == 'a few days or more':\n",
    "        return int(1)\n",
    "    elif x == 'within a day':\n",
    "        return int(2)\n",
    "    elif x == 'within a few hours':\n",
    "        return int(3)\n",
    "    elif x == 'within an hour':\n",
    "        return int(4)\n",
    "    else:\n",
    "        return x\n",
    "    \n",
    "df.host_response_time = df.host_response_time.map(lambda x : responsetime(x))\n",
    "\n",
    "\n",
    "def truefalse(x):\n",
    "    if x == 't':\n",
    "        return 1\n",
    "    if x == 'f':\n",
    "        return 0\n",
    "    else:\n",
    "        return x\n",
    "\n",
    "df.host_is_superhost = df.host_is_superhost.map(lambda x : truefalse(x))\n",
    "df.instant_bookable = df.instant_bookable.map(lambda x : truefalse(x))\n",
    "df.host_identity_verified = df.host_identity_verified.map(lambda x : truefalse(x))\n",
    "df.require_guest_profile_picture = df.require_guest_profile_picture.map(lambda x : truefalse(x))\n",
    "# df.info()\n",
    "df.cancellation_policy.unique()\n",
    "\n",
    "def cancels(x):\n",
    "    if x == 'super_strict_60':\n",
    "        return int(1)\n",
    "    elif x == 'super_strict_30':\n",
    "        return int(2)\n",
    "    elif x == 'strict':\n",
    "        #Full refund for cancellations made within 48 hours of booking, \n",
    "        #if the check-in date is at least 14 days away. \n",
    "        #50% refund for cancellations made at least 7 days before check-in. \n",
    "        #No refunds for cancellations made within 7 days of check-in\n",
    "        return int(3)\n",
    "    elif x == 'strict_14_with_grace_period':\n",
    "        return int(4)\n",
    "    elif x == 'luxury_moderate':\n",
    "        return int(5)\n",
    "    elif x == 'moderate':\n",
    "        return int(5)\n",
    "    elif x == 'flexible':\n",
    "        #full refund 1 day before arrival\n",
    "        return int(6)\n",
    "    else:\n",
    "        return x\n",
    "#nag it what's the diff between luxury moderate\n",
    "    \n",
    "df.cancellation_policy = df.cancellation_policy.map(lambda x: cancels(x))\n",
    "\n",
    "def bedtype(x):\n",
    "    if x == 'Real Bed':\n",
    "        return 1\n",
    "    else:\n",
    "        return 0\n",
    "df.bed_type = df.bed_type.map(lambda x: bedtype(x))\n",
    "\n",
    "def room(x):\n",
    "    if x == 'Entire home/apt':\n",
    "        return 4\n",
    "    elif x == 'Private room':\n",
    "        return 3\n",
    "    elif x  == 'Hotel room':\n",
    "        return 2\n",
    "    elif x == 'Shared room':\n",
    "        return 1\n",
    "    else:\n",
    "        return x\n",
    "df.room_type = df.room_type.map(lambda x: room(x))\n",
    "\n",
    "df['adjusted'] = df['review_scores_rating']\n",
    "\n",
    "qt = QuantileTransformer(output_distribution = 'normal')\n",
    "pt = PowerTransformer(method = 'box-cox')\n",
    "\n",
    "df['adjusted'] = pt.fit_transform(df['adjusted'].values.reshape(-1,1))\n",
    "#wwww further consider removing scores that have 3 reviews or less!\n",
    "\n",
    "#TESTING CHUNK\n",
    "plt.hist(df.adjusted)\n",
    "# plt.xticks(rotation = 45, fontsize = 15)\n",
    "\n",
    "\n"
   ]
  },
  {
   "cell_type": "markdown",
   "metadata": {},
   "source": [
    "## MODELING"
   ]
  },
  {
   "cell_type": "code",
   "execution_count": 109,
   "metadata": {
    "ExecuteTime": {
     "end_time": "2020-03-18T02:20:42.141673Z",
     "start_time": "2020-03-18T02:20:42.109170Z"
    }
   },
   "outputs": [],
   "source": [
    "from sklearn.model_selection import train_test_split\n",
    "\n",
    "#wwwww need to come back to this later\n",
    "#include all the needed columns from ftre engrng\n",
    "simpleregtodrop = ['neighbourhood_cleansed', 'host_neighbourhood', 'zipcode', 'property_type', 'amenities', 'weekly_price', 'host_since', 'first_review', 'last_review', 'listing_age', 'host_age', 'review_scores_rating']\n",
    "smalld = df.drop(labels = simpleregtodrop, axis =1)\n",
    "\n",
    "#there's a minority of values where price == 0 so we will drop them out\n",
    "#we can impute values for our independent/x variables, but not our y variables\n",
    "smalld = smalld[smalld['price'] != 0]\n",
    "\n",
    "#wwwww need to come back to this later\n",
    "smalldf = smalld.fillna(value = 0)\n",
    "\n",
    "# smalldf['intercept'] = 1\n",
    "#wwww how does setting one of the x variables to 1 cause the model to intercept the y?\n",
    "\n",
    "X = smalldf.drop(labels = 'price', axis = 1)\n",
    "\n",
    "y = smalldf['price']\n",
    "\n",
    "X_train, X_test, y_train, y_test = train_test_split(X, y, test_size = 0.2, random_state = 42)\n"
   ]
  },
  {
   "cell_type": "code",
   "execution_count": 110,
   "metadata": {
    "ExecuteTime": {
     "end_time": "2020-03-18T02:20:42.829605Z",
     "start_time": "2020-03-18T02:20:42.816314Z"
    }
   },
   "outputs": [],
   "source": [
    "#wwwww\n",
    "#add visualizations\n",
    "y_train = np.log(y_train)\n",
    "\n"
   ]
  },
  {
   "cell_type": "code",
   "execution_count": 111,
   "metadata": {
    "ExecuteTime": {
     "end_time": "2020-03-18T02:20:44.737327Z",
     "start_time": "2020-03-18T02:20:43.598961Z"
    }
   },
   "outputs": [
    {
     "name": "stderr",
     "output_type": "stream",
     "text": [
      "/home/xtzie/anaconda3/envs/metis/lib/python3.7/site-packages/ipykernel_launcher.py:7: MatplotlibDeprecationWarning: \n",
      "The 'normed' kwarg was deprecated in Matplotlib 2.1 and will be removed in 3.1. Use 'density' instead.\n",
      "  import sys\n"
     ]
    },
    {
     "data": {
      "image/png": "[encoded data removed]",
      "text/plain": [
       "<Figure size 576x540 with 4 Axes>"
      ]
     },
     "metadata": {
      "needs_background": "light"
     },
     "output_type": "display_data"
    }
   ],
   "source": [
    "def plot_hist(n, titles, ranges):\n",
    "    \"\"\"\n",
    "    Quick helper function to plot histograms\n",
    "    \"\"\"\n",
    "    fig, ax = plt.subplots(n, figsize = (8, 7.5))\n",
    "    for i in range(n):\n",
    "        d, bins, patches = ax[i].hist(ranges[i], 50, normed = 1, alpha = 0.85)\n",
    "        ax[i].set_title(titles[i])\n",
    "        ax[i].set_xlabel(\"Daily Listing Price in Dollars\")\n",
    "        ax[i].set_ylabel(\"Frequency\")\n",
    "    plt.tight_layout()\n",
    "    plt.show()\n",
    "\n",
    "# Plot histograms of price distribution\n",
    "plot_hist(4, \n",
    "          ['Distribution of Listing Prices: All Data', 'Distribution of Listing Prices: \\$0 - \\$1000', \n",
    "               'Distribution of Listing Prices: \\$0 - \\$250','Log Transformed Distribution of Listing Prices: All Data'], \n",
    "          [y, y[y <= 1000], y[y < 250],y_train])\n",
    "\n"
   ]
  },
  {
   "cell_type": "code",
   "execution_count": 112,
   "metadata": {
    "ExecuteTime": {
     "end_time": "2020-03-18T02:20:48.191825Z",
     "start_time": "2020-03-18T02:20:47.893906Z"
    }
   },
   "outputs": [
    {
     "name": "stderr",
     "output_type": "stream",
     "text": [
      "/home/xtzie/anaconda3/envs/metis/lib/python3.7/site-packages/numpy/core/fromnumeric.py:2495: FutureWarning: Method .ptp is deprecated and will be removed in a future version. Use numpy.ptp instead.\n",
      "  return ptp(axis=axis, out=out, **kwargs)\n"
     ]
    },
    {
     "data": {
      "text/plain": [
       "Text(0, 0.5, 'Actual Price')"
      ]
     },
     "execution_count": 112,
     "metadata": {},
     "output_type": "execute_result"
    },
    {
     "data": {
      "image/png": "[encoded data removed]",
      "text/plain": [
       "<Figure size 720x288 with 1 Axes>"
      ]
     },
     "metadata": {
      "needs_background": "light"
     },
     "output_type": "display_data"
    }
   ],
   "source": [
    "import statsmodels.api as sm\n",
    "import statsmodels.formula.api as smf\n",
    "import patsy\n",
    "import scipy.stats as stats\n",
    "\n",
    "model = sm.OLS(y_train, sm.add_constant(X_train))\n",
    "fit = model.fit()\n",
    "\n",
    "test_set_pred = fit.predict(sm.add_constant(X_train))\n",
    "\n",
    "plt.figure(figsize=(10,4))\n",
    "plt.scatter(y_train, test_set_pred, alpha= .3)\n",
    "plt.plot(np.linspace(0,10000000,100), np.linspace(0,10000000,100))\n",
    "plt.ylim(0, 10)\n",
    "plt.xlim(0, 10)\n",
    "# print('r2 score is:', r2_score(y, test_set_pred))\n",
    "# print('mean absolute error(MAE) is:', mae(y_test, test_set_pred))\n",
    "plt.xlabel('Predicted Price', fontsize = 15, fontname = 'Helvetica', fontweight = 'bold')\n",
    "plt.ylabel('Actual Price', fontsize = 15, fontname = 'Arial', \n",
    "           fontweight = 'bold')"
   ]
  },
  {
   "cell_type": "code",
   "execution_count": 113,
   "metadata": {
    "ExecuteTime": {
     "end_time": "2020-03-18T02:20:50.846944Z",
     "start_time": "2020-03-18T02:20:50.742534Z"
    }
   },
   "outputs": [
    {
     "data": {
      "text/html": [
       "<table class=\"simpletable\">\n",
       "<caption>OLS Regression Results</caption>\n",
       "<tr>\n",
       "  <th>Dep. Variable:</th>          <td>price</td>      <th>  R-squared:         </th> <td>   0.473</td> \n",
       "</tr>\n",
       "<tr>\n",
       "  <th>Model:</th>                   <td>OLS</td>       <th>  Adj. R-squared:    </th> <td>   0.472</td> \n",
       "</tr>\n",
       "<tr>\n",
       "  <th>Method:</th>             <td>Least Squares</td>  <th>  F-statistic:       </th> <td>   279.6</td> \n",
       "</tr>\n",
       "<tr>\n",
       "  <th>Date:</th>             <td>Tue, 17 Mar 2020</td> <th>  Prob (F-statistic):</th>  <td>  0.00</td>  \n",
       "</tr>\n",
       "<tr>\n",
       "  <th>Time:</th>                 <td>19:20:50</td>     <th>  Log-Likelihood:    </th> <td> -5418.1</td> \n",
       "</tr>\n",
       "<tr>\n",
       "  <th>No. Observations:</th>      <td>  6868</td>      <th>  AIC:               </th> <td>1.088e+04</td>\n",
       "</tr>\n",
       "<tr>\n",
       "  <th>Df Residuals:</th>          <td>  6845</td>      <th>  BIC:               </th> <td>1.104e+04</td>\n",
       "</tr>\n",
       "<tr>\n",
       "  <th>Df Model:</th>              <td>    22</td>      <th>                     </th>     <td> </td>    \n",
       "</tr>\n",
       "<tr>\n",
       "  <th>Covariance Type:</th>      <td>nonrobust</td>    <th>                     </th>     <td> </td>    \n",
       "</tr>\n",
       "</table>\n",
       "<table class=\"simpletable\">\n",
       "<tr>\n",
       "                 <td></td>                   <th>coef</th>     <th>std err</th>      <th>t</th>      <th>P>|t|</th>  <th>[0.025</th>    <th>0.975]</th>  \n",
       "</tr>\n",
       "<tr>\n",
       "  <th>const</th>                          <td>    3.4886</td> <td>    0.063</td> <td>   55.324</td> <td> 0.000</td> <td>    3.365</td> <td>    3.612</td>\n",
       "</tr>\n",
       "<tr>\n",
       "  <th>host_response_time</th>             <td>    0.0046</td> <td>    0.014</td> <td>    0.333</td> <td> 0.739</td> <td>   -0.022</td> <td>    0.031</td>\n",
       "</tr>\n",
       "<tr>\n",
       "  <th>host_response_rate</th>             <td>   -0.1094</td> <td>    0.051</td> <td>   -2.132</td> <td> 0.033</td> <td>   -0.210</td> <td>   -0.009</td>\n",
       "</tr>\n",
       "<tr>\n",
       "  <th>host_acceptance_rate</th>           <td>   -0.1079</td> <td>    0.029</td> <td>   -3.719</td> <td> 0.000</td> <td>   -0.165</td> <td>   -0.051</td>\n",
       "</tr>\n",
       "<tr>\n",
       "  <th>host_is_superhost</th>              <td>    0.0761</td> <td>    0.015</td> <td>    4.935</td> <td> 0.000</td> <td>    0.046</td> <td>    0.106</td>\n",
       "</tr>\n",
       "<tr>\n",
       "  <th>host_identity_verified</th>         <td>    0.0095</td> <td>    0.014</td> <td>    0.665</td> <td> 0.506</td> <td>   -0.019</td> <td>    0.038</td>\n",
       "</tr>\n",
       "<tr>\n",
       "  <th>room_type</th>                      <td>    0.3120</td> <td>    0.012</td> <td>   26.564</td> <td> 0.000</td> <td>    0.289</td> <td>    0.335</td>\n",
       "</tr>\n",
       "<tr>\n",
       "  <th>accommodates</th>                   <td>    0.1355</td> <td>    0.007</td> <td>   19.695</td> <td> 0.000</td> <td>    0.122</td> <td>    0.149</td>\n",
       "</tr>\n",
       "<tr>\n",
       "  <th>bathrooms</th>                      <td>   -0.0166</td> <td>    0.008</td> <td>   -2.054</td> <td> 0.040</td> <td>   -0.032</td> <td>   -0.001</td>\n",
       "</tr>\n",
       "<tr>\n",
       "  <th>bedrooms</th>                       <td>    0.1507</td> <td>    0.012</td> <td>   12.434</td> <td> 0.000</td> <td>    0.127</td> <td>    0.174</td>\n",
       "</tr>\n",
       "<tr>\n",
       "  <th>beds</th>                           <td>   -0.0429</td> <td>    0.010</td> <td>   -4.370</td> <td> 0.000</td> <td>   -0.062</td> <td>   -0.024</td>\n",
       "</tr>\n",
       "<tr>\n",
       "  <th>bed_type</th>                       <td>-5.467e-16</td> <td> 5.61e-17</td> <td>   -9.738</td> <td> 0.000</td> <td>-6.57e-16</td> <td>-4.37e-16</td>\n",
       "</tr>\n",
       "<tr>\n",
       "  <th>security_deposit</th>               <td> 4.347e-05</td> <td> 1.04e-05</td> <td>    4.161</td> <td> 0.000</td> <td>  2.3e-05</td> <td> 6.39e-05</td>\n",
       "</tr>\n",
       "<tr>\n",
       "  <th>cleaning_fee</th>                   <td>   -0.0001</td> <td>    0.000</td> <td>   -0.980</td> <td> 0.327</td> <td>   -0.000</td> <td>    0.000</td>\n",
       "</tr>\n",
       "<tr>\n",
       "  <th>guests_included</th>                <td>    0.0130</td> <td>    0.006</td> <td>    2.041</td> <td> 0.041</td> <td>    0.001</td> <td>    0.025</td>\n",
       "</tr>\n",
       "<tr>\n",
       "  <th>extra_people</th>                   <td>    0.0006</td> <td>    0.000</td> <td>    2.520</td> <td> 0.012</td> <td>    0.000</td> <td>    0.001</td>\n",
       "</tr>\n",
       "<tr>\n",
       "  <th>number_of_reviews</th>              <td>   -0.0003</td> <td>    0.000</td> <td>   -2.084</td> <td> 0.037</td> <td>   -0.001</td> <td>-1.57e-05</td>\n",
       "</tr>\n",
       "<tr>\n",
       "  <th>number_of_reviews_ltm</th>          <td>    0.0010</td> <td>    0.001</td> <td>    1.344</td> <td> 0.179</td> <td>   -0.000</td> <td>    0.002</td>\n",
       "</tr>\n",
       "<tr>\n",
       "  <th>instant_bookable</th>               <td>    0.0483</td> <td>    0.015</td> <td>    3.312</td> <td> 0.001</td> <td>    0.020</td> <td>    0.077</td>\n",
       "</tr>\n",
       "<tr>\n",
       "  <th>cancellation_policy</th>            <td>    0.0090</td> <td>    0.008</td> <td>    1.121</td> <td> 0.262</td> <td>   -0.007</td> <td>    0.025</td>\n",
       "</tr>\n",
       "<tr>\n",
       "  <th>require_guest_profile_picture</th>  <td>   -0.0870</td> <td>    0.035</td> <td>   -2.473</td> <td> 0.013</td> <td>   -0.156</td> <td>   -0.018</td>\n",
       "</tr>\n",
       "<tr>\n",
       "  <th>calculated_host_listings_count</th> <td>    0.0006</td> <td>    0.000</td> <td>    4.250</td> <td> 0.000</td> <td>    0.000</td> <td>    0.001</td>\n",
       "</tr>\n",
       "<tr>\n",
       "  <th>reviews_per_month</th>              <td>   -0.0203</td> <td>    0.008</td> <td>   -2.584</td> <td> 0.010</td> <td>   -0.036</td> <td>   -0.005</td>\n",
       "</tr>\n",
       "<tr>\n",
       "  <th>adjusted</th>                       <td>    0.0780</td> <td>    0.008</td> <td>    9.964</td> <td> 0.000</td> <td>    0.063</td> <td>    0.093</td>\n",
       "</tr>\n",
       "</table>\n",
       "<table class=\"simpletable\">\n",
       "<tr>\n",
       "  <th>Omnibus:</th>       <td>2947.776</td> <th>  Durbin-Watson:     </th> <td>   1.965</td> \n",
       "</tr>\n",
       "<tr>\n",
       "  <th>Prob(Omnibus):</th>  <td> 0.000</td>  <th>  Jarque-Bera (JB):  </th> <td>36701.393</td>\n",
       "</tr>\n",
       "<tr>\n",
       "  <th>Skew:</th>           <td> 1.712</td>  <th>  Prob(JB):          </th> <td>    0.00</td> \n",
       "</tr>\n",
       "<tr>\n",
       "  <th>Kurtosis:</th>       <td>13.795</td>  <th>  Cond. No.          </th> <td>4.96e+19</td> \n",
       "</tr>\n",
       "</table><br/><br/>Warnings:<br/>[1] Standard Errors assume that the covariance matrix of the errors is correctly specified.<br/>[2] The smallest eigenvalue is 1.71e-30. This might indicate that there are<br/>strong multicollinearity problems or that the design matrix is singular."
      ],
      "text/plain": [
       "<class 'statsmodels.iolib.summary.Summary'>\n",
       "\"\"\"\n",
       "                            OLS Regression Results                            \n",
       "==============================================================================\n",
       "Dep. Variable:                  price   R-squared:                       0.473\n",
       "Model:                            OLS   Adj. R-squared:                  0.472\n",
       "Method:                 Least Squares   F-statistic:                     279.6\n",
       "Date:                Tue, 17 Mar 2020   Prob (F-statistic):               0.00\n",
       "Time:                        19:20:50   Log-Likelihood:                -5418.1\n",
       "No. Observations:                6868   AIC:                         1.088e+04\n",
       "Df Residuals:                    6845   BIC:                         1.104e+04\n",
       "Df Model:                          22                                         \n",
       "Covariance Type:            nonrobust                                         \n",
       "==================================================================================================\n",
       "                                     coef    std err          t      P>|t|      [0.025      0.975]\n",
       "--------------------------------------------------------------------------------------------------\n",
       "const                              3.4886      0.063     55.324      0.000       3.365       3.612\n",
       "host_response_time                 0.0046      0.014      0.333      0.739      -0.022       0.031\n",
       "host_response_rate                -0.1094      0.051     -2.132      0.033      -0.210      -0.009\n",
       "host_acceptance_rate              -0.1079      0.029     -3.719      0.000      -0.165      -0.051\n",
       "host_is_superhost                  0.0761      0.015      4.935      0.000       0.046       0.106\n",
       "host_identity_verified             0.0095      0.014      0.665      0.506      -0.019       0.038\n",
       "room_type                          0.3120      0.012     26.564      0.000       0.289       0.335\n",
       "accommodates                       0.1355      0.007     19.695      0.000       0.122       0.149\n",
       "bathrooms                         -0.0166      0.008     -2.054      0.040      -0.032      -0.001\n",
       "bedrooms                           0.1507      0.012     12.434      0.000       0.127       0.174\n",
       "beds                              -0.0429      0.010     -4.370      0.000      -0.062      -0.024\n",
       "bed_type                       -5.467e-16   5.61e-17     -9.738      0.000   -6.57e-16   -4.37e-16\n",
       "security_deposit                4.347e-05   1.04e-05      4.161      0.000     2.3e-05    6.39e-05\n",
       "cleaning_fee                      -0.0001      0.000     -0.980      0.327      -0.000       0.000\n",
       "guests_included                    0.0130      0.006      2.041      0.041       0.001       0.025\n",
       "extra_people                       0.0006      0.000      2.520      0.012       0.000       0.001\n",
       "number_of_reviews                 -0.0003      0.000     -2.084      0.037      -0.001   -1.57e-05\n",
       "number_of_reviews_ltm              0.0010      0.001      1.344      0.179      -0.000       0.002\n",
       "instant_bookable                   0.0483      0.015      3.312      0.001       0.020       0.077\n",
       "cancellation_policy                0.0090      0.008      1.121      0.262      -0.007       0.025\n",
       "require_guest_profile_picture     -0.0870      0.035     -2.473      0.013      -0.156      -0.018\n",
       "calculated_host_listings_count     0.0006      0.000      4.250      0.000       0.000       0.001\n",
       "reviews_per_month                 -0.0203      0.008     -2.584      0.010      -0.036      -0.005\n",
       "adjusted                           0.0780      0.008      9.964      0.000       0.063       0.093\n",
       "==============================================================================\n",
       "Omnibus:                     2947.776   Durbin-Watson:                   1.965\n",
       "Prob(Omnibus):                  0.000   Jarque-Bera (JB):            36701.393\n",
       "Skew:                           1.712   Prob(JB):                         0.00\n",
       "Kurtosis:                      13.795   Cond. No.                     4.96e+19\n",
       "==============================================================================\n",
       "\n",
       "Warnings:\n",
       "[1] Standard Errors assume that the covariance matrix of the errors is correctly specified.\n",
       "[2] The smallest eigenvalue is 1.71e-30. This might indicate that there are\n",
       "strong multicollinearity problems or that the design matrix is singular.\n",
       "\"\"\""
      ]
     },
     "execution_count": 113,
     "metadata": {},
     "output_type": "execute_result"
    }
   ],
   "source": [
    "\n",
    "\n",
    "from sklearn.linear_model import LinearRegression\n",
    "from sklearn.model_selection import cross_val_score, KFold\n",
    "\n",
    "fivesplits = KFold(n_splits = 5, shuffle = True, random_state = 7)\n",
    "\n",
    "#we'll also do a cross validation to see model performance on top of ordinary least squares\n",
    "np.mean(cross_val_score(LinearRegression(), X_train, y_train, cv = fivesplits, scoring = 'r2'))\n",
    "\n",
    "#okay not too bad.. we'll continue on\n",
    "#https://sukhbinder.wordpress.com/2018/08/07/cross-validation-score-with-statsmodels/\n",
    "fit.summary()"
   ]
  },
  {
   "cell_type": "code",
   "execution_count": null,
   "metadata": {},
   "outputs": [],
   "source": []
  },
  {
   "cell_type": "code",
   "execution_count": 12,
   "metadata": {
    "ExecuteTime": {
     "end_time": "2020-03-17T19:17:39.472383Z",
     "start_time": "2020-03-17T19:17:39.216625Z"
    }
   },
   "outputs": [
    {
     "ename": "NameError",
     "evalue": "name 'corr_matrix' is not defined",
     "output_type": "error",
     "traceback": [
      "\u001b[0;31m---------------------------------------------------------------------------\u001b[0m",
      "\u001b[0;31mNameError\u001b[0m                                 Traceback (most recent call last)",
      "\u001b[0;32m<ipython-input-12-3841f1b90496>\u001b[0m in \u001b[0;36m<module>\u001b[0;34m\u001b[0m\n\u001b[1;32m      1\u001b[0m \u001b[0;31m#the matrix is symmetric so we need to extract upper triangle matrix without diagonal (k = 1)\u001b[0m\u001b[0;34m\u001b[0m\u001b[0;34m\u001b[0m\u001b[0;34m\u001b[0m\u001b[0m\n\u001b[0;32m----> 2\u001b[0;31m sol = (corr_matrix.where(np.triu(np.ones(corr_matrix.shape), k=1).astype(np.bool))\n\u001b[0m\u001b[1;32m      3\u001b[0m                  \u001b[0;34m.\u001b[0m\u001b[0mstack\u001b[0m\u001b[0;34m(\u001b[0m\u001b[0;34m)\u001b[0m\u001b[0;34m\u001b[0m\u001b[0;34m\u001b[0m\u001b[0m\n\u001b[1;32m      4\u001b[0m                  .sort_values(ascending=False))\n\u001b[1;32m      5\u001b[0m \u001b[0;31m#first element of sol series is the pair with the bigest correlation\u001b[0m\u001b[0;34m\u001b[0m\u001b[0;34m\u001b[0m\u001b[0;34m\u001b[0m\u001b[0m\n",
      "\u001b[0;31mNameError\u001b[0m: name 'corr_matrix' is not defined"
     ]
    }
   ],
   "source": [
    "#the matrix is symmetric so we need to extract upper triangle matrix without diagonal (k = 1)\n",
    "sol = (corr_matrix.where(np.triu(np.ones(corr_matrix.shape), k=1).astype(np.bool))\n",
    "                 .stack()\n",
    "                 .sort_values(ascending=False))\n",
    "#first element of sol series is the pair with the bigest correlation\n",
    "#https://stackoverflow.com/questions/17778394/list-highest-correlation-pairs-from-a-large-correlation-matrix-in-pandas\n",
    "sol"
   ]
  },
  {
   "cell_type": "markdown",
   "metadata": {},
   "source": [
    "### Helper Functions\n",
    "We will create generalizable functions to clean our data:  \n",
    "- outlier detection (data must be continuous)\n",
    "- filling null values\n",
    "- normalize and transform variables"
   ]
  },
  {
   "cell_type": "code",
   "execution_count": null,
   "metadata": {
    "ExecuteTime": {
     "end_time": "2020-03-17T19:17:39.474918Z",
     "start_time": "2020-03-17T19:17:34.569Z"
    }
   },
   "outputs": [],
   "source": [
    "#need to clean security deposit\n",
    "#transform amenities\n",
    "\n",
    "#LVA bucketing:\n",
    "#host response rate\n",
    "#host acceptance rate"
   ]
  },
  {
   "cell_type": "code",
   "execution_count": null,
   "metadata": {},
   "outputs": [],
   "source": []
  },
  {
   "cell_type": "markdown",
   "metadata": {},
   "source": [
    "### Feature Engineering\n",
    "We create meaningful features from existing ones"
   ]
  },
  {
   "cell_type": "code",
   "execution_count": 108,
   "metadata": {
    "ExecuteTime": {
     "end_time": "2020-03-18T02:20:04.037072Z",
     "start_time": "2020-03-18T02:20:03.806822Z"
    }
   },
   "outputs": [
    {
     "name": "stderr",
     "output_type": "stream",
     "text": [
      "/home/xtzie/anaconda3/envs/metis/lib/python3.7/site-packages/numpy/lib/histograms.py:839: RuntimeWarning: invalid value encountered in greater_equal\n",
      "  keep = (tmp_a >= first_edge)\n",
      "/home/xtzie/anaconda3/envs/metis/lib/python3.7/site-packages/numpy/lib/histograms.py:840: RuntimeWarning: invalid value encountered in less_equal\n",
      "  keep &= (tmp_a <= last_edge)\n"
     ]
    },
    {
     "data": {
      "text/plain": [
       "(array([147., 203., 266., 366., 224., 822., 609., 780., 735., 973.]),\n",
       " array([-2.22904864, -1.90072387, -1.5723991 , -1.24407433, -0.91574956,\n",
       "        -0.58742479, -0.25910002,  0.06922476,  0.39754953,  0.7258743 ,\n",
       "         1.05419907]),\n",
       " <a list of 10 Patch objects>)"
      ]
     },
     "execution_count": 108,
     "metadata": {},
     "output_type": "execute_result"
    },
    {
     "data": {
      "image/png": "[encoded data removed]",
      "text/plain": [
       "<Figure size 432x288 with 1 Axes>"
      ]
     },
     "metadata": {
      "needs_background": "light"
     },
     "output_type": "display_data"
    }
   ],
   "source": [
    "\n",
    "\n",
    "#can try a log then boxcox, but unlikely to yield much results. because this is not to do with magnitude\n",
    "# it's got to do with frequency\n",
    "\n",
    "minthreshold = 91.5    \n",
    "df['adjusted'] = df['review_scores_rating']\n",
    "\n",
    "qt = QuantileTransformer(output_distribution = 'normal')\n",
    "pt = PowerTransformer(method = 'box-cox')\n",
    "\n",
    "df['adjusted'] = pt.fit_transform(df['adjusted'].values.reshape(-1,1))\n",
    "# df['adjusted'] = df['adjusted'] ** 2\n",
    "# df['adjusted'] = pt.fit_transform(df['adjusted'].values.reshape(-1,1))\n",
    "# df['adjusted'] = df['adjusted'] ** 2\n",
    "# df['adjusted'] = pt.fit_transform(df['adjusted'].values.reshape(-1,1))\n",
    "\n",
    "#WWWWWW can we apply box-cox twice?\n",
    "\n",
    "df['adjusted'].describe()\n",
    "# plt.hist(sf[sf['number_of_reviews'] > 10]['review_scores_rating'])\n",
    "\n",
    "plt.hist(df[df['number_of_reviews'] > 3]['adjusted'])\n",
    "\n",
    "#so this is an interesting transformation, because we want to determine, exceptionally good\n",
    "#and i suppose exceptionally bad\n",
    "\n",
    "#ANYHOW, FORGET THESE REVIEWS. MOVE ON"
   ]
  },
  {
   "cell_type": "code",
   "execution_count": null,
   "metadata": {
    "ExecuteTime": {
     "end_time": "2020-03-17T19:17:39.479951Z",
     "start_time": "2020-03-17T19:17:34.587Z"
    }
   },
   "outputs": [],
   "source": [
    "x = df[(df['review_scores_rating'] <79) & (df['number_of_reviews'] > 7)].sort_values(by = 'review_scores_rating', ascending = False)\n",
    "test = df[(df['adjusted'] > 4) & (df['number_of_reviews'] > 7)].sort_values(by = 'adjusted', ascending = False)\n",
    "test.head()"
   ]
  },
  {
   "cell_type": "code",
   "execution_count": null,
   "metadata": {},
   "outputs": [],
   "source": []
  }
 ],
 "metadata": {
  "kernelspec": {
   "display_name": "Python [conda env:metis] *",
   "language": "python",
   "name": "conda-env-metis-py"
  },
  "language_info": {
   "codemirror_mode": {
    "name": "ipython",
    "version": 3
   },
   "file_extension": ".py",
   "mimetype": "text/x-python",
   "name": "python",
   "nbconvert_exporter": "python",
   "pygments_lexer": "ipython3",
   "version": "3.7.4"
  },
  "toc": {
   "base_numbering": 1,
   "nav_menu": {},
   "number_sections": false,
   "sideBar": true,
   "skip_h1_title": false,
   "title_cell": "Table of Contents",
   "title_sidebar": "Contents",
   "toc_cell": false,
   "toc_position": {},
   "toc_section_display": true,
   "toc_window_display": false
  }
 },
 "nbformat": 4,
 "nbformat_minor": 4
}
